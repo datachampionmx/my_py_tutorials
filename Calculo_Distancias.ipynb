{
 "cells": [
  {
   "cell_type": "code",
   "execution_count": 1,
   "metadata": {},
   "outputs": [],
   "source": [
    "import numpy as np\n",
    "import pandas as pd\n",
    "import geopandas as gpd #conda install geopandas\n",
    "import matplotlib.pyplot as plt\n",
    "\n",
    "from haversine import haversine"
   ]
  },
  {
   "cell_type": "markdown",
   "metadata": {},
   "source": [
    "## Data"
   ]
  },
  {
   "cell_type": "code",
   "execution_count": 2,
   "metadata": {},
   "outputs": [
    {
     "name": "stderr",
     "output_type": "stream",
     "text": [
      "C:\\Users\\Francisco Sarabia\\Anaconda3\\lib\\site-packages\\ipykernel_launcher.py:5: SettingWithCopyWarning: \n",
      "A value is trying to be set on a copy of a slice from a DataFrame.\n",
      "Try using .loc[row_indexer,col_indexer] = value instead\n",
      "\n",
      "See the caveats in the documentation: http://pandas.pydata.org/pandas-docs/stable/user_guide/indexing.html#returning-a-view-versus-a-copy\n",
      "  \"\"\"\n"
     ]
    }
   ],
   "source": [
    "PATH = 'C:/Users/Francisco Sarabia/Documents/0.datasets'\n",
    "STS = pd.read_csv(PATH+'/CAT-Estaciones_csv.csv', delimiter = '|')\n",
    "#STS.head()\n",
    "stations = STS[['ID', 'Name', 'Lat', 'Lon']]\n",
    "stations['LatLon'] = list(zip(stations.Lat, stations.Lon)) # in tuples!\n",
    "#stations.head()"
   ]
  },
  {
   "cell_type": "code",
   "execution_count": 5,
   "metadata": {},
   "outputs": [
    {
     "name": "stderr",
     "output_type": "stream",
     "text": [
      "C:\\Users\\Francisco Sarabia\\Anaconda3\\lib\\site-packages\\ipykernel_launcher.py:4: SettingWithCopyWarning: \n",
      "A value is trying to be set on a copy of a slice from a DataFrame.\n",
      "Try using .loc[row_indexer,col_indexer] = value instead\n",
      "\n",
      "See the caveats in the documentation: http://pandas.pydata.org/pandas-docs/stable/user_guide/indexing.html#returning-a-view-versus-a-copy\n",
      "  after removing the cwd from sys.path.\n"
     ]
    }
   ],
   "source": [
    "PTS = pd.read_csv(PATH+'/CAT-Hospitales-SEMOVI_csv.csv', delimiter = \"|\")\n",
    "#PTS.head()\n",
    "points = PTS[['ID', 'Name', 'Lat', 'Lon']]\n",
    "points['LatLon'] = list(zip(points.Lat, points.Lon)) # in tuples!\n",
    "#points.head()"
   ]
  },
  {
   "cell_type": "markdown",
   "metadata": {},
   "source": [
    "## Haversine"
   ]
  },
  {
   "cell_type": "code",
   "execution_count": 75,
   "metadata": {},
   "outputs": [],
   "source": [
    "dist = []\n",
    "\n",
    "for i in points['LatLon']:\n",
    "    for j in stations['LatLon']:\n",
    "        dist.append(str(haversine(i,j,unit='km')))\n",
    "\n",
    "#print(dist)"
   ]
  },
  {
   "cell_type": "code",
   "execution_count": 76,
   "metadata": {},
   "outputs": [
    {
     "data": {
      "text/plain": [
       "(29760, list)"
      ]
     },
     "execution_count": 76,
     "metadata": {},
     "output_type": "execute_result"
    }
   ],
   "source": [
    "len(dist), type(dist)"
   ]
  },
  {
   "cell_type": "code",
   "execution_count": 77,
   "metadata": {},
   "outputs": [
    {
     "data": {
      "text/html": [
       "<div>\n",
       "<style scoped>\n",
       "    .dataframe tbody tr th:only-of-type {\n",
       "        vertical-align: middle;\n",
       "    }\n",
       "\n",
       "    .dataframe tbody tr th {\n",
       "        vertical-align: top;\n",
       "    }\n",
       "\n",
       "    .dataframe thead th {\n",
       "        text-align: right;\n",
       "    }\n",
       "</style>\n",
       "<table border=\"1\" class=\"dataframe\">\n",
       "  <thead>\n",
       "    <tr style=\"text-align: right;\">\n",
       "      <th></th>\n",
       "      <th>0</th>\n",
       "    </tr>\n",
       "  </thead>\n",
       "  <tbody>\n",
       "    <tr>\n",
       "      <td>0</td>\n",
       "      <td>2.0191679899769865</td>\n",
       "    </tr>\n",
       "    <tr>\n",
       "      <td>1</td>\n",
       "      <td>1.940750117217219</td>\n",
       "    </tr>\n",
       "    <tr>\n",
       "      <td>2</td>\n",
       "      <td>2.9087157326082895</td>\n",
       "    </tr>\n",
       "    <tr>\n",
       "      <td>3</td>\n",
       "      <td>2.233239227743033</td>\n",
       "    </tr>\n",
       "    <tr>\n",
       "      <td>4</td>\n",
       "      <td>2.2324676404853667</td>\n",
       "    </tr>\n",
       "  </tbody>\n",
       "</table>\n",
       "</div>"
      ],
      "text/plain": [
       "                    0\n",
       "0  2.0191679899769865\n",
       "1   1.940750117217219\n",
       "2  2.9087157326082895\n",
       "3   2.233239227743033\n",
       "4  2.2324676404853667"
      ]
     },
     "execution_count": 77,
     "metadata": {},
     "output_type": "execute_result"
    }
   ],
   "source": [
    "distdf = pd.DataFrame(dist)\n",
    "distdf.to_csv('distdf.csv')\n",
    "distdf.head()"
   ]
  },
  {
   "cell_type": "markdown",
   "metadata": {},
   "source": [
    "## Lavels"
   ]
  },
  {
   "cell_type": "code",
   "execution_count": 153,
   "metadata": {},
   "outputs": [],
   "source": [
    "pairs = []\n",
    "\n",
    "for i in stations['ID']:\n",
    "    for j in points['ID']:\n",
    "        pairs.append(str(j) + \";\" + str(i))\n",
    "#print(pairs)"
   ]
  },
  {
   "cell_type": "code",
   "execution_count": 154,
   "metadata": {},
   "outputs": [
    {
     "data": {
      "text/plain": [
       "(29760, list)"
      ]
     },
     "execution_count": 154,
     "metadata": {},
     "output_type": "execute_result"
    }
   ],
   "source": [
    "len(pairs), type(pairs)"
   ]
  },
  {
   "cell_type": "code",
   "execution_count": 155,
   "metadata": {},
   "outputs": [
    {
     "data": {
      "text/html": [
       "<div>\n",
       "<style scoped>\n",
       "    .dataframe tbody tr th:only-of-type {\n",
       "        vertical-align: middle;\n",
       "    }\n",
       "\n",
       "    .dataframe tbody tr th {\n",
       "        vertical-align: top;\n",
       "    }\n",
       "\n",
       "    .dataframe thead th {\n",
       "        text-align: right;\n",
       "    }\n",
       "</style>\n",
       "<table border=\"1\" class=\"dataframe\">\n",
       "  <thead>\n",
       "    <tr style=\"text-align: right;\">\n",
       "      <th></th>\n",
       "      <th>0</th>\n",
       "    </tr>\n",
       "  </thead>\n",
       "  <tbody>\n",
       "    <tr>\n",
       "      <td>0</td>\n",
       "      <td>H1;1</td>\n",
       "    </tr>\n",
       "    <tr>\n",
       "      <td>1</td>\n",
       "      <td>H1;1</td>\n",
       "    </tr>\n",
       "    <tr>\n",
       "      <td>2</td>\n",
       "      <td>H2;1</td>\n",
       "    </tr>\n",
       "    <tr>\n",
       "      <td>3</td>\n",
       "      <td>H3;1</td>\n",
       "    </tr>\n",
       "    <tr>\n",
       "      <td>4</td>\n",
       "      <td>H4;1</td>\n",
       "    </tr>\n",
       "  </tbody>\n",
       "</table>\n",
       "</div>"
      ],
      "text/plain": [
       "      0\n",
       "0  H1;1\n",
       "1  H1;1\n",
       "2  H2;1\n",
       "3  H3;1\n",
       "4  H4;1"
      ]
     },
     "execution_count": 155,
     "metadata": {},
     "output_type": "execute_result"
    }
   ],
   "source": [
    "pairsdf = pd.DataFrame(pairs)\n",
    "pairsdf.to_csv('pairsdf.csv')\n",
    "pairsdf.head()"
   ]
  },
  {
   "cell_type": "markdown",
   "metadata": {},
   "source": [
    "## Laveling"
   ]
  },
  {
   "cell_type": "code",
   "execution_count": 80,
   "metadata": {},
   "outputs": [
    {
     "data": {
      "text/html": [
       "<div>\n",
       "<style scoped>\n",
       "    .dataframe tbody tr th:only-of-type {\n",
       "        vertical-align: middle;\n",
       "    }\n",
       "\n",
       "    .dataframe tbody tr th {\n",
       "        vertical-align: top;\n",
       "    }\n",
       "\n",
       "    .dataframe thead th {\n",
       "        text-align: right;\n",
       "    }\n",
       "</style>\n",
       "<table border=\"1\" class=\"dataframe\">\n",
       "  <thead>\n",
       "    <tr style=\"text-align: right;\">\n",
       "      <th></th>\n",
       "      <th>ids</th>\n",
       "      <th>dist</th>\n",
       "    </tr>\n",
       "  </thead>\n",
       "  <tbody>\n",
       "    <tr>\n",
       "      <td>0</td>\n",
       "      <td>H1;1</td>\n",
       "      <td>2.0191679899769865</td>\n",
       "    </tr>\n",
       "    <tr>\n",
       "      <td>1</td>\n",
       "      <td>H1;1</td>\n",
       "      <td>1.940750117217219</td>\n",
       "    </tr>\n",
       "    <tr>\n",
       "      <td>2</td>\n",
       "      <td>H2;1</td>\n",
       "      <td>2.9087157326082895</td>\n",
       "    </tr>\n",
       "    <tr>\n",
       "      <td>3</td>\n",
       "      <td>H3;1</td>\n",
       "      <td>2.233239227743033</td>\n",
       "    </tr>\n",
       "    <tr>\n",
       "      <td>4</td>\n",
       "      <td>H4;1</td>\n",
       "      <td>2.2324676404853667</td>\n",
       "    </tr>\n",
       "  </tbody>\n",
       "</table>\n",
       "</div>"
      ],
      "text/plain": [
       "    ids                dist\n",
       "0  H1;1  2.0191679899769865\n",
       "1  H1;1   1.940750117217219\n",
       "2  H2;1  2.9087157326082895\n",
       "3  H3;1   2.233239227743033\n",
       "4  H4;1  2.2324676404853667"
      ]
     },
     "execution_count": 80,
     "metadata": {},
     "output_type": "execute_result"
    }
   ],
   "source": [
    "length = len(dist)\n",
    "distances = pd.DataFrame({'ids':pairs, 'dist':dist})\n",
    "distances.head()"
   ]
  },
  {
   "cell_type": "code",
   "execution_count": 82,
   "metadata": {},
   "outputs": [
    {
     "data": {
      "text/plain": [
       "(ids     object\n",
       " dist    object\n",
       " dtype: object, pandas.core.frame.DataFrame, (29760, 2))"
      ]
     },
     "execution_count": 82,
     "metadata": {},
     "output_type": "execute_result"
    }
   ],
   "source": [
    "distances.dtypes, type(distances), distances.shape"
   ]
  },
  {
   "cell_type": "code",
   "execution_count": 83,
   "metadata": {},
   "outputs": [
    {
     "data": {
      "text/plain": [
       "0    2.019168\n",
       "1    1.940750\n",
       "2    2.908716\n",
       "3    2.233239\n",
       "4    2.232468\n",
       "Name: dist, dtype: float64"
      ]
     },
     "execution_count": 83,
     "metadata": {},
     "output_type": "execute_result"
    }
   ],
   "source": [
    "distances['dist'] = distances.dist.astype(float)\n",
    "distances['dist'].head()"
   ]
  },
  {
   "cell_type": "code",
   "execution_count": 84,
   "metadata": {},
   "outputs": [
    {
     "data": {
      "text/plain": [
       "(ids      object\n",
       " dist    float64\n",
       " dtype: object, pandas.core.frame.DataFrame, (29760, 2))"
      ]
     },
     "execution_count": 84,
     "metadata": {},
     "output_type": "execute_result"
    }
   ],
   "source": [
    "distances.dtypes, type(distances), distances.shape"
   ]
  },
  {
   "cell_type": "code",
   "execution_count": 85,
   "metadata": {},
   "outputs": [],
   "source": [
    "distances.to_csv('distances.csv')"
   ]
  },
  {
   "cell_type": "code",
   "execution_count": 94,
   "metadata": {
    "scrolled": true
   },
   "outputs": [
    {
     "data": {
      "text/html": [
       "<div>\n",
       "<style scoped>\n",
       "    .dataframe tbody tr th:only-of-type {\n",
       "        vertical-align: middle;\n",
       "    }\n",
       "\n",
       "    .dataframe tbody tr th {\n",
       "        vertical-align: top;\n",
       "    }\n",
       "\n",
       "    .dataframe thead th {\n",
       "        text-align: right;\n",
       "    }\n",
       "</style>\n",
       "<table border=\"1\" class=\"dataframe\">\n",
       "  <thead>\n",
       "    <tr style=\"text-align: right;\">\n",
       "      <th></th>\n",
       "      <th>ids</th>\n",
       "      <th>dist</th>\n",
       "    </tr>\n",
       "  </thead>\n",
       "  <tbody>\n",
       "    <tr>\n",
       "      <td>478</td>\n",
       "      <td>H44;8</td>\n",
       "      <td>0.288758</td>\n",
       "    </tr>\n",
       "    <tr>\n",
       "      <td>479</td>\n",
       "      <td>H45;8</td>\n",
       "      <td>0.029736</td>\n",
       "    </tr>\n",
       "    <tr>\n",
       "      <td>648</td>\n",
       "      <td>H28;11</td>\n",
       "      <td>0.255462</td>\n",
       "    </tr>\n",
       "    <tr>\n",
       "      <td>654</td>\n",
       "      <td>H34;11</td>\n",
       "      <td>0.220508</td>\n",
       "    </tr>\n",
       "    <tr>\n",
       "      <td>658</td>\n",
       "      <td>H38;11</td>\n",
       "      <td>0.220400</td>\n",
       "    </tr>\n",
       "  </tbody>\n",
       "</table>\n",
       "</div>"
      ],
      "text/plain": [
       "        ids      dist\n",
       "478   H44;8  0.288758\n",
       "479   H45;8  0.029736\n",
       "648  H28;11  0.255462\n",
       "654  H34;11  0.220508\n",
       "658  H38;11  0.220400"
      ]
     },
     "execution_count": 94,
     "metadata": {},
     "output_type": "execute_result"
    }
   ],
   "source": [
    "nearest = distances.query('dist < .3')\n",
    "#nearest = distances[(distances.dist < 3) & (distances.dist > 2)]\n",
    "nearest.head()"
   ]
  },
  {
   "cell_type": "code",
   "execution_count": 93,
   "metadata": {},
   "outputs": [
    {
     "data": {
      "text/plain": [
       "(1903, 2)"
      ]
     },
     "execution_count": 93,
     "metadata": {},
     "output_type": "execute_result"
    }
   ],
   "source": [
    "nearest.shape"
   ]
  },
  {
   "cell_type": "code",
   "execution_count": 96,
   "metadata": {},
   "outputs": [],
   "source": [
    "nearest.to_csv('nearest.csv')"
   ]
  },
  {
   "cell_type": "markdown",
   "metadata": {},
   "source": [
    "## METODO 2"
   ]
  },
  {
   "cell_type": "code",
   "execution_count": 3,
   "metadata": {},
   "outputs": [
    {
     "data": {
      "text/plain": [
       "(480, 5)"
      ]
     },
     "execution_count": 3,
     "metadata": {},
     "output_type": "execute_result"
    }
   ],
   "source": [
    "#stations.head()\n",
    "stations.shape"
   ]
  },
  {
   "cell_type": "code",
   "execution_count": 6,
   "metadata": {},
   "outputs": [
    {
     "data": {
      "text/plain": [
       "(62, 5)"
      ]
     },
     "execution_count": 6,
     "metadata": {},
     "output_type": "execute_result"
    }
   ],
   "source": [
    "#points.head()\n",
    "points.shape"
   ]
  },
  {
   "cell_type": "code",
   "execution_count": 7,
   "metadata": {},
   "outputs": [],
   "source": [
    "df1 = stations[['ID','Name', 'Lat', 'Lon', 'LatLon']].rename(columns={'ID':'id1', 'Name':'name1', 'Lat':'lat1','Lon':'lon1', 'LatLon':'LatLon1'})\n",
    "df2 = points[['ID','Name', 'Lat', 'Lon', 'LatLon']].rename(columns={'ID':'id2', 'Name':'name2', 'Lat':'lat2','Lon':'lon2', 'LatLon':'LatLon2'})"
   ]
  },
  {
   "cell_type": "code",
   "execution_count": 8,
   "metadata": {},
   "outputs": [
    {
     "data": {
      "text/html": [
       "<div>\n",
       "<style scoped>\n",
       "    .dataframe tbody tr th:only-of-type {\n",
       "        vertical-align: middle;\n",
       "    }\n",
       "\n",
       "    .dataframe tbody tr th {\n",
       "        vertical-align: top;\n",
       "    }\n",
       "\n",
       "    .dataframe thead th {\n",
       "        text-align: right;\n",
       "    }\n",
       "</style>\n",
       "<table border=\"1\" class=\"dataframe\">\n",
       "  <thead>\n",
       "    <tr style=\"text-align: right;\">\n",
       "      <th></th>\n",
       "      <th>id1</th>\n",
       "      <th>name1</th>\n",
       "      <th>lat1</th>\n",
       "      <th>lon1</th>\n",
       "      <th>LatLon1</th>\n",
       "    </tr>\n",
       "  </thead>\n",
       "  <tbody>\n",
       "    <tr>\n",
       "      <td>0</td>\n",
       "      <td>1</td>\n",
       "      <td>1 RIO SENA-RIO BALSAS</td>\n",
       "      <td>19.433571</td>\n",
       "      <td>-99.167809</td>\n",
       "      <td>(19.433571399999998, -99.16780909999999)</td>\n",
       "    </tr>\n",
       "    <tr>\n",
       "      <td>1</td>\n",
       "      <td>2</td>\n",
       "      <td>2 RIO GUADALQUIVIR-RIO BALSAS</td>\n",
       "      <td>19.431386</td>\n",
       "      <td>-99.171695</td>\n",
       "      <td>(19.431386, -99.171695)</td>\n",
       "    </tr>\n",
       "    <tr>\n",
       "      <td>2</td>\n",
       "      <td>3</td>\n",
       "      <td>3 REFORMA-INSURGENTES</td>\n",
       "      <td>19.431655</td>\n",
       "      <td>-99.158668</td>\n",
       "      <td>(19.431655, -99.158668)</td>\n",
       "    </tr>\n",
       "    <tr>\n",
       "      <td>3</td>\n",
       "      <td>4</td>\n",
       "      <td>4 RIO NILO-RIO PANUCO</td>\n",
       "      <td>19.428309</td>\n",
       "      <td>-99.171713</td>\n",
       "      <td>(19.428309, -99.171713)</td>\n",
       "    </tr>\n",
       "    <tr>\n",
       "      <td>4</td>\n",
       "      <td>5</td>\n",
       "      <td>5 RIO PANUCO-RIO TIBER</td>\n",
       "      <td>19.429720</td>\n",
       "      <td>-99.169363</td>\n",
       "      <td>(19.42972, -99.169363)</td>\n",
       "    </tr>\n",
       "  </tbody>\n",
       "</table>\n",
       "</div>"
      ],
      "text/plain": [
       "   id1                          name1       lat1       lon1  \\\n",
       "0    1          1 RIO SENA-RIO BALSAS  19.433571 -99.167809   \n",
       "1    2  2 RIO GUADALQUIVIR-RIO BALSAS  19.431386 -99.171695   \n",
       "2    3          3 REFORMA-INSURGENTES  19.431655 -99.158668   \n",
       "3    4          4 RIO NILO-RIO PANUCO  19.428309 -99.171713   \n",
       "4    5         5 RIO PANUCO-RIO TIBER  19.429720 -99.169363   \n",
       "\n",
       "                                    LatLon1  \n",
       "0  (19.433571399999998, -99.16780909999999)  \n",
       "1                   (19.431386, -99.171695)  \n",
       "2                   (19.431655, -99.158668)  \n",
       "3                   (19.428309, -99.171713)  \n",
       "4                    (19.42972, -99.169363)  "
      ]
     },
     "execution_count": 8,
     "metadata": {},
     "output_type": "execute_result"
    }
   ],
   "source": [
    "df1.head()"
   ]
  },
  {
   "cell_type": "code",
   "execution_count": 9,
   "metadata": {},
   "outputs": [
    {
     "data": {
      "text/html": [
       "<div>\n",
       "<style scoped>\n",
       "    .dataframe tbody tr th:only-of-type {\n",
       "        vertical-align: middle;\n",
       "    }\n",
       "\n",
       "    .dataframe tbody tr th {\n",
       "        vertical-align: top;\n",
       "    }\n",
       "\n",
       "    .dataframe thead th {\n",
       "        text-align: right;\n",
       "    }\n",
       "</style>\n",
       "<table border=\"1\" class=\"dataframe\">\n",
       "  <thead>\n",
       "    <tr style=\"text-align: right;\">\n",
       "      <th></th>\n",
       "      <th>id2</th>\n",
       "      <th>name2</th>\n",
       "      <th>lat2</th>\n",
       "      <th>lon2</th>\n",
       "      <th>LatLon2</th>\n",
       "    </tr>\n",
       "  </thead>\n",
       "  <tbody>\n",
       "    <tr>\n",
       "      <td>0</td>\n",
       "      <td>H1</td>\n",
       "      <td>Centro de Salud México - España</td>\n",
       "      <td>19.445945</td>\n",
       "      <td>-99.181903</td>\n",
       "      <td>(19.445945000000002, -99.181903)</td>\n",
       "    </tr>\n",
       "    <tr>\n",
       "      <td>1</td>\n",
       "      <td>H1</td>\n",
       "      <td>Centro Médico Quirúrgico Escandón</td>\n",
       "      <td>19.402750</td>\n",
       "      <td>-99.172515</td>\n",
       "      <td>(19.40275, -99.172515)</td>\n",
       "    </tr>\n",
       "    <tr>\n",
       "      <td>2</td>\n",
       "      <td>H2</td>\n",
       "      <td>Centro Médico Siglo XXI</td>\n",
       "      <td>19.406922</td>\n",
       "      <td>-99.154821</td>\n",
       "      <td>(19.406922, -99.154821)</td>\n",
       "    </tr>\n",
       "    <tr>\n",
       "      <td>3</td>\n",
       "      <td>H3</td>\n",
       "      <td>Centro Médico Tíber</td>\n",
       "      <td>19.432640</td>\n",
       "      <td>-99.170896</td>\n",
       "      <td>(19.43264, -99.170896)</td>\n",
       "    </tr>\n",
       "    <tr>\n",
       "      <td>4</td>\n",
       "      <td>H4</td>\n",
       "      <td>Clínica 38 IMSS</td>\n",
       "      <td>19.416483</td>\n",
       "      <td>-99.170102</td>\n",
       "      <td>(19.416483, -99.170102)</td>\n",
       "    </tr>\n",
       "  </tbody>\n",
       "</table>\n",
       "</div>"
      ],
      "text/plain": [
       "  id2                              name2       lat2       lon2  \\\n",
       "0  H1    Centro de Salud México - España  19.445945 -99.181903   \n",
       "1  H1  Centro Médico Quirúrgico Escandón  19.402750 -99.172515   \n",
       "2  H2            Centro Médico Siglo XXI  19.406922 -99.154821   \n",
       "3  H3                Centro Médico Tíber  19.432640 -99.170896   \n",
       "4  H4                    Clínica 38 IMSS  19.416483 -99.170102   \n",
       "\n",
       "                            LatLon2  \n",
       "0  (19.445945000000002, -99.181903)  \n",
       "1            (19.40275, -99.172515)  \n",
       "2           (19.406922, -99.154821)  \n",
       "3            (19.43264, -99.170896)  \n",
       "4           (19.416483, -99.170102)  "
      ]
     },
     "execution_count": 9,
     "metadata": {},
     "output_type": "execute_result"
    }
   ],
   "source": [
    "df2.head()"
   ]
  },
  {
   "cell_type": "code",
   "execution_count": 10,
   "metadata": {},
   "outputs": [
    {
     "data": {
      "text/plain": [
       "((480, 5), (62, 5))"
      ]
     },
     "execution_count": 10,
     "metadata": {},
     "output_type": "execute_result"
    }
   ],
   "source": [
    "df1.shape, df2.shape"
   ]
  },
  {
   "cell_type": "code",
   "execution_count": 11,
   "metadata": {},
   "outputs": [],
   "source": [
    "import math\n",
    "\n",
    "#def distance(origin, destination):\n",
    "#    lat1, lon1 = origin\n",
    "#    lat2, lon2 = destination\n",
    "#    radius = 6371 # km\n",
    "\n",
    "#    dlat = math.radians(lat2-lat1)\n",
    "#    dlon = math.radians(lon2-lon1)\n",
    "#    a = math.sin(dlat/2) * math.sin(dlat/2) + math.cos(math.radians(lat1)) \\\n",
    "#        * math.cos(math.radians(lat2)) * math.sin(dlon/2) * math.sin(dlon/2)\n",
    "#    c = 2 * math.atan2(math.sqrt(a), math.sqrt(1-a))\n",
    "#    d = radius * c\n",
    "\n",
    "#    return d\n",
    "\n",
    "def distance(origin, destination):\n",
    "    lat1, lon1 = origin\n",
    "    lat2, lon2 = destination\n",
    "    d = math.sqrt((lat1-lat2)**2 + (lon1-lon2)**2)\n",
    "    \n",
    "    return d"
   ]
  },
  {
   "cell_type": "code",
   "execution_count": 12,
   "metadata": {},
   "outputs": [
    {
     "name": "stdout",
     "output_type": "stream",
     "text": [
      "2 -3\n"
     ]
    }
   ],
   "source": [
    "origin = (2,-3)\n",
    "lat1, lon1 = origin\n",
    "print(lat1, lon1)"
   ]
  },
  {
   "cell_type": "code",
   "execution_count": 13,
   "metadata": {},
   "outputs": [],
   "source": [
    "dist = []\n",
    "\n",
    "for i in df2['LatLon2']:\n",
    "    for j in df1['LatLon1']:\n",
    "        dist.append(str(distance(i,j)))\n",
    "#        distance(i,j)\n",
    "#print(dist)"
   ]
  },
  {
   "cell_type": "code",
   "execution_count": 14,
   "metadata": {},
   "outputs": [
    {
     "data": {
      "text/plain": [
       "(29760, list)"
      ]
     },
     "execution_count": 14,
     "metadata": {},
     "output_type": "execute_result"
    }
   ],
   "source": [
    "len(dist), type(dist)"
   ]
  },
  {
   "cell_type": "code",
   "execution_count": 20,
   "metadata": {},
   "outputs": [],
   "source": [
    "pairs = []\n",
    "\n",
    "for i in df2['id2']:\n",
    "    for j in df1['id1']:\n",
    "        pairs.append(str(j) + \";\" + str(i))\n",
    "#print(pairs)"
   ]
  },
  {
   "cell_type": "code",
   "execution_count": 21,
   "metadata": {},
   "outputs": [],
   "source": [
    "distdf = pd.DataFrame(dist)\n",
    "distdf.to_csv('distdf.csv')\n",
    "#distdf.head()\n",
    "\n",
    "pairsdf = pd.DataFrame(pairs)\n",
    "pairsdf.to_csv('pairsdf.csv')\n",
    "#pairsdf.head()"
   ]
  },
  {
   "cell_type": "code",
   "execution_count": 22,
   "metadata": {},
   "outputs": [
    {
     "data": {
      "text/html": [
       "<div>\n",
       "<style scoped>\n",
       "    .dataframe tbody tr th:only-of-type {\n",
       "        vertical-align: middle;\n",
       "    }\n",
       "\n",
       "    .dataframe tbody tr th {\n",
       "        vertical-align: top;\n",
       "    }\n",
       "\n",
       "    .dataframe thead th {\n",
       "        text-align: right;\n",
       "    }\n",
       "</style>\n",
       "<table border=\"1\" class=\"dataframe\">\n",
       "  <thead>\n",
       "    <tr style=\"text-align: right;\">\n",
       "      <th></th>\n",
       "      <th>ids</th>\n",
       "      <th>dist</th>\n",
       "    </tr>\n",
       "  </thead>\n",
       "  <tbody>\n",
       "    <tr>\n",
       "      <td>0</td>\n",
       "      <td>1;H1</td>\n",
       "      <td>0.018754839220069566</td>\n",
       "    </tr>\n",
       "    <tr>\n",
       "      <td>1</td>\n",
       "      <td>2;H1</td>\n",
       "      <td>0.017781106405400527</td>\n",
       "    </tr>\n",
       "    <tr>\n",
       "      <td>2</td>\n",
       "      <td>3;H1</td>\n",
       "      <td>0.027277634153277636</td>\n",
       "    </tr>\n",
       "    <tr>\n",
       "      <td>3</td>\n",
       "      <td>4;H1</td>\n",
       "      <td>0.02036822515587168</td>\n",
       "    </tr>\n",
       "    <tr>\n",
       "      <td>4</td>\n",
       "      <td>5;H1</td>\n",
       "      <td>0.02050615090649884</td>\n",
       "    </tr>\n",
       "  </tbody>\n",
       "</table>\n",
       "</div>"
      ],
      "text/plain": [
       "    ids                  dist\n",
       "0  1;H1  0.018754839220069566\n",
       "1  2;H1  0.017781106405400527\n",
       "2  3;H1  0.027277634153277636\n",
       "3  4;H1   0.02036822515587168\n",
       "4  5;H1   0.02050615090649884"
      ]
     },
     "execution_count": 22,
     "metadata": {},
     "output_type": "execute_result"
    }
   ],
   "source": [
    "length = len(dist)\n",
    "distances2 = pd.DataFrame({'ids':pairs, 'dist':dist})\n",
    "distances2.head()"
   ]
  },
  {
   "cell_type": "code",
   "execution_count": 19,
   "metadata": {},
   "outputs": [],
   "source": [
    "distances2['dist'] = distances2.dist.astype(float)\n",
    "distances2['dist'].head()\n",
    "\n",
    "distances2.to_csv('distances3.csv')"
   ]
  },
  {
   "cell_type": "code",
   "execution_count": null,
   "metadata": {},
   "outputs": [],
   "source": []
  }
 ],
 "metadata": {
  "kernelspec": {
   "display_name": "Python 3",
   "language": "python",
   "name": "python3"
  },
  "language_info": {
   "codemirror_mode": {
    "name": "ipython",
    "version": 3
   },
   "file_extension": ".py",
   "mimetype": "text/x-python",
   "name": "python",
   "nbconvert_exporter": "python",
   "pygments_lexer": "ipython3",
   "version": "3.7.4"
  }
 },
 "nbformat": 4,
 "nbformat_minor": 2
}
