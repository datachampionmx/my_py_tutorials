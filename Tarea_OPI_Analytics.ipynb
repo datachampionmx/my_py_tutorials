{
 "cells": [
  {
   "cell_type": "markdown",
   "metadata": {},
   "source": [
    "# Prueba OPIAnalytics"
   ]
  },
  {
   "attachments": {},
   "cell_type": "markdown",
   "metadata": {},
   "source": [
    "## Prueba A. Estimacion de Bebes en Toluca\n",
    "\n",
    "El estimado de bebés de 0-6 meses en Toluca para el 2020 es de **16,672.1 bebés**.\n",
    "\n",
    "**Justificacion**:\n",
    "\n",
    "Con base a los datos:\n",
    "\n",
    "* Nacimientos registrados por Entidad federativa de residencia habitual de la madre, Periodo y Sexo (https://www.inegi.org.mx/app/tabulados/interactivos/default?px=Natalidad_01&bd=Natalidad, Con cifras que se refieren a los nacimientos registrados por entidad federativa de residencia habitual de la madre. Fuente: INEGI. Estadísticas de Natalidad.) \n",
    "* Principales resultados por AGEB y manzana urbana 8https://www.inegi.org.mx/contenidos/programas/ccpv/2010/datosabiertos/ageb_y_manzana/resageburb_15_2010_csv.zip\n",
    "\n",
    "Se proyectaron los nacimientos para el estado de México y se estimó la proporción correspondiente para Toluca. Esta proporcion se calculó mediante la métrica p_0a2, Toluca / EdoMex = 7436 / 121,937 = 6.1%\n",
    "\n",
    "En la sigiente tabla se muestran los datos involucrados:"
   ]
  },
  {
   "cell_type": "code",
   "execution_count": 2,
   "metadata": {},
   "outputs": [],
   "source": [
    "#### PYTHON_MY_WORKFLOWS Briefs\n",
    "\n",
    "import pandas as pd\n",
    "import numpy as np\n",
    "import matplotlib.pyplot as plt"
   ]
  },
  {
   "cell_type": "code",
   "execution_count": null,
   "metadata": {},
   "outputs": [],
   "source": [
    "PATH = \"C:/Users\\ROG/Downloads/Ejercicio_A(Bebes)/natalidad_Edomex.csv\"\n",
    "data = round(pd.read_csv(PATH),0).set_index('Year')#.fillna(0)# csv\n",
    "print(type(data))\n",
    "data"
   ]
  },
  {
   "cell_type": "code",
   "execution_count": null,
   "metadata": {},
   "outputs": [],
   "source": [
    "data['Total'].iloc[:8].plot(legend=True,marker='o')\n",
    "data['Fcst'].tail(4).plot(legend=True,marker='o')\n",
    "data['Fcst1'].tail(8).plot(legend=True,marker='o')\n",
    "data['Fcst2'].plot(legend=True,marker='o')"
   ]
  },
  {
   "cell_type": "markdown",
   "metadata": {},
   "source": [
    "El criterio de de pronóstico es el siguiente: Fcts1 es un MA(3) y Fcts2 una aproximación lineal y Fcts es un promedio de ambos."
   ]
  },
  {
   "cell_type": "code",
   "execution_count": null,
   "metadata": {},
   "outputs": [],
   "source": []
  }
 ],
 "metadata": {
  "kernelspec": {
   "display_name": "Python 3",
   "language": "python",
   "name": "python3"
  },
  "language_info": {
   "codemirror_mode": {
    "name": "ipython",
    "version": 3
   },
   "file_extension": ".py",
   "mimetype": "text/x-python",
   "name": "python",
   "nbconvert_exporter": "python",
   "pygments_lexer": "ipython3",
   "version": "3.7.4"
  }
 },
 "nbformat": 4,
 "nbformat_minor": 2
}
