{
 "cells": [
  {
   "cell_type": "code",
   "execution_count": 1,
   "metadata": {},
   "outputs": [],
   "source": [
    "import pandas as pd\n",
    "import numpy as np\n",
    "import geopandas as gpd #conda install geopandas\n",
    "import matplotlib.pyplot as plt\n",
    "import folium \n",
    "from shapely.ops import nearest_points\n",
    "from shapely.geometry import LineString, Point, box\n",
    "from pyproj import Proj"
   ]
  },
  {
   "cell_type": "code",
   "execution_count": 3,
   "metadata": {},
   "outputs": [],
   "source": [
    "PATH = 'C:/Users/Francisco Sarabia/Downloads/Datasets/'\n",
    "\n",
    "# https://datos.cdmx.gob.mx/explore/?sort=modified&refine.publisher=Secretar%C3%ADa+de+Movilidad\n",
    "\n",
    "# Contador ciclistas\n",
    "#'https://datos.cdmx.gob.mx/explore/dataset/contador-ciclistas/download/?format=csv&timezone=America/Mexico_City&lang=es&use_labels_for_header=true&csv_separator=%2C'\n",
    "\n",
    "# Intersecciones seguras \n",
    "#'https://datos.cdmx.gob.mx/explore/dataset/intersecciones-seguras/download/?format=csv&timezone=America/Mexico_City&lang=es&use_labels_for_header=true&csv_separator=%2C'\n",
    "#'https://datos.cdmx.gob.mx/explore/dataset/intersecciones-seguras/download/?format=shp&timezone=America/Mexico_City&lang=es'\n",
    "\n",
    "# Afluencia diaria del Metro CDMX\n",
    "#'https://datos.cdmx.gob.mx/explore/dataset/afluencia-diaria-del-metro-cdmx/download/?format=csv&timezone=America/Mexico_City&lang=es&use_labels_for_header=true&csv_separator=%2C'\n",
    "\n",
    "# Biciestacionamientos masivos \n",
    "#'https://datos.cdmx.gob.mx/explore/dataset/biciestacionamientos-masivos/download/?format=csv&timezone=America/Mexico_City&lang=es&use_labels_for_header=true&csv_separator=%2C'\n",
    "#'https://datos.cdmx.gob.mx/explore/dataset/biciestacionamientos-masivos/download/?format=shp&timezone=America/Mexico_City&lang=es'\n",
    "\n",
    "# Paradas de RTP\n",
    "b = 'https://datos.cdmx.gob.mx/explore/dataset/paradas-de-rtp/download/?format=csv&timezone=America/Mexico_City&lang=es&use_labels_for_header=true&csv_separator=%2C'\n",
    "#'https://datos.cdmx.gob.mx/explore/dataset/paradas-de-rtp/download/?format=shp&timezone=America/Mexico_City&lang=es'\n",
    "\n",
    "# Paradas de Trolebús\n",
    "c = 'https://datos.cdmx.gob.mx/explore/dataset/paradas-de-trolebus/download/?format=csv&timezone=America/Mexico_City&lang=es&use_labels_for_header=true&csv_separator=%2C'\n",
    "#'https://datos.cdmx.gob.mx/explore/dataset/paradas-de-trolebus/download/?format=shp&timezone=America/Mexico_City&lang=es'\n",
    "\n",
    "# Líneas de metro \n",
    "d = 'https://datos.cdmx.gob.mx/explore/dataset/lineas-de-metro/download/?format=csv&timezone=America/Mexico_City&lang=es&use_labels_for_header=true&csv_separator=%2C'\n",
    "#'https://datos.cdmx.gob.mx/explore/dataset/lineas-de-metro/download/?format=shp&timezone=America/Mexico_City&lang=es'\n",
    "\n",
    "# Ciclovías \n",
    "#'https://datos.cdmx.gob.mx/explore/dataset/ciclovias/download/?format=csv&timezone=America/Mexico_City&lang=es&use_labels_for_header=true&csv_separator=%2C'\n",
    "#'https://datos.cdmx.gob.mx/explore/dataset/ciclovias/download/?format=shp&timezone=America/Mexico_City&lang=es'\n",
    "\n",
    "# Estaciones, paradas y terminales del sistema de transporte unificado\n",
    "e = 'https://datos.cdmx.gob.mx/explore/dataset/estaciones-paradas-y-terminales-del-sistema-de-transporte-unificado/download/?format=csv&timezone=America/Mexico_City&lang=es&use_labels_for_header=true&csv_separator=%2C'\n",
    "#'https://datos.cdmx.gob.mx/explore/dataset/estaciones-paradas-y-terminales-del-sistema-de-transporte-unificado/download/?format=shp&timezone=America/Mexico_City&lang=es'\n",
    "\n",
    "# Pasos Seguros CDMX\n",
    "#'https://datos.cdmx.gob.mx/explore/dataset/pasos-seguros-cdmx/download/?format=csv&timezone=America/Mexico_City&lang=es&use_labels_for_header=true&csv_separator=%2C'\n",
    "#'https://datos.cdmx.gob.mx/explore/dataset/pasos-seguros-cdmx/download/?format=shp&timezone=America/Mexico_City&lang=es'\n",
    "\n",
    "# Rutas y corredores del transporte público concesionado \n",
    "#'https://datos.cdmx.gob.mx/explore/dataset/rutas-y-corredores-del-transporte-publico-concesionado/download/?format=csv&timezone=America/Mexico_City&lang=es&use_labels_for_header=true&csv_separator=%2C'\n",
    "#'https://datos.cdmx.gob.mx/explore/dataset/rutas-y-corredores-del-transporte-publico-concesionado/download/?format=shp&timezone=America/Mexico_City&lang=es'\n",
    "\n",
    "# Afluencia preliminar en transporte público \n",
    "#'https://datos.cdmx.gob.mx/explore/dataset/afluencia-preliminar-en-transporte-publico/download/?format=csv&timezone=America/Mexico_City&lang=es&use_labels_for_header=true&csv_separator=%2C'\n",
    "\n",
    "# Capacidad hospitalaria ZMVM\n",
    "f = 'https://datos.cdmx.gob.mx/explore/dataset/capacidad-hospitalaria/download/?format=csv&timezone=America/Mexico_City&lang=es&use_labels_for_header=true&csv_separator=%2C'\n",
    "#'https://datos.cdmx.gob.mx/explore/dataset/capacidad-hospitalaria/download/?format=geojson&timezone=America/Mexico_City&lang=es'\n",
    "\n",
    "# Hospitales COVID-19\n",
    "g = 'https://datos.cdmx.gob.mx/explore/dataset/hospitales-covid-19/download/?format=csv&timezone=America/Mexico_City&lang=es&use_labels_for_header=true&csv_separator=%2C'\n",
    "#'https://datos.cdmx.gob.mx/explore/dataset/hospitales-covid-19/download/?format=shp&timezone=America/Mexico_City&lang=es'\n",
    "\n",
    "# Personas hospitalizadas por día por COVID-19 \n",
    "h = 'https://datos.cdmx.gob.mx/explore/dataset/personas-hospitalizadas-covid19/download/?format=csv&timezone=America/Mexico_City&lang=es&use_labels_for_header=true&csv_separator=%2C'\n",
    "\n",
    "# Casos a nivel nacional asociados a covid-19 \n",
    "i = 'https://datos.cdmx.gob.mx/explore/dataset/casos-asociados-a-covid-19/download/?format=csv&timezone=America/Mexico_City&lang=es&use_labels_for_header=true&csv_separator=%2C'\n",
    "#'https://datos.cdmx.gob.mx/explore/dataset/casos-asociados-a-covid-19/download/?format=geojson&timezone=America/Mexico_City&lang=es'\n",
    "\n",
    "# Traslados a hospitales \n",
    "# 'https://datos.cdmx.gob.mx/explore/dataset/traslados-a-hospitales/download/?format=csv&timezone=America/Mexico_City&lang=es&use_labels_for_header=true&csv_separator=%2C'\n",
    "\n",
    "# Hospitales y Centros de Salud \n",
    "# \n",
    "j = 'https://datos.cdmx.gob.mx/explore/dataset/hospitales-y-centros-de-salud/download/?format=csv&timezone=America/Mexico_City&lang=es&use_labels_for_header=true&csv_separator=%2C'\n",
    "# 'https://datos.cdmx.gob.mx/explore/dataset/hospitales-y-centros-de-salud/download/?format=shp&timezone=America/Mexico_City&lang=es'\n",
    "\n",
    "\n",
    "# Interrupción legal del embarazo \n",
    "#'https://datos.cdmx.gob.mx/explore/dataset/interrupcion-legal-del-embarazo/download/?format=csv&timezone=America/Mexico_City&lang=es&use_labels_for_header=true&csv_separator=%2C'"
   ]
  },
  {
   "cell_type": "code",
   "execution_count": 4,
   "metadata": {},
   "outputs": [],
   "source": [
    "# Límite de las Alcaldías:\n",
    "# 'https://datos.cdmx.gob.mx/explore/dataset/limite-de-las-alcaldias/download/?format=csv&timezone=America/Mexico_City&lang=es&use_labels_for_header=true&csv_separator=%2C'\n",
    "# \n",
    "alcaldias = 'https://datos.cdmx.gob.mx/explore/dataset/limite-de-las-alcaldias/download/?format=shp&timezone=America/Mexico_City&lang=es'"
   ]
  },
  {
   "cell_type": "code",
   "execution_count": null,
   "metadata": {},
   "outputs": [],
   "source": []
  },
  {
   "cell_type": "code",
   "execution_count": 5,
   "metadata": {},
   "outputs": [
    {
     "data": {
      "text/plain": [
       "'https://datos.cdmx.gob.mx/explore/dataset/estaciones-paradas-y-terminales-del-sistema-de-transporte-unificado/download/?format=csv&timezone=America/Mexico_City&lang=es&use_labels_for_header=true&csv_separator=%2C'"
      ]
     },
     "execution_count": 5,
     "metadata": {},
     "output_type": "execute_result"
    }
   ],
   "source": [
    "e"
   ]
  },
  {
   "cell_type": "code",
   "execution_count": 2,
   "metadata": {},
   "outputs": [
    {
     "data": {
      "text/plain": [
       "'https://datos.cdmx.gob.mx/explore/dataset/casos-asociados-a-covid-19/download/?format=csv&timezone=America/Mexico_City&lang=es&use_labels_for_header=true&csv_separator=%2C'"
      ]
     },
     "execution_count": 2,
     "metadata": {},
     "output_type": "execute_result"
    }
   ],
   "source": [
    "i"
   ]
  },
  {
   "cell_type": "code",
   "execution_count": 5,
   "metadata": {
    "scrolled": true
   },
   "outputs": [],
   "source": [
    "#df% = pd.read_csv(%)#.sort_values('fecha', ascending=True)\n",
    "#df%.head(3)\n",
    "\n",
    "#df%.dtypes\n",
    "\n",
    "#type(df%), df%.shape\n",
    "\n",
    "#df%.to_csv(PATH+'COVID.csv')\n",
    "\n",
    "#plt.plot(df%['fecha'],df%[['hospitalizados_totales','hospitalizados_totales_cdmx', 'hospitalizados_totales_edomex']])\n",
    "#plt.show()"
   ]
  },
  {
   "cell_type": "code",
   "execution_count": null,
   "metadata": {},
   "outputs": [],
   "source": []
  },
  {
   "cell_type": "markdown",
   "metadata": {},
   "source": [
    "## Paradas de RTP"
   ]
  },
  {
   "cell_type": "code",
   "execution_count": 27,
   "metadata": {},
   "outputs": [],
   "source": [
    "dfB = pd.read_csv(b)#.sort_values('fecha', ascending=True)\n",
    "#dfB.head(2)"
   ]
  },
  {
   "cell_type": "code",
   "execution_count": 33,
   "metadata": {},
   "outputs": [],
   "source": [
    "#dfB.dtypes, dfB.shape"
   ]
  },
  {
   "cell_type": "code",
   "execution_count": 29,
   "metadata": {},
   "outputs": [],
   "source": [
    "dfB.rename(columns=\n",
    "           {'Geometry': 'geometry',\n",
    "            'stop_id': 'id',\n",
    "            'stop_name': 'nombre',\n",
    "            #'stop_desc' : ,\n",
    "            'stop_lat': 'lat',\n",
    "            'stop_lon':'lon',\n",
    "            'trip_heads': 'ruta',\n",
    "            #'agency_id',\n",
    "            #'route_long',\n",
    "            'geo_point_2d': 'lat,lon'}\n",
    "          , inplace=True)"
   ]
  },
  {
   "cell_type": "code",
   "execution_count": 30,
   "metadata": {},
   "outputs": [],
   "source": [
    "#dfB.dtypes, dfB.shape"
   ]
  },
  {
   "cell_type": "code",
   "execution_count": 31,
   "metadata": {},
   "outputs": [],
   "source": [
    "dfB = dfB[['geometry','nombre','lat','lon','ruta','lat,lon']]"
   ]
  },
  {
   "cell_type": "code",
   "execution_count": 32,
   "metadata": {},
   "outputs": [],
   "source": [
    "dfB.to_csv(PATH+'ParadasRTP.csv')"
   ]
  },
  {
   "cell_type": "code",
   "execution_count": 180,
   "metadata": {},
   "outputs": [
    {
     "data": {
      "image/png": "[encoded data removed]",
      "text/plain": [
       "<Figure size 432x288 with 1 Axes>"
      ]
     },
     "metadata": {
      "needs_background": "light"
     },
     "output_type": "display_data"
    }
   ],
   "source": [
    "#\n",
    "plt.scatter(dfB['lat'],dfB['lon'])\n",
    "#\n",
    "plt.show()"
   ]
  },
  {
   "cell_type": "markdown",
   "metadata": {},
   "source": [
    "## Paradas de Trolebus"
   ]
  },
  {
   "cell_type": "code",
   "execution_count": 34,
   "metadata": {},
   "outputs": [],
   "source": [
    "dfC = pd.read_csv(c)#.sort_values('fecha', ascending=True)\n",
    "#dfC.head(3)"
   ]
  },
  {
   "cell_type": "code",
   "execution_count": 35,
   "metadata": {},
   "outputs": [],
   "source": [
    "#dfC.dtypes, dfC.shape"
   ]
  },
  {
   "cell_type": "code",
   "execution_count": 36,
   "metadata": {},
   "outputs": [],
   "source": [
    "dfC.rename(columns=\n",
    "    {'Geometry':'geometry',\n",
    "     'stop_id':'id',\n",
    "     #'stop_code':'',\n",
    "     'stop_name':'name',\n",
    "     'stop_desc':'parada',\n",
    "     'stop_lat':'lat',\n",
    "     'stop_lon':'lon',\n",
    "     'trip_heads':'ruta',\n",
    "     #'agency_id':'',\n",
    "     #'route_long':'',\n",
    "     'geo_point_2d':'lat,lon'}\n",
    "     , inplace=True)\n"
   ]
  },
  {
   "cell_type": "code",
   "execution_count": 37,
   "metadata": {},
   "outputs": [],
   "source": [
    "dfC = dfC[['geometry',\n",
    "     'id',\n",
    "     'name',\n",
    "     'parada',\n",
    "     'lat',\n",
    "     'lon',\n",
    "     'ruta',\n",
    "     'lat,lon']]"
   ]
  },
  {
   "cell_type": "code",
   "execution_count": 169,
   "metadata": {},
   "outputs": [
    {
     "data": {
      "text/plain": [
       "(geometry     object\n",
       " id          float64\n",
       " name         object\n",
       " parada       object\n",
       " lat         float64\n",
       " lon         float64\n",
       " ruta         object\n",
       " lat,lon      object\n",
       " dtype: object, (596, 8))"
      ]
     },
     "execution_count": 169,
     "metadata": {},
     "output_type": "execute_result"
    }
   ],
   "source": [
    "dfC.dtypes, dfC.shape"
   ]
  },
  {
   "cell_type": "code",
   "execution_count": 39,
   "metadata": {},
   "outputs": [],
   "source": [
    "dfC.to_csv(PATH+'ParadasTrolebus.csv')"
   ]
  },
  {
   "cell_type": "code",
   "execution_count": 179,
   "metadata": {},
   "outputs": [
    {
     "data": {
      "image/png": "[encoded data removed]",
      "text/plain": [
       "<Figure size 432x288 with 1 Axes>"
      ]
     },
     "metadata": {
      "needs_background": "light"
     },
     "output_type": "display_data"
    }
   ],
   "source": [
    "#\n",
    "plt.scatter(dfC['lat'],dfC['lon'])\n",
    "#\n",
    "plt.show()"
   ]
  },
  {
   "cell_type": "markdown",
   "metadata": {},
   "source": [
    "## Paradas Metro"
   ]
  },
  {
   "cell_type": "code",
   "execution_count": 40,
   "metadata": {},
   "outputs": [],
   "source": [
    "dfD = pd.read_csv(d)#.sort_values('fecha', ascending=True)\n",
    "#dfD.head(3)"
   ]
  },
  {
   "cell_type": "code",
   "execution_count": 41,
   "metadata": {},
   "outputs": [],
   "source": [
    "#dfD.dtypes, dfD.shape"
   ]
  },
  {
   "cell_type": "code",
   "execution_count": 42,
   "metadata": {},
   "outputs": [],
   "source": [
    "dfD.rename(columns=\n",
    "           {'Name':'nombre',\n",
    "           'Geometry':'geometry',\n",
    "           #'descriptio':'',\n",
    "           #'altitudemo',\n",
    "           'geo_point_2d':'lat,lon'}\n",
    "           , inplace=True)"
   ]
  },
  {
   "cell_type": "code",
   "execution_count": 168,
   "metadata": {},
   "outputs": [
    {
     "data": {
      "text/plain": [
       "(nombre      object\n",
       " geometry    object\n",
       " lat,lon     object\n",
       " dtype: object, (12, 3))"
      ]
     },
     "execution_count": 168,
     "metadata": {},
     "output_type": "execute_result"
    }
   ],
   "source": [
    "dfD = dfD[['nombre',\n",
    "    'geometry',\n",
    "           #'descriptio':'',\n",
    "           #'altitudemo',\n",
    "    'lat,lon']]\n",
    "#dfD.dtypes, dfD.shape"
   ]
  },
  {
   "cell_type": "code",
   "execution_count": 44,
   "metadata": {},
   "outputs": [],
   "source": [
    "dfD.to_csv(PATH+'ParadasMetro.csv') ## muy chafa!!!"
   ]
  },
  {
   "cell_type": "markdown",
   "metadata": {},
   "source": [
    "## Estaciones, paradas y terminales del sistema de transporte unificado"
   ]
  },
  {
   "cell_type": "code",
   "execution_count": 45,
   "metadata": {},
   "outputs": [],
   "source": [
    "dfE = pd.read_csv(e)#.sort_values('fecha', ascending=True)\n",
    "#dfE.head(3)"
   ]
  },
  {
   "cell_type": "code",
   "execution_count": 46,
   "metadata": {},
   "outputs": [],
   "source": [
    "#dfE.dtypes, dfE.shape"
   ]
  },
  {
   "cell_type": "code",
   "execution_count": 48,
   "metadata": {},
   "outputs": [],
   "source": [
    "dfE = dfE.rename(columns= \n",
    "           {'stop_id':'id',\n",
    "           #'stop_code':'',\n",
    "           'stop_name':'nombre',\n",
    "           'stop_desc':'ruta',\n",
    "           'stop_lat':'lat',\n",
    "           'stop_lon':'lon',\n",
    "           #'zone_id':,\n",
    "           #'stop_url':,\n",
    "           #'location_type':,\n",
    "           #'parent_station':,\n",
    "           #'wheelchair_boarding':,\n",
    "           'geopoint':'lat,lon'}\n",
    "          )\n",
    "#dfE.head(1)"
   ]
  },
  {
   "cell_type": "code",
   "execution_count": 176,
   "metadata": {},
   "outputs": [
    {
     "data": {
      "text/plain": [
       "(id           int64\n",
       " nombre      object\n",
       " ruta        object\n",
       " lat        float64\n",
       " lon        float64\n",
       " lat,lon     object\n",
       " dtype: object, pandas.core.frame.DataFrame, (6021, 6))"
      ]
     },
     "execution_count": 176,
     "metadata": {},
     "output_type": "execute_result"
    }
   ],
   "source": [
    "dfE = dfE[ \n",
    "           ['id',\n",
    "           #'stop_code':'',\n",
    "           'nombre',\n",
    "           'ruta',\n",
    "           'lat',\n",
    "           'lon',\n",
    "           #'zone_id':,\n",
    "           #'stop_url':,\n",
    "           #'location_type':,\n",
    "           #'parent_station':,\n",
    "           #'wheelchair_boarding':,\n",
    "           'lat,lon']\n",
    "          ]\n",
    "#dfE.head(3)\n",
    "#\n",
    "dfE.dtypes, type(dfE), dfE.shape"
   ]
  },
  {
   "cell_type": "code",
   "execution_count": 50,
   "metadata": {},
   "outputs": [],
   "source": [
    "dfE.to_csv(PATH+'SistemaTransporteUnificado.csv')"
   ]
  },
  {
   "cell_type": "code",
   "execution_count": 178,
   "metadata": {},
   "outputs": [
    {
     "data": {
      "image/png": "[encoded data removed]",
      "text/plain": [
       "<Figure size 432x288 with 1 Axes>"
      ]
     },
     "metadata": {
      "needs_background": "light"
     },
     "output_type": "display_data"
    }
   ],
   "source": [
    "#\n",
    "plt.scatter(dfE['lat'],dfE['lon'])\n",
    "#\n",
    "plt.show()"
   ]
  },
  {
   "cell_type": "markdown",
   "metadata": {},
   "source": [
    "## Hospitales COVID-19"
   ]
  },
  {
   "cell_type": "code",
   "execution_count": 51,
   "metadata": {},
   "outputs": [],
   "source": [
    "dfG = pd.read_csv(g)#.sort_values('fecha', ascending=True)\n",
    "#dfG.head(2)"
   ]
  },
  {
   "cell_type": "code",
   "execution_count": 52,
   "metadata": {},
   "outputs": [],
   "source": [
    "#dfG.dtypes, dfG.shape"
   ]
  },
  {
   "cell_type": "code",
   "execution_count": 53,
   "metadata": {},
   "outputs": [],
   "source": [
    "dfG.rename(columns=\n",
    "           {'nombre_de_hospital':'nombre',\n",
    "            'tipo':'organismo',\n",
    "#            'abreviatura',\n",
    "#            'categoria',\n",
    "#            'entidad',\n",
    "            'coordenadas':'lat,lon'\n",
    "           }\n",
    "              , inplace=True)\n",
    "#dfG.dtypes, dfG.shape\n",
    "# dfG = dfG[[']]"
   ]
  },
  {
   "cell_type": "code",
   "execution_count": 54,
   "metadata": {},
   "outputs": [],
   "source": [
    "# Plit by commas and join to oirginal table 'dfG'\n",
    "#\n",
    "dfG['lat'] = dfG['lat,lon'].str.split(',', expand=True)[[0]]\n",
    "#dfG['lat']\n",
    "#\n",
    "dfG['lon'] = dfG['lat,lon'].str.split(',', expand=True)[[1]]\n",
    "#dfG['lon']"
   ]
  },
  {
   "cell_type": "code",
   "execution_count": 55,
   "metadata": {},
   "outputs": [],
   "source": [
    "#dfG.head(2)"
   ]
  },
  {
   "cell_type": "code",
   "execution_count": 172,
   "metadata": {},
   "outputs": [],
   "source": [
    "#dfG['lat'].astype(str).astype(int)\n",
    "dfG['lat'] = pd.to_numeric(dfG['lat'])\n",
    "dfG['lon'] = pd.to_numeric(dfG['lon'])"
   ]
  },
  {
   "cell_type": "code",
   "execution_count": 173,
   "metadata": {},
   "outputs": [
    {
     "data": {
      "text/plain": [
       "(nombre          object\n",
       " organismo       object\n",
       " abreviatura     object\n",
       " categoria       object\n",
       " entidad         object\n",
       " lat,lon         object\n",
       " lat            float64\n",
       " lon            float64\n",
       " dtype: object, (70, 8))"
      ]
     },
     "execution_count": 173,
     "metadata": {},
     "output_type": "execute_result"
    }
   ],
   "source": [
    "dfG.dtypes, dfG.shape"
   ]
  },
  {
   "cell_type": "code",
   "execution_count": 174,
   "metadata": {},
   "outputs": [],
   "source": [
    "dfG.to_csv(PATH+'HospitalesCOVID.csv')"
   ]
  },
  {
   "cell_type": "code",
   "execution_count": 175,
   "metadata": {},
   "outputs": [
    {
     "data": {
      "image/png": "[encoded data removed]",
      "text/plain": [
       "<Figure size 432x288 with 1 Axes>"
      ]
     },
     "metadata": {
      "needs_background": "light"
     },
     "output_type": "display_data"
    }
   ],
   "source": [
    "#\n",
    "plt.scatter(dfG['lat'],dfG['lon'])\n",
    "#\n",
    "plt.show()"
   ]
  },
  {
   "cell_type": "markdown",
   "metadata": {},
   "source": [
    "## Personas hospitalizadas por día por COVID-19 "
   ]
  },
  {
   "cell_type": "code",
   "execution_count": 5,
   "metadata": {},
   "outputs": [
    {
     "data": {
      "text/html": [
       "<div>\n",
       "<style scoped>\n",
       "    .dataframe tbody tr th:only-of-type {\n",
       "        vertical-align: middle;\n",
       "    }\n",
       "\n",
       "    .dataframe tbody tr th {\n",
       "        vertical-align: top;\n",
       "    }\n",
       "\n",
       "    .dataframe thead th {\n",
       "        text-align: right;\n",
       "    }\n",
       "</style>\n",
       "<table border=\"1\" class=\"dataframe\">\n",
       "  <thead>\n",
       "    <tr style=\"text-align: right;\">\n",
       "      <th></th>\n",
       "      <th>fecha</th>\n",
       "      <th>año</th>\n",
       "      <th>mes</th>\n",
       "      <th>dia</th>\n",
       "      <th>hospitalizados_totales</th>\n",
       "      <th>hospitalizados_totales_cdmx</th>\n",
       "      <th>hospitalizados_totales_edomex</th>\n",
       "      <th>camas_intubados_totales</th>\n",
       "      <th>camas_intubados_cdmx</th>\n",
       "      <th>camas_intubados_edomex</th>\n",
       "    </tr>\n",
       "  </thead>\n",
       "  <tbody>\n",
       "    <tr>\n",
       "      <td>0</td>\n",
       "      <td>2020-03-24</td>\n",
       "      <td>2020</td>\n",
       "      <td>marzo</td>\n",
       "      <td>24</td>\n",
       "      <td>50</td>\n",
       "      <td>50</td>\n",
       "      <td>0</td>\n",
       "      <td>39</td>\n",
       "      <td>39</td>\n",
       "      <td>0</td>\n",
       "    </tr>\n",
       "    <tr>\n",
       "      <td>23</td>\n",
       "      <td>2020-03-25</td>\n",
       "      <td>2020</td>\n",
       "      <td>marzo</td>\n",
       "      <td>25</td>\n",
       "      <td>105</td>\n",
       "      <td>105</td>\n",
       "      <td>0</td>\n",
       "      <td>33</td>\n",
       "      <td>33</td>\n",
       "      <td>0</td>\n",
       "    </tr>\n",
       "    <tr>\n",
       "      <td>24</td>\n",
       "      <td>2020-03-26</td>\n",
       "      <td>2020</td>\n",
       "      <td>marzo</td>\n",
       "      <td>26</td>\n",
       "      <td>128</td>\n",
       "      <td>128</td>\n",
       "      <td>0</td>\n",
       "      <td>42</td>\n",
       "      <td>42</td>\n",
       "      <td>0</td>\n",
       "    </tr>\n",
       "  </tbody>\n",
       "</table>\n",
       "</div>"
      ],
      "text/plain": [
       "         fecha   año    mes  dia  hospitalizados_totales  \\\n",
       "0   2020-03-24  2020  marzo   24                      50   \n",
       "23  2020-03-25  2020  marzo   25                     105   \n",
       "24  2020-03-26  2020  marzo   26                     128   \n",
       "\n",
       "    hospitalizados_totales_cdmx  hospitalizados_totales_edomex  \\\n",
       "0                            50                              0   \n",
       "23                          105                              0   \n",
       "24                          128                              0   \n",
       "\n",
       "    camas_intubados_totales  camas_intubados_cdmx  camas_intubados_edomex  \n",
       "0                        39                    39                       0  \n",
       "23                       33                    33                       0  \n",
       "24                       42                    42                       0  "
      ]
     },
     "execution_count": 5,
     "metadata": {},
     "output_type": "execute_result"
    }
   ],
   "source": [
    "dfH = pd.read_csv(h).sort_values('fecha', ascending=True)\n",
    "dfH.head(3)"
   ]
  },
  {
   "cell_type": "code",
   "execution_count": 6,
   "metadata": {},
   "outputs": [],
   "source": [
    "#dfH.dtypes"
   ]
  },
  {
   "cell_type": "code",
   "execution_count": 7,
   "metadata": {},
   "outputs": [],
   "source": [
    "#dfH.index"
   ]
  },
  {
   "cell_type": "code",
   "execution_count": 8,
   "metadata": {},
   "outputs": [
    {
     "data": {
      "text/plain": [
       "<matplotlib.axes._subplots.AxesSubplot at 0x28a6da85088>"
      ]
     },
     "execution_count": 8,
     "metadata": {},
     "output_type": "execute_result"
    },
    {
     "data": {
      "image/png": "[encoded data removed]",
      "text/plain": [
       "<Figure size 1440x360 with 1 Axes>"
      ]
     },
     "metadata": {
      "needs_background": "light"
     },
     "output_type": "display_data"
    }
   ],
   "source": [
    "dfH.set_index('fecha')[['hospitalizados_totales', \n",
    "                        'hospitalizados_totales_cdmx',\n",
    "                        'hospitalizados_totales_edomex']\n",
    "                      ].plot(figsize=(20, 5),linewidth=2.5,legend=True,marker='o')"
   ]
  },
  {
   "cell_type": "code",
   "execution_count": 9,
   "metadata": {},
   "outputs": [
    {
     "data": {
      "text/plain": [
       "<matplotlib.axes._subplots.AxesSubplot at 0x28a6e0489c8>"
      ]
     },
     "execution_count": 9,
     "metadata": {},
     "output_type": "execute_result"
    },
    {
     "data": {
      "image/png": "[encoded data removed]",
      "text/plain": [
       "<Figure size 1440x360 with 1 Axes>"
      ]
     },
     "metadata": {
      "needs_background": "light"
     },
     "output_type": "display_data"
    }
   ],
   "source": [
    "dfH.set_index('fecha')[['camas_intubados_totales', \n",
    "                        'camas_intubados_cdmx',\n",
    "                        'camas_intubados_edomex']\n",
    "                      ].plot(figsize=(20, 5),linewidth=2.5,legend=True,marker='o')"
   ]
  },
  {
   "cell_type": "code",
   "execution_count": 147,
   "metadata": {},
   "outputs": [],
   "source": [
    "#plt.plot(dfH['fecha'], dfH[['hospitalizados_totales', 'hospitalizados_totales_cdmx','hospitalizados_totales_edomex']])"
   ]
  },
  {
   "cell_type": "code",
   "execution_count": 12,
   "metadata": {},
   "outputs": [],
   "source": [
    "dfH.to_csv(PATH+'HospitalizadosCOVID.csv')"
   ]
  },
  {
   "cell_type": "markdown",
   "metadata": {},
   "source": [
    "## Casos a nivel nacional asociados a covid-19 "
   ]
  },
  {
   "cell_type": "code",
   "execution_count": 4,
   "metadata": {},
   "outputs": [
    {
     "data": {
      "text/plain": [
       "'https://datos.cdmx.gob.mx/explore/dataset/casos-asociados-a-covid-19/download/?format=csv&timezone=America/Mexico_City&lang=es&use_labels_for_header=true&csv_separator=%2C'"
      ]
     },
     "execution_count": 4,
     "metadata": {},
     "output_type": "execute_result"
    }
   ],
   "source": [
    "i"
   ]
  },
  {
   "cell_type": "code",
   "execution_count": 6,
   "metadata": {},
   "outputs": [],
   "source": [
    "#dfI = pd.read_csv(i)#.sort_values('fecha', ascending=True)\n",
    "#dfI.head(3)"
   ]
  },
  {
   "cell_type": "code",
   "execution_count": null,
   "metadata": {},
   "outputs": [],
   "source": [
    "#dfI.dtypes, type(dfI), dfI.shape"
   ]
  },
  {
   "cell_type": "code",
   "execution_count": null,
   "metadata": {},
   "outputs": [],
   "source": [
    "#dfD.to_csv(PATH+'COVID.csv')\n",
    "#plt.plot(dfD['fecha'],dfD[[]])"
   ]
  },
  {
   "cell_type": "markdown",
   "metadata": {},
   "source": [
    "## Hospitales y Centros de Salud "
   ]
  },
  {
   "cell_type": "code",
   "execution_count": 149,
   "metadata": {},
   "outputs": [
    {
     "data": {
      "text/plain": [
       "'https://datos.cdmx.gob.mx/explore/dataset/hospitales-y-centros-de-salud/download/?format=csv&timezone=America/Mexico_City&lang=es&use_labels_for_header=true&csv_separator=%2C'"
      ]
     },
     "execution_count": 149,
     "metadata": {},
     "output_type": "execute_result"
    }
   ],
   "source": [
    "j"
   ]
  },
  {
   "cell_type": "code",
   "execution_count": 150,
   "metadata": {},
   "outputs": [
    {
     "data": {
      "text/html": [
       "<div>\n",
       "<style scoped>\n",
       "    .dataframe tbody tr th:only-of-type {\n",
       "        vertical-align: middle;\n",
       "    }\n",
       "\n",
       "    .dataframe tbody tr th {\n",
       "        vertical-align: top;\n",
       "    }\n",
       "\n",
       "    .dataframe thead th {\n",
       "        text-align: right;\n",
       "    }\n",
       "</style>\n",
       "<table border=\"1\" class=\"dataframe\">\n",
       "  <thead>\n",
       "    <tr style=\"text-align: right;\">\n",
       "      <th></th>\n",
       "      <th>Nombre</th>\n",
       "      <th>Titular</th>\n",
       "      <th>Latitud</th>\n",
       "      <th>Longitud</th>\n",
       "      <th>Coordenadas</th>\n",
       "      <th>Geopoint</th>\n",
       "    </tr>\n",
       "  </thead>\n",
       "  <tbody>\n",
       "    <tr>\n",
       "      <td>0</td>\n",
       "      <td>Hospital General La Villa</td>\n",
       "      <td>Director: Dr. Enrique Garduño Salvador Direcci...</td>\n",
       "      <td>19.480774</td>\n",
       "      <td>-99.103371</td>\n",
       "      <td>-99.103371,19.480774,0.000000</td>\n",
       "      <td>19.480774,-99.103371</td>\n",
       "    </tr>\n",
       "    <tr>\n",
       "      <td>1</td>\n",
       "      <td>Hospital General Milpa Alta</td>\n",
       "      <td>Dirección: Dr.Benjamín Ortega Romero Dirección...</td>\n",
       "      <td>19.200199</td>\n",
       "      <td>-99.011253</td>\n",
       "      <td>-99.011253,19.200199,0.000000</td>\n",
       "      <td>19.200199,-99.011253</td>\n",
       "    </tr>\n",
       "    <tr>\n",
       "      <td>2</td>\n",
       "      <td>Hospital General Ticomán</td>\n",
       "      <td>Director: Dr. Carlos Vazquez Noriega Dirección...</td>\n",
       "      <td>19.514547</td>\n",
       "      <td>-99.138245</td>\n",
       "      <td>-99.138245,19.514547,0.000000</td>\n",
       "      <td>19.514547,-99.138245</td>\n",
       "    </tr>\n",
       "  </tbody>\n",
       "</table>\n",
       "</div>"
      ],
      "text/plain": [
       "                        Nombre  \\\n",
       "0    Hospital General La Villa   \n",
       "1  Hospital General Milpa Alta   \n",
       "2     Hospital General Ticomán   \n",
       "\n",
       "                                             Titular    Latitud   Longitud  \\\n",
       "0  Director: Dr. Enrique Garduño Salvador Direcci...  19.480774 -99.103371   \n",
       "1  Dirección: Dr.Benjamín Ortega Romero Dirección...  19.200199 -99.011253   \n",
       "2  Director: Dr. Carlos Vazquez Noriega Dirección...  19.514547 -99.138245   \n",
       "\n",
       "                     Coordenadas              Geopoint  \n",
       "0  -99.103371,19.480774,0.000000  19.480774,-99.103371  \n",
       "1  -99.011253,19.200199,0.000000  19.200199,-99.011253  \n",
       "2  -99.138245,19.514547,0.000000  19.514547,-99.138245  "
      ]
     },
     "execution_count": 150,
     "metadata": {},
     "output_type": "execute_result"
    }
   ],
   "source": [
    "#\n",
    "dfJ = pd.read_csv(j)#.sort_values('fecha', ascending=True)\n",
    "#\n",
    "dfJ.head(3)"
   ]
  },
  {
   "cell_type": "code",
   "execution_count": 151,
   "metadata": {},
   "outputs": [
    {
     "data": {
      "text/plain": [
       "(Nombre          object\n",
       " Titular         object\n",
       " Latitud        float64\n",
       " Longitud       float64\n",
       " Coordenadas     object\n",
       " Geopoint        object\n",
       " dtype: object, pandas.core.frame.DataFrame, (27, 6))"
      ]
     },
     "execution_count": 151,
     "metadata": {},
     "output_type": "execute_result"
    }
   ],
   "source": [
    "#\n",
    "dfJ.dtypes, type(dfJ), dfJ.shape"
   ]
  },
  {
   "cell_type": "code",
   "execution_count": 152,
   "metadata": {},
   "outputs": [],
   "source": [
    "dfJ.to_csv(PATH+'HospitalesyCSalud.csv')"
   ]
  },
  {
   "cell_type": "code",
   "execution_count": 23,
   "metadata": {},
   "outputs": [
    {
     "data": {
      "image/png": "[encoded data removed]",
      "text/plain": [
       "<Figure size 432x288 with 1 Axes>"
      ]
     },
     "metadata": {
      "needs_background": "light"
     },
     "output_type": "display_data"
    }
   ],
   "source": [
    "#\n",
    "plt.scatter(dfJ['Latitud'],dfJ['Longitud'])\n",
    "#\n",
    "plt.show()"
   ]
  },
  {
   "cell_type": "code",
   "execution_count": null,
   "metadata": {},
   "outputs": [],
   "source": []
  },
  {
   "cell_type": "code",
   "execution_count": 157,
   "metadata": {},
   "outputs": [
    {
     "data": {
      "text/html": [
       "<div>\n",
       "<style scoped>\n",
       "    .dataframe tbody tr th:only-of-type {\n",
       "        vertical-align: middle;\n",
       "    }\n",
       "\n",
       "    .dataframe tbody tr th {\n",
       "        vertical-align: top;\n",
       "    }\n",
       "\n",
       "    .dataframe thead th {\n",
       "        text-align: right;\n",
       "    }\n",
       "</style>\n",
       "<table border=\"1\" class=\"dataframe\">\n",
       "  <thead>\n",
       "    <tr style=\"text-align: right;\">\n",
       "      <th></th>\n",
       "      <th>ID</th>\n",
       "      <th>Name</th>\n",
       "      <th>SECTOR</th>\n",
       "      <th>DIRECCIÓN</th>\n",
       "      <th>COLONIA</th>\n",
       "      <th>ALCALDIA</th>\n",
       "      <th>Lat,Lon</th>\n",
       "      <th>Lat</th>\n",
       "      <th>Lon</th>\n",
       "    </tr>\n",
       "  </thead>\n",
       "  <tbody>\n",
       "    <tr>\n",
       "      <td>0</td>\n",
       "      <td>H1</td>\n",
       "      <td>Centro de Salud México - España</td>\n",
       "      <td>Sector Público</td>\n",
       "      <td>Lago Iseo 128</td>\n",
       "      <td>Col Anáhuac I Secc.</td>\n",
       "      <td>alc. Miguel Hidalgo</td>\n",
       "      <td>19.445945, -99.181903</td>\n",
       "      <td>19.445945</td>\n",
       "      <td>-99.181903</td>\n",
       "    </tr>\n",
       "    <tr>\n",
       "      <td>1</td>\n",
       "      <td>H1</td>\n",
       "      <td>Centro Médico Quirúrgico Escandón</td>\n",
       "      <td>Sector Privado</td>\n",
       "      <td>Progreso # 231</td>\n",
       "      <td>Col. Escandón</td>\n",
       "      <td>alc. Miguel Hidalgo</td>\n",
       "      <td>19.402750, -99.172515</td>\n",
       "      <td>19.402750</td>\n",
       "      <td>-99.172515</td>\n",
       "    </tr>\n",
       "    <tr>\n",
       "      <td>2</td>\n",
       "      <td>H2</td>\n",
       "      <td>Centro Médico Siglo XXI</td>\n",
       "      <td>Sector Público</td>\n",
       "      <td>Eje 3 Sur y Eje 1 Pte</td>\n",
       "      <td>Col. Doctores</td>\n",
       "      <td>alc. Cuauhtémoc</td>\n",
       "      <td>19.406922, -99.154821</td>\n",
       "      <td>19.406922</td>\n",
       "      <td>-99.154821</td>\n",
       "    </tr>\n",
       "  </tbody>\n",
       "</table>\n",
       "</div>"
      ],
      "text/plain": [
       "   ID                               Name          SECTOR  \\\n",
       "0  H1    Centro de Salud México - España  Sector Público   \n",
       "1  H1  Centro Médico Quirúrgico Escandón  Sector Privado   \n",
       "2  H2            Centro Médico Siglo XXI  Sector Público   \n",
       "\n",
       "               DIRECCIÓN              COLONIA             ALCALDIA  \\\n",
       "0          Lago Iseo 128  Col Anáhuac I Secc.  alc. Miguel Hidalgo   \n",
       "1         Progreso # 231        Col. Escandón  alc. Miguel Hidalgo   \n",
       "2  Eje 3 Sur y Eje 1 Pte        Col. Doctores      alc. Cuauhtémoc   \n",
       "\n",
       "                 Lat,Lon        Lat        Lon  \n",
       "0  19.445945, -99.181903  19.445945 -99.181903  \n",
       "1  19.402750, -99.172515  19.402750 -99.172515  \n",
       "2  19.406922, -99.154821  19.406922 -99.154821  "
      ]
     },
     "execution_count": 157,
     "metadata": {},
     "output_type": "execute_result"
    }
   ],
   "source": [
    "k = 'C:/Users/Francisco Sarabia/Downloads/Datasets/Hospitales-SEMOVI_csv.csv'\n",
    "dfK = pd.read_csv(k, delimiter=\"|\")\n",
    "dfK.head(3)"
   ]
  },
  {
   "cell_type": "code",
   "execution_count": 158,
   "metadata": {},
   "outputs": [
    {
     "data": {
      "text/plain": [
       "(fecha                            object\n",
       " año                               int64\n",
       " mes                              object\n",
       " dia                               int64\n",
       " hospitalizados_totales            int64\n",
       " hospitalizados_totales_cdmx       int64\n",
       " hospitalizados_totales_edomex     int64\n",
       " camas_intubados_totales           int64\n",
       " camas_intubados_cdmx              int64\n",
       " camas_intubados_edomex            int64\n",
       " dtype: object, pandas.core.frame.DataFrame, (49, 10))"
      ]
     },
     "execution_count": 158,
     "metadata": {},
     "output_type": "execute_result"
    }
   ],
   "source": [
    "dfH.dtypes, type(dfH), dfH.shape"
   ]
  },
  {
   "cell_type": "code",
   "execution_count": null,
   "metadata": {},
   "outputs": [],
   "source": [
    "#dfK.to_csv(PATH+'HospitalesyCSalud.csv')"
   ]
  },
  {
   "cell_type": "code",
   "execution_count": 160,
   "metadata": {},
   "outputs": [
    {
     "data": {
      "image/png": "[encoded data removed]",
      "text/plain": [
       "<Figure size 432x288 with 1 Axes>"
      ]
     },
     "metadata": {
      "needs_background": "light"
     },
     "output_type": "display_data"
    }
   ],
   "source": [
    "#\n",
    "plt.scatter(dfK['Lat'],dfK['Lon'])\n",
    "#\n",
    "plt.show()"
   ]
  },
  {
   "cell_type": "markdown",
   "metadata": {},
   "source": [
    "## Covid-19 México"
   ]
  },
  {
   "cell_type": "code",
   "execution_count": null,
   "metadata": {},
   "outputs": [],
   "source": [
    "# https://coronavirus.gob.mx/datos/#DownZCSV\n",
    "\n",
    "#openPATH = 'C:/Users/Francisco Sarabia/Downloads'\n",
    "#COVPATH = 'C:/Users/Francisco Sarabia/Downloads/Datasets/datos_abiertos_covid19/200517COVID19MEXICO.csv'\n",
    "#COVPATH \n",
    "\n",
    "#import zipfile\n",
    "#with zipfile.ZipFile(openPATH, 'r') as zip_ref:\n",
    "#    zip_ref.extractall(PATH)\n",
    "\n",
    "#import pandas as pd\n",
    "#cov = pd.read_csv(COVPATH, encoding = \"ISO-8859-1\")\n",
    "#cov.head()\n",
    "\n",
    "#Catalogos = 'C:/Users/Francisco Sarabia/Downloads/Datasets/diccionario_datos_covid19/Catalogos_0412.xlsx'\n",
    "# pd.read_excel(Catalogos, index_col=None).head()"
   ]
  },
  {
   "cell_type": "code",
   "execution_count": null,
   "metadata": {},
   "outputs": [],
   "source": []
  }
 ],
 "metadata": {
  "kernelspec": {
   "display_name": "Python 3",
   "language": "python",
   "name": "python3"
  },
  "language_info": {
   "codemirror_mode": {
    "name": "ipython",
    "version": 3
   },
   "file_extension": ".py",
   "mimetype": "text/x-python",
   "name": "python",
   "nbconvert_exporter": "python",
   "pygments_lexer": "ipython3",
   "version": "3.7.4"
  }
 },
 "nbformat": 4,
 "nbformat_minor": 2
}
