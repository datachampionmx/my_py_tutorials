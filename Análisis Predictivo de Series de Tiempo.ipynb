{
 "cells": [
  {
   "cell_type": "markdown",
   "metadata": {},
   "source": [
    "# Pronósticos en Series de Tiempo"
   ]
  },
  {
   "cell_type": "markdown",
   "metadata": {},
   "source": [
    "## Promédios Móviles"
   ]
  },
  {
   "cell_type": "markdown",
   "metadata": {},
   "source": [
    "Los *Promedios Móviles* (MA), como su nombre lo indica, utilizan un promedio dinámico (media) para analizar la tendencia *central* de una variable numérica a lo largo del tiempo. Los métodos de análisis de pronóstico involucran dos componentes involucrados en la evolución en una serie de tiempo: *señal* y *ruido*.\n",
    "\n",
    "* La **señal** representa la tendencia central de una variable, es decir, el *medio* componente. Esto describe la evolución creciente, decreciente o plana de la variable.\n",
    "* El **ruido** representa el nivel de variación aleatoria alrededor de la tendencia central. Esta es la parte que deseamos evitar para enfocarnos en la señal.\n",
    "\n",
    "Un promedio móvil ayuda a distinguir *rebotes aleatorios* en una serie de datos de los cambios reales y fundamentales en la señal. Para calcular un promedio móvil, tomamos el promedio de las últimas observaciones recientes y consideramos el promedio como la mejor estimación de lo que hará la serie a continuación.\n",
    "\n",
    "Así, para la variavle $y$ calcular el promédio móvil de rango $r$ usamos la fórmula:\n",
    "\n",
    "$$\\hat{y}_t(r) = \\mathrm{AVERAGE}(y_{t-1}, \\cdots , y_{t-r})$$\n",
    "\n",
    "**Notation** \n",
    "* $y_{t}$: dato al momento $t$\n",
    "* $\\hat{y}_{t}(r)$: Prom. Móv. de rango $r$ al tiempo $t$\n",
    "\n",
    "Por ejemplo, el primer valor en un PM de rango 3 des:\n",
    "\n",
    "$$\\hat{y}_1(3) = \\mathrm{AVERAGE}(y_{t-1},y_{t-2},y_{t-3})$$\n"
   ]
  },
  {
   "cell_type": "markdown",
   "metadata": {},
   "source": [
    "### Calculation steps using Python"
   ]
  },
  {
   "cell_type": "code",
   "execution_count": 3,
   "metadata": {},
   "outputs": [],
   "source": [
    "from pandas import Series\n",
    "from matplotlib import pyplot\n",
    "import pandas as pd\n",
    "import numpy as np\n",
    "import matplotlib.pyplot as plt"
   ]
  },
  {
   "cell_type": "markdown",
   "metadata": {},
   "source": [
    "### 1. Generate time series"
   ]
  },
  {
   "cell_type": "code",
   "execution_count": 4,
   "metadata": {},
   "outputs": [
    {
     "name": "stdout",
     "output_type": "stream",
     "text": [
      "<class 'pandas.core.indexes.datetimes.DatetimeIndex'> 27\n",
      "<class 'numpy.ndarray'> 27\n"
     ]
    }
   ],
   "source": [
    "# GENERETE A TIME SERIES:\n",
    "Date = pd.DatetimeIndex(['2019-07-01', '2019-07-02', '2019-07-03', '2019-07-04', '2019-07-05', '2019-07-06', '2019-07-07', '2019-07-08', '2019-07-09', '2019-07-10', '2019-07-11', '2019-07-12', '2019-07-13', '2019-07-14', '2019-07-15', '2019-07-16', '2019-07-17', '2019-07-18', '2019-07-19', '2019-07-20', '2019-07-21', '2019-07-22', '2019-07-23', '2019-07-24', '2019-07-25', '2019-07-26', '2019-07-27'])\n",
    "Metric = np.array([855, 847, 1000, 635, 346, 2146, 1328, 1322, 3124, 1012, 1280, 2435, 1016, 3465, 1107, 1172, 3432, 836, 142, 345, 2602, 750, 716, 770, 900, 50, 150])\n",
    "\n",
    "print(type(Date), len(Date))\n",
    "print(type(Metric), len(Metric))"
   ]
  },
  {
   "cell_type": "code",
   "execution_count": 5,
   "metadata": {},
   "outputs": [
    {
     "name": "stdout",
     "output_type": "stream",
     "text": [
      "<class 'list'>\n",
      "[(Timestamp('2019-07-01 00:00:00'), 855), (Timestamp('2019-07-02 00:00:00'), 847), (Timestamp('2019-07-03 00:00:00'), 1000), (Timestamp('2019-07-04 00:00:00'), 635), (Timestamp('2019-07-05 00:00:00'), 346), (Timestamp('2019-07-06 00:00:00'), 2146), (Timestamp('2019-07-07 00:00:00'), 1328), (Timestamp('2019-07-08 00:00:00'), 1322), (Timestamp('2019-07-09 00:00:00'), 3124), (Timestamp('2019-07-10 00:00:00'), 1012), (Timestamp('2019-07-11 00:00:00'), 1280), (Timestamp('2019-07-12 00:00:00'), 2435), (Timestamp('2019-07-13 00:00:00'), 1016), (Timestamp('2019-07-14 00:00:00'), 3465), (Timestamp('2019-07-15 00:00:00'), 1107), (Timestamp('2019-07-16 00:00:00'), 1172), (Timestamp('2019-07-17 00:00:00'), 3432), (Timestamp('2019-07-18 00:00:00'), 836), (Timestamp('2019-07-19 00:00:00'), 142), (Timestamp('2019-07-20 00:00:00'), 345), (Timestamp('2019-07-21 00:00:00'), 2602), (Timestamp('2019-07-22 00:00:00'), 750), (Timestamp('2019-07-23 00:00:00'), 716), (Timestamp('2019-07-24 00:00:00'), 770), (Timestamp('2019-07-25 00:00:00'), 900), (Timestamp('2019-07-26 00:00:00'), 50), (Timestamp('2019-07-27 00:00:00'), 150)]\n"
     ]
    }
   ],
   "source": [
    "# FORMA 1\n",
    "# Unir como DataFrame: (Opcional)\n",
    "join = list(zip(Date, Metric))  \t#\n",
    "print(type(join)) #\n",
    "print(join)"
   ]
  },
  {
   "cell_type": "code",
   "execution_count": 12,
   "metadata": {},
   "outputs": [
    {
     "name": "stdout",
     "output_type": "stream",
     "text": [
      "<class 'pandas.core.frame.DataFrame'>\n"
     ]
    },
    {
     "data": {
      "text/html": [
       "<div>\n",
       "<style scoped>\n",
       "    .dataframe tbody tr th:only-of-type {\n",
       "        vertical-align: middle;\n",
       "    }\n",
       "\n",
       "    .dataframe tbody tr th {\n",
       "        vertical-align: top;\n",
       "    }\n",
       "\n",
       "    .dataframe thead th {\n",
       "        text-align: right;\n",
       "    }\n",
       "</style>\n",
       "<table border=\"1\" class=\"dataframe\">\n",
       "  <thead>\n",
       "    <tr style=\"text-align: right;\">\n",
       "      <th></th>\n",
       "      <th>Date</th>\n",
       "      <th>Metric</th>\n",
       "    </tr>\n",
       "  </thead>\n",
       "  <tbody>\n",
       "    <tr>\n",
       "      <td>17</td>\n",
       "      <td>2019-07-18</td>\n",
       "      <td>836</td>\n",
       "    </tr>\n",
       "    <tr>\n",
       "      <td>18</td>\n",
       "      <td>2019-07-19</td>\n",
       "      <td>142</td>\n",
       "    </tr>\n",
       "    <tr>\n",
       "      <td>19</td>\n",
       "      <td>2019-07-20</td>\n",
       "      <td>345</td>\n",
       "    </tr>\n",
       "    <tr>\n",
       "      <td>20</td>\n",
       "      <td>2019-07-21</td>\n",
       "      <td>2602</td>\n",
       "    </tr>\n",
       "    <tr>\n",
       "      <td>21</td>\n",
       "      <td>2019-07-22</td>\n",
       "      <td>750</td>\n",
       "    </tr>\n",
       "    <tr>\n",
       "      <td>22</td>\n",
       "      <td>2019-07-23</td>\n",
       "      <td>716</td>\n",
       "    </tr>\n",
       "    <tr>\n",
       "      <td>23</td>\n",
       "      <td>2019-07-24</td>\n",
       "      <td>770</td>\n",
       "    </tr>\n",
       "    <tr>\n",
       "      <td>24</td>\n",
       "      <td>2019-07-25</td>\n",
       "      <td>900</td>\n",
       "    </tr>\n",
       "    <tr>\n",
       "      <td>25</td>\n",
       "      <td>2019-07-26</td>\n",
       "      <td>50</td>\n",
       "    </tr>\n",
       "    <tr>\n",
       "      <td>26</td>\n",
       "      <td>2019-07-27</td>\n",
       "      <td>150</td>\n",
       "    </tr>\n",
       "  </tbody>\n",
       "</table>\n",
       "</div>"
      ],
      "text/plain": [
       "         Date  Metric\n",
       "17 2019-07-18     836\n",
       "18 2019-07-19     142\n",
       "19 2019-07-20     345\n",
       "20 2019-07-21    2602\n",
       "21 2019-07-22     750\n",
       "22 2019-07-23     716\n",
       "23 2019-07-24     770\n",
       "24 2019-07-25     900\n",
       "25 2019-07-26      50\n",
       "26 2019-07-27     150"
      ]
     },
     "execution_count": 12,
     "metadata": {},
     "output_type": "execute_result"
    }
   ],
   "source": [
    "data = pd.DataFrame(join, columns=[\"Date\", \"Metric\"])\t\t#\n",
    "print(type(data)) #\n",
    "data.tail(10)"
   ]
  },
  {
   "cell_type": "code",
   "execution_count": 51,
   "metadata": {},
   "outputs": [
    {
     "data": {
      "image/png": "[encoded data removed]",
      "text/plain": [
       "<Figure size 432x288 with 1 Axes>"
      ]
     },
     "metadata": {
      "needs_background": "light"
     },
     "output_type": "display_data"
    }
   ],
   "source": [
    "# Como DataFrame:\n",
    "data['Metric'].plot(color='blue')\n",
    "pyplot.show()"
   ]
  },
  {
   "cell_type": "markdown",
   "metadata": {},
   "source": [
    "### Graficación"
   ]
  },
  {
   "cell_type": "code",
   "execution_count": 7,
   "metadata": {},
   "outputs": [
    {
     "data": {
      "text/plain": [
       "<matplotlib.axes._subplots.AxesSubplot at 0x1e81cd150c8>"
      ]
     },
     "execution_count": 7,
     "metadata": {},
     "output_type": "execute_result"
    },
    {
     "data": {
      "image/png": "[encoded data removed]",
      "text/plain": [
       "<Figure size 432x288 with 1 Axes>"
      ]
     },
     "metadata": {
      "needs_background": "light"
     },
     "output_type": "display_data"
    }
   ],
   "source": [
    "# Como TimeSeries:\n",
    "ts = pd.Series(np.array(data[\"Metric\"]), index=pd.DatetimeIndex(data[\"Date\"]))\n",
    "ts.plot()"
   ]
  },
  {
   "cell_type": "markdown",
   "metadata": {},
   "source": [
    "## 2. Suavizamiento del Ruido usando PM\n",
    "### Tabulación:"
   ]
  },
  {
   "cell_type": "code",
   "execution_count": 9,
   "metadata": {},
   "outputs": [
    {
     "name": "stdout",
     "output_type": "stream",
     "text": [
      "<class 'pandas.core.window.Rolling'>\n",
      "Rolling [window=4,center=False,axis=0]\n"
     ]
    }
   ],
   "source": [
    "# Definiendo la ventana, p.ej amplitud = 4:\n",
    "rolling = ts.rolling(window=4)\n",
    "print(type(rolling))\n",
    "print(rolling)"
   ]
  },
  {
   "cell_type": "code",
   "execution_count": 11,
   "metadata": {},
   "outputs": [
    {
     "name": "stdout",
     "output_type": "stream",
     "text": [
      "Date\n",
      "2019-07-18    1636.75\n",
      "2019-07-19    1395.50\n",
      "2019-07-20    1188.75\n",
      "2019-07-21     981.25\n",
      "2019-07-22     959.75\n",
      "2019-07-23    1103.25\n",
      "2019-07-24    1209.50\n",
      "2019-07-25     784.00\n",
      "2019-07-26     609.00\n",
      "2019-07-27     467.50\n",
      "dtype: float64\n",
      "<class 'pandas.core.series.Series'>\n"
     ]
    }
   ],
   "source": [
    "# Aplicando Promedio Movil Retroactivo:\n",
    "rolling_mean = rolling.mean()\n",
    "print(rolling_mean.tail(10))\n",
    "print(type(rolling_mean.head(10)))"
   ]
  },
  {
   "cell_type": "code",
   "execution_count": 13,
   "metadata": {},
   "outputs": [
    {
     "name": "stdout",
     "output_type": "stream",
     "text": [
      "<class 'pandas.core.frame.DataFrame'>\n"
     ]
    },
    {
     "data": {
      "text/html": [
       "<div>\n",
       "<style scoped>\n",
       "    .dataframe tbody tr th:only-of-type {\n",
       "        vertical-align: middle;\n",
       "    }\n",
       "\n",
       "    .dataframe tbody tr th {\n",
       "        vertical-align: top;\n",
       "    }\n",
       "\n",
       "    .dataframe thead th {\n",
       "        text-align: right;\n",
       "    }\n",
       "</style>\n",
       "<table border=\"1\" class=\"dataframe\">\n",
       "  <thead>\n",
       "    <tr style=\"text-align: right;\">\n",
       "      <th></th>\n",
       "      <th>Date</th>\n",
       "      <th>Metric</th>\n",
       "      <th>Rolling_mean</th>\n",
       "    </tr>\n",
       "  </thead>\n",
       "  <tbody>\n",
       "    <tr>\n",
       "      <td>0</td>\n",
       "      <td>2019-07-01</td>\n",
       "      <td>855</td>\n",
       "      <td>NaN</td>\n",
       "    </tr>\n",
       "    <tr>\n",
       "      <td>1</td>\n",
       "      <td>2019-07-02</td>\n",
       "      <td>847</td>\n",
       "      <td>NaN</td>\n",
       "    </tr>\n",
       "    <tr>\n",
       "      <td>2</td>\n",
       "      <td>2019-07-03</td>\n",
       "      <td>1000</td>\n",
       "      <td>NaN</td>\n",
       "    </tr>\n",
       "    <tr>\n",
       "      <td>3</td>\n",
       "      <td>2019-07-04</td>\n",
       "      <td>635</td>\n",
       "      <td>834.25</td>\n",
       "    </tr>\n",
       "    <tr>\n",
       "      <td>4</td>\n",
       "      <td>2019-07-05</td>\n",
       "      <td>346</td>\n",
       "      <td>707.00</td>\n",
       "    </tr>\n",
       "    <tr>\n",
       "      <td>5</td>\n",
       "      <td>2019-07-06</td>\n",
       "      <td>2146</td>\n",
       "      <td>1031.75</td>\n",
       "    </tr>\n",
       "    <tr>\n",
       "      <td>6</td>\n",
       "      <td>2019-07-07</td>\n",
       "      <td>1328</td>\n",
       "      <td>1113.75</td>\n",
       "    </tr>\n",
       "    <tr>\n",
       "      <td>7</td>\n",
       "      <td>2019-07-08</td>\n",
       "      <td>1322</td>\n",
       "      <td>1285.50</td>\n",
       "    </tr>\n",
       "    <tr>\n",
       "      <td>8</td>\n",
       "      <td>2019-07-09</td>\n",
       "      <td>3124</td>\n",
       "      <td>1980.00</td>\n",
       "    </tr>\n",
       "    <tr>\n",
       "      <td>9</td>\n",
       "      <td>2019-07-10</td>\n",
       "      <td>1012</td>\n",
       "      <td>1696.50</td>\n",
       "    </tr>\n",
       "    <tr>\n",
       "      <td>10</td>\n",
       "      <td>2019-07-11</td>\n",
       "      <td>1280</td>\n",
       "      <td>1684.50</td>\n",
       "    </tr>\n",
       "    <tr>\n",
       "      <td>11</td>\n",
       "      <td>2019-07-12</td>\n",
       "      <td>2435</td>\n",
       "      <td>1962.75</td>\n",
       "    </tr>\n",
       "    <tr>\n",
       "      <td>12</td>\n",
       "      <td>2019-07-13</td>\n",
       "      <td>1016</td>\n",
       "      <td>1435.75</td>\n",
       "    </tr>\n",
       "    <tr>\n",
       "      <td>13</td>\n",
       "      <td>2019-07-14</td>\n",
       "      <td>3465</td>\n",
       "      <td>2049.00</td>\n",
       "    </tr>\n",
       "    <tr>\n",
       "      <td>14</td>\n",
       "      <td>2019-07-15</td>\n",
       "      <td>1107</td>\n",
       "      <td>2005.75</td>\n",
       "    </tr>\n",
       "    <tr>\n",
       "      <td>15</td>\n",
       "      <td>2019-07-16</td>\n",
       "      <td>1172</td>\n",
       "      <td>1690.00</td>\n",
       "    </tr>\n",
       "    <tr>\n",
       "      <td>16</td>\n",
       "      <td>2019-07-17</td>\n",
       "      <td>3432</td>\n",
       "      <td>2294.00</td>\n",
       "    </tr>\n",
       "    <tr>\n",
       "      <td>17</td>\n",
       "      <td>2019-07-18</td>\n",
       "      <td>836</td>\n",
       "      <td>1636.75</td>\n",
       "    </tr>\n",
       "    <tr>\n",
       "      <td>18</td>\n",
       "      <td>2019-07-19</td>\n",
       "      <td>142</td>\n",
       "      <td>1395.50</td>\n",
       "    </tr>\n",
       "    <tr>\n",
       "      <td>19</td>\n",
       "      <td>2019-07-20</td>\n",
       "      <td>345</td>\n",
       "      <td>1188.75</td>\n",
       "    </tr>\n",
       "    <tr>\n",
       "      <td>20</td>\n",
       "      <td>2019-07-21</td>\n",
       "      <td>2602</td>\n",
       "      <td>981.25</td>\n",
       "    </tr>\n",
       "    <tr>\n",
       "      <td>21</td>\n",
       "      <td>2019-07-22</td>\n",
       "      <td>750</td>\n",
       "      <td>959.75</td>\n",
       "    </tr>\n",
       "    <tr>\n",
       "      <td>22</td>\n",
       "      <td>2019-07-23</td>\n",
       "      <td>716</td>\n",
       "      <td>1103.25</td>\n",
       "    </tr>\n",
       "    <tr>\n",
       "      <td>23</td>\n",
       "      <td>2019-07-24</td>\n",
       "      <td>770</td>\n",
       "      <td>1209.50</td>\n",
       "    </tr>\n",
       "    <tr>\n",
       "      <td>24</td>\n",
       "      <td>2019-07-25</td>\n",
       "      <td>900</td>\n",
       "      <td>784.00</td>\n",
       "    </tr>\n",
       "    <tr>\n",
       "      <td>25</td>\n",
       "      <td>2019-07-26</td>\n",
       "      <td>50</td>\n",
       "      <td>609.00</td>\n",
       "    </tr>\n",
       "    <tr>\n",
       "      <td>26</td>\n",
       "      <td>2019-07-27</td>\n",
       "      <td>150</td>\n",
       "      <td>467.50</td>\n",
       "    </tr>\n",
       "  </tbody>\n",
       "</table>\n",
       "</div>"
      ],
      "text/plain": [
       "         Date  Metric  Rolling_mean\n",
       "0  2019-07-01     855           NaN\n",
       "1  2019-07-02     847           NaN\n",
       "2  2019-07-03    1000           NaN\n",
       "3  2019-07-04     635        834.25\n",
       "4  2019-07-05     346        707.00\n",
       "5  2019-07-06    2146       1031.75\n",
       "6  2019-07-07    1328       1113.75\n",
       "7  2019-07-08    1322       1285.50\n",
       "8  2019-07-09    3124       1980.00\n",
       "9  2019-07-10    1012       1696.50\n",
       "10 2019-07-11    1280       1684.50\n",
       "11 2019-07-12    2435       1962.75\n",
       "12 2019-07-13    1016       1435.75\n",
       "13 2019-07-14    3465       2049.00\n",
       "14 2019-07-15    1107       2005.75\n",
       "15 2019-07-16    1172       1690.00\n",
       "16 2019-07-17    3432       2294.00\n",
       "17 2019-07-18     836       1636.75\n",
       "18 2019-07-19     142       1395.50\n",
       "19 2019-07-20     345       1188.75\n",
       "20 2019-07-21    2602        981.25\n",
       "21 2019-07-22     750        959.75\n",
       "22 2019-07-23     716       1103.25\n",
       "23 2019-07-24     770       1209.50\n",
       "24 2019-07-25     900        784.00\n",
       "25 2019-07-26      50        609.00\n",
       "26 2019-07-27     150        467.50"
      ]
     },
     "execution_count": 13,
     "metadata": {},
     "output_type": "execute_result"
    }
   ],
   "source": [
    "# En 1-Paso crear Pronóstico e incorporarlos a los datos previos:\n",
    "data[\"Rolling_mean\"] = data['Metric'].rolling(window=4).mean()\n",
    "print(type(data))\n",
    "data"
   ]
  },
  {
   "cell_type": "markdown",
   "metadata": {},
   "source": [
    "### Graficación Conjunta"
   ]
  },
  {
   "cell_type": "code",
   "execution_count": 68,
   "metadata": {},
   "outputs": [
    {
     "data": {
      "image/png": "[encoded data removed]",
      "text/plain": [
       "<Figure size 432x288 with 1 Axes>"
      ]
     },
     "metadata": {
      "needs_background": "light"
     },
     "output_type": "display_data"
    }
   ],
   "source": [
    "# Como TimeSeries:\n",
    "ts.plot()\n",
    "rolling_mean.plot(color='red')\n",
    "pyplot.show()"
   ]
  },
  {
   "cell_type": "code",
   "execution_count": 38,
   "metadata": {},
   "outputs": [
    {
     "data": {
      "image/png": "[encoded data removed]",
      "text/plain": [
       "<Figure size 432x288 with 1 Axes>"
      ]
     },
     "metadata": {
      "needs_background": "light"
     },
     "output_type": "display_data"
    }
   ],
   "source": [
    "# Como DataFrame:\n",
    "data['Metric'].plot(color='blue')\n",
    "data['Rolling_mean'].plot(color='red')    # MA Series plot\n",
    "pyplot.show()"
   ]
  },
  {
   "cell_type": "markdown",
   "metadata": {},
   "source": [
    "You can see that the chart of the moving averages is a good bit smoother than the chart of the original data series. It appears that the general drift is gently up and then gently back down. The smoothing that almost always results from calculating moving averages tends to locate the underlying level of the series at any given point, and the random events tend to cancel themselves out.\n",
    "\n",
    "**OBS: (Lost Periods)**\n",
    "Nothing’s free, though, and the principal cost of using moving averages is that you lose some observations at the start of the series. In our example the actual observed values start at Day 1 and continue through Day 27. However, the moving averages start at Day 4—with a three-period moving average, you lose three periods at the start. In general, you lose as many periods at the start of a moving average as there are periods in the moving average. Clearly, if you were to try to forecast a value for Day 3 using a moving average of three periods, you would want to find the average of Day 2, Day 1, and Day 0. But there is no Day 0.\n",
    "\n",
    "There are different ways to accommodate this problem, but nothing is as satisfactory\n",
    "as having a good long baseline of observations. That becomes clearer in Chapter 4 ,\n",
    "“Forecasting a Time Series: Smoothing,” which discusses exponential smoothing.\n",
    "\n",
    "### Smoothing Versus Tracking\n",
    "In general, **the more observations you place in a moving average, the more smoothing you get**. Compare the moving average charted in Figure 3.3 (which is a moving average of length 3) with the moving average charted in Figure 3.4 (which is of length 4)."
   ]
  },
  {
   "cell_type": "code",
   "execution_count": 2,
   "metadata": {},
   "outputs": [
    {
     "ename": "NameError",
     "evalue": "name 'pd' is not defined",
     "output_type": "error",
     "traceback": [
      "\u001b[1;31m---------------------------------------------------------------------------\u001b[0m",
      "\u001b[1;31mNameError\u001b[0m                                 Traceback (most recent call last)",
      "\u001b[1;32m<ipython-input-2-0f7f81e43c9b>\u001b[0m in \u001b[0;36m<module>\u001b[1;34m\u001b[0m\n\u001b[1;32m----> 1\u001b[1;33m \u001b[0mDate2\u001b[0m \u001b[1;33m=\u001b[0m \u001b[0mpd\u001b[0m\u001b[1;33m.\u001b[0m\u001b[0mDatetimeIndex\u001b[0m\u001b[1;33m(\u001b[0m\u001b[1;33m[\u001b[0m\u001b[1;34m'2019-07-01'\u001b[0m\u001b[1;33m,\u001b[0m \u001b[1;34m'2019-07-02'\u001b[0m\u001b[1;33m,\u001b[0m \u001b[1;34m'2019-07-03'\u001b[0m\u001b[1;33m,\u001b[0m \u001b[1;34m'2019-07-04'\u001b[0m\u001b[1;33m,\u001b[0m \u001b[1;34m'2019-07-05'\u001b[0m\u001b[1;33m,\u001b[0m \u001b[1;34m'2019-07-06'\u001b[0m\u001b[1;33m,\u001b[0m \u001b[1;34m'2019-07-07'\u001b[0m\u001b[1;33m,\u001b[0m \u001b[1;34m'2019-07-08'\u001b[0m\u001b[1;33m,\u001b[0m \u001b[1;34m'2019-07-09'\u001b[0m\u001b[1;33m,\u001b[0m \u001b[1;34m'2019-07-10'\u001b[0m\u001b[1;33m,\u001b[0m \u001b[1;34m'2019-07-11'\u001b[0m\u001b[1;33m,\u001b[0m \u001b[1;34m'2019-07-12'\u001b[0m\u001b[1;33m,\u001b[0m \u001b[1;34m'2019-07-13'\u001b[0m\u001b[1;33m,\u001b[0m \u001b[1;34m'2019-07-14'\u001b[0m\u001b[1;33m,\u001b[0m \u001b[1;34m'2019-07-15'\u001b[0m\u001b[1;33m,\u001b[0m \u001b[1;34m'2019-07-16'\u001b[0m\u001b[1;33m,\u001b[0m \u001b[1;34m'2019-07-17'\u001b[0m\u001b[1;33m,\u001b[0m \u001b[1;34m'2019-07-18'\u001b[0m\u001b[1;33m,\u001b[0m \u001b[1;34m'2019-07-19'\u001b[0m\u001b[1;33m,\u001b[0m \u001b[1;34m'2019-07-20'\u001b[0m\u001b[1;33m,\u001b[0m \u001b[1;34m'2019-07-21'\u001b[0m\u001b[1;33m,\u001b[0m \u001b[1;34m'2019-07-22'\u001b[0m\u001b[1;33m,\u001b[0m \u001b[1;34m'2019-07-23'\u001b[0m\u001b[1;33m,\u001b[0m \u001b[1;34m'2019-07-24'\u001b[0m\u001b[1;33m,\u001b[0m \u001b[1;34m'2019-07-25'\u001b[0m\u001b[1;33m,\u001b[0m \u001b[1;34m'2019-07-26'\u001b[0m\u001b[1;33m,\u001b[0m \u001b[1;34m'2019-07-27'\u001b[0m\u001b[1;33m]\u001b[0m\u001b[1;33m)\u001b[0m\u001b[1;33m\u001b[0m\u001b[1;33m\u001b[0m\u001b[0m\n\u001b[0m\u001b[0;32m      2\u001b[0m \u001b[0mMetric2\u001b[0m \u001b[1;33m=\u001b[0m \u001b[0mnp\u001b[0m\u001b[1;33m.\u001b[0m\u001b[0marray\u001b[0m\u001b[1;33m(\u001b[0m\u001b[1;33m[\u001b[0m\u001b[1;36m855\u001b[0m\u001b[1;33m,\u001b[0m \u001b[1;36m847\u001b[0m\u001b[1;33m,\u001b[0m \u001b[1;36m1000\u001b[0m\u001b[1;33m,\u001b[0m \u001b[1;36m635\u001b[0m\u001b[1;33m,\u001b[0m \u001b[1;36m346\u001b[0m\u001b[1;33m,\u001b[0m \u001b[1;36m2146\u001b[0m\u001b[1;33m,\u001b[0m \u001b[1;36m1328\u001b[0m\u001b[1;33m,\u001b[0m \u001b[1;36m1322\u001b[0m\u001b[1;33m,\u001b[0m \u001b[1;36m3124\u001b[0m\u001b[1;33m,\u001b[0m \u001b[1;36m1012\u001b[0m\u001b[1;33m,\u001b[0m \u001b[1;36m1280\u001b[0m\u001b[1;33m,\u001b[0m \u001b[1;36m2435\u001b[0m\u001b[1;33m,\u001b[0m \u001b[1;36m1016\u001b[0m\u001b[1;33m,\u001b[0m \u001b[1;36m3465\u001b[0m\u001b[1;33m,\u001b[0m \u001b[1;36m1107\u001b[0m\u001b[1;33m,\u001b[0m \u001b[1;36m1172\u001b[0m\u001b[1;33m,\u001b[0m \u001b[1;36m3432\u001b[0m\u001b[1;33m,\u001b[0m \u001b[1;36m636\u001b[0m\u001b[1;33m,\u001b[0m \u001b[1;36m82\u001b[0m\u001b[1;33m,\u001b[0m \u001b[1;36m145\u001b[0m\u001b[1;33m,\u001b[0m \u001b[1;36m52\u001b[0m\u001b[1;33m,\u001b[0m \u001b[1;36m60\u001b[0m\u001b[1;33m,\u001b[0m \u001b[1;36m286\u001b[0m\u001b[1;33m,\u001b[0m \u001b[1;36m390\u001b[0m\u001b[1;33m,\u001b[0m \u001b[1;36m750\u001b[0m\u001b[1;33m,\u001b[0m \u001b[1;36m50\u001b[0m\u001b[1;33m,\u001b[0m \u001b[1;36m250\u001b[0m\u001b[1;33m]\u001b[0m\u001b[1;33m)\u001b[0m\u001b[1;33m\u001b[0m\u001b[1;33m\u001b[0m\u001b[0m\n\u001b[0;32m      3\u001b[0m \u001b[1;33m\u001b[0m\u001b[0m\n\u001b[0;32m      4\u001b[0m \u001b[0mprint\u001b[0m\u001b[1;33m(\u001b[0m\u001b[0mtype\u001b[0m\u001b[1;33m(\u001b[0m\u001b[0mDate2\u001b[0m\u001b[1;33m)\u001b[0m\u001b[1;33m,\u001b[0m \u001b[0mlen\u001b[0m\u001b[1;33m(\u001b[0m\u001b[0mDate2\u001b[0m\u001b[1;33m)\u001b[0m\u001b[1;33m)\u001b[0m\u001b[1;33m\u001b[0m\u001b[1;33m\u001b[0m\u001b[0m\n\u001b[0;32m      5\u001b[0m \u001b[0mprint\u001b[0m\u001b[1;33m(\u001b[0m\u001b[0mtype\u001b[0m\u001b[1;33m(\u001b[0m\u001b[0mMetric2\u001b[0m\u001b[1;33m)\u001b[0m\u001b[1;33m,\u001b[0m \u001b[0mlen\u001b[0m\u001b[1;33m(\u001b[0m\u001b[0mMetric2\u001b[0m\u001b[1;33m)\u001b[0m\u001b[1;33m)\u001b[0m\u001b[1;33m\u001b[0m\u001b[1;33m\u001b[0m\u001b[0m\n",
      "\u001b[1;31mNameError\u001b[0m: name 'pd' is not defined"
     ]
    }
   ],
   "source": [
    "Date2 = pd.DatetimeIndex(['2019-07-01', '2019-07-02', '2019-07-03', '2019-07-04', '2019-07-05', '2019-07-06', '2019-07-07', '2019-07-08', '2019-07-09', '2019-07-10', '2019-07-11', '2019-07-12', '2019-07-13', '2019-07-14', '2019-07-15', '2019-07-16', '2019-07-17', '2019-07-18', '2019-07-19', '2019-07-20', '2019-07-21', '2019-07-22', '2019-07-23', '2019-07-24', '2019-07-25', '2019-07-26', '2019-07-27'])\n",
    "Metric2 = np.array([855, 847, 1000, 635, 346, 2146, 1328, 1322, 3124, 1012, 1280, 2435, 1016, 3465, 1107, 1172, 3432, 636, 82, 145, 52, 60, 286, 390, 750, 50, 250])\n",
    "\n",
    "print(type(Date2), len(Date2))\n",
    "print(type(Metric2), len(Metric2))"
   ]
  },
  {
   "cell_type": "code",
   "execution_count": 63,
   "metadata": {},
   "outputs": [
    {
     "name": "stdout",
     "output_type": "stream",
     "text": [
      "<class 'pandas.core.series.Series'>\n",
      "2019-07-01     855\n",
      "2019-07-02     847\n",
      "2019-07-03    1000\n",
      "2019-07-04     635\n",
      "2019-07-05     346\n",
      "2019-07-06    2146\n",
      "2019-07-07    1328\n",
      "2019-07-08    1322\n",
      "2019-07-09    3124\n",
      "2019-07-10    1012\n",
      "dtype: int32\n"
     ]
    }
   ],
   "source": [
    "ts2 = pd.Series(Metric2, index=Date2)\n",
    "print(type(ts2))\n",
    "print(ts2.head(10))"
   ]
  },
  {
   "cell_type": "code",
   "execution_count": 64,
   "metadata": {},
   "outputs": [
    {
     "data": {
      "text/plain": [
       "<matplotlib.axes._subplots.AxesSubplot at 0x1aeb088e608>"
      ]
     },
     "execution_count": 64,
     "metadata": {},
     "output_type": "execute_result"
    },
    {
     "data": {
      "image/png": "[encoded data removed]",
      "text/plain": [
       "<Figure size 432x288 with 1 Axes>"
      ]
     },
     "metadata": {
      "needs_background": "light"
     },
     "output_type": "display_data"
    }
   ],
   "source": [
    "ts2.plot()"
   ]
  },
  {
   "cell_type": "code",
   "execution_count": 1,
   "metadata": {},
   "outputs": [
    {
     "ename": "NameError",
     "evalue": "name 'ts2' is not defined",
     "output_type": "error",
     "traceback": [
      "\u001b[1;31m---------------------------------------------------------------------------\u001b[0m",
      "\u001b[1;31mNameError\u001b[0m                                 Traceback (most recent call last)",
      "\u001b[1;32m<ipython-input-1-69ba1a6dd424>\u001b[0m in \u001b[0;36m<module>\u001b[1;34m\u001b[0m\n\u001b[0;32m      1\u001b[0m \u001b[1;31m# PM-4: (en 2 pasos)\u001b[0m\u001b[1;33m\u001b[0m\u001b[1;33m\u001b[0m\u001b[1;33m\u001b[0m\u001b[0m\n\u001b[1;32m----> 2\u001b[1;33m \u001b[0mrolling2\u001b[0m \u001b[1;33m=\u001b[0m \u001b[0mts2\u001b[0m\u001b[1;33m.\u001b[0m\u001b[0mrolling\u001b[0m\u001b[1;33m(\u001b[0m\u001b[0mwindow\u001b[0m\u001b[1;33m=\u001b[0m\u001b[1;36m4\u001b[0m\u001b[1;33m)\u001b[0m\u001b[1;33m\u001b[0m\u001b[1;33m\u001b[0m\u001b[0m\n\u001b[0m\u001b[0;32m      3\u001b[0m \u001b[0mrolling_mean2\u001b[0m \u001b[1;33m=\u001b[0m \u001b[0mrolling2\u001b[0m\u001b[1;33m.\u001b[0m\u001b[0mmean\u001b[0m\u001b[1;33m(\u001b[0m\u001b[1;33m)\u001b[0m\u001b[1;33m\u001b[0m\u001b[1;33m\u001b[0m\u001b[0m\n\u001b[0;32m      4\u001b[0m \u001b[0mrolling2\u001b[0m\u001b[1;33m.\u001b[0m\u001b[0mtail\u001b[0m\u001b[1;33m(\u001b[0m\u001b[1;33m)\u001b[0m\u001b[1;33m\u001b[0m\u001b[1;33m\u001b[0m\u001b[0m\n\u001b[0;32m      5\u001b[0m \u001b[1;31m#print(rolling_mean2.head(10))\u001b[0m\u001b[1;33m\u001b[0m\u001b[1;33m\u001b[0m\u001b[1;33m\u001b[0m\u001b[0m\n",
      "\u001b[1;31mNameError\u001b[0m: name 'ts2' is not defined"
     ]
    }
   ],
   "source": [
    "# PM-4: (en 2 pasos)\n",
    "rolling2 = ts2.rolling(window=4)\n",
    "rolling_mean2 = rolling2.mean()\n",
    "rolling2.tail()\n",
    "#print(rolling_mean2.head(10))"
   ]
  },
  {
   "cell_type": "code",
   "execution_count": 67,
   "metadata": {},
   "outputs": [
    {
     "data": {
      "image/png": "[encoded data removed]",
      "text/plain": [
       "<Figure size 432x288 with 1 Axes>"
      ]
     },
     "metadata": {
      "needs_background": "light"
     },
     "output_type": "display_data"
    }
   ],
   "source": [
    "ts2.plot()\n",
    "rolling_mean2.plot(color='red')\n",
    "pyplot.show()"
   ]
  },
  {
   "cell_type": "code",
   "execution_count": 69,
   "metadata": {},
   "outputs": [
    {
     "data": {
      "image/png": "[encoded data removed]",
      "text/plain": [
       "<Figure size 432x288 with 1 Axes>"
      ]
     },
     "metadata": {
      "needs_background": "light"
     },
     "output_type": "display_data"
    }
   ],
   "source": [
    "# PM-6:\n",
    "rolling3 = ts2.rolling(window=6)\n",
    "rolling_mean3 = rolling3.mean()\n",
    "#print(rolling_mean2.head(25))\n",
    "\n",
    "ts2.plot()\n",
    "rolling_mean3.plot(color='red')\n",
    "pyplot.show()"
   ]
  },
  {
   "cell_type": "markdown",
   "metadata": {},
   "source": [
    "Of course, the cost of using a 4-day average instead of a 3-day average is that **you lose an additional period** at the start of the moving average. Notice that the 4-day MA starts on Day 5 in Figure ?? , whereas the 3-day moving average starts on Day 4 in Figure ?? \n",
    "\n",
    "There’s another side to that issue: **What’s the effect of a longer moving average when an abrupt change in the level of a series isn’t random noise but a real, persistent shift?** See Figure ?? .\n",
    "\n",
    "The 4-MA, does not catch up to the drop in the actuals until the twentysecond day—one period later than the three-day moving average.\n",
    "\n",
    "The difference is due to what’s called ***tracking***, which is the other side of the smoothing coin. Other things being equal, a moving average based on fewer actual observations tracks a change in the series level earlier and faster than one based on more actual observations.  \n",
    "\n",
    "..."
   ]
  },
  {
   "cell_type": "markdown",
   "metadata": {},
   "source": [
    "### Promedios Móviles Ponderados"
   ]
  },
  {
   "cell_type": "markdown",
   "metadata": {},
   "source": [
    "El promedio móvil ponderado generalmente asigna mayor peso a las observaciones más recientes."
   ]
  },
  {
   "cell_type": "code",
   "execution_count": 76,
   "metadata": {},
   "outputs": [
    {
     "name": "stdout",
     "output_type": "stream",
     "text": [
      "<class 'numpy.ndarray'>\n"
     ]
    },
    {
     "data": {
      "text/plain": [
       "array([ 160.3125,  158.8125,  375.    ,  476.25  ,  519.    , 6438.    ])"
      ]
     },
     "execution_count": 76,
     "metadata": {},
     "output_type": "execute_result"
    }
   ],
   "source": [
    "data3 = np.array([855, 847, 1000, 635, 346, 2146])\n",
    "weights = np.array([0.1875, 0.1875, 0.3750, 0.7500, 1.5000, 3.000])\n",
    "weighted_data = data3*weights\n",
    "\n",
    "print(type(weighted_data))\n",
    "weighted_data"
   ]
  },
  {
   "cell_type": "code",
   "execution_count": 73,
   "metadata": {},
   "outputs": [
    {
     "data": {
      "text/plain": [
       "[(855, 0.1875, 160.3125),\n",
       " (847, 0.1875, 158.8125),\n",
       " (1000, 0.375, 375.0),\n",
       " (635, 0.75, 476.25),\n",
       " (346, 1.5, 519.0),\n",
       " (2146, 3.0, 6438.0)]"
      ]
     },
     "execution_count": 73,
     "metadata": {},
     "output_type": "execute_result"
    }
   ],
   "source": [
    "join = list(zip(data3, weights, weighted_data)) \n",
    "join"
   ]
  },
  {
   "cell_type": "code",
   "execution_count": 79,
   "metadata": {},
   "outputs": [
    {
     "name": "stdout",
     "output_type": "stream",
     "text": [
      "<class 'pandas.core.frame.DataFrame'>\n"
     ]
    },
    {
     "data": {
      "text/html": [
       "<div>\n",
       "<style scoped>\n",
       "    .dataframe tbody tr th:only-of-type {\n",
       "        vertical-align: middle;\n",
       "    }\n",
       "\n",
       "    .dataframe tbody tr th {\n",
       "        vertical-align: top;\n",
       "    }\n",
       "\n",
       "    .dataframe thead th {\n",
       "        text-align: right;\n",
       "    }\n",
       "</style>\n",
       "<table border=\"1\" class=\"dataframe\">\n",
       "  <thead>\n",
       "    <tr style=\"text-align: right;\">\n",
       "      <th></th>\n",
       "      <th>Data</th>\n",
       "      <th>Weights</th>\n",
       "      <th>Weighted_Data</th>\n",
       "    </tr>\n",
       "  </thead>\n",
       "  <tbody>\n",
       "    <tr>\n",
       "      <td>0</td>\n",
       "      <td>855</td>\n",
       "      <td>0.1875</td>\n",
       "      <td>160.3125</td>\n",
       "    </tr>\n",
       "    <tr>\n",
       "      <td>1</td>\n",
       "      <td>847</td>\n",
       "      <td>0.1875</td>\n",
       "      <td>158.8125</td>\n",
       "    </tr>\n",
       "    <tr>\n",
       "      <td>2</td>\n",
       "      <td>1000</td>\n",
       "      <td>0.3750</td>\n",
       "      <td>375.0000</td>\n",
       "    </tr>\n",
       "    <tr>\n",
       "      <td>3</td>\n",
       "      <td>635</td>\n",
       "      <td>0.7500</td>\n",
       "      <td>476.2500</td>\n",
       "    </tr>\n",
       "    <tr>\n",
       "      <td>4</td>\n",
       "      <td>346</td>\n",
       "      <td>1.5000</td>\n",
       "      <td>519.0000</td>\n",
       "    </tr>\n",
       "    <tr>\n",
       "      <td>5</td>\n",
       "      <td>2146</td>\n",
       "      <td>3.0000</td>\n",
       "      <td>6438.0000</td>\n",
       "    </tr>\n",
       "  </tbody>\n",
       "</table>\n",
       "</div>"
      ],
      "text/plain": [
       "   Data  Weights  Weighted_Data\n",
       "0   855   0.1875       160.3125\n",
       "1   847   0.1875       158.8125\n",
       "2  1000   0.3750       375.0000\n",
       "3   635   0.7500       476.2500\n",
       "4   346   1.5000       519.0000\n",
       "5  2146   3.0000      6438.0000"
      ]
     },
     "execution_count": 79,
     "metadata": {},
     "output_type": "execute_result"
    }
   ],
   "source": [
    "wdf = pd.DataFrame(joined, columns=[\"Data\", \"Weights\", \"Weighted_Data\"])\n",
    "print(type(wdb))\n",
    "wdf"
   ]
  },
  {
   "cell_type": "code",
   "execution_count": 78,
   "metadata": {},
   "outputs": [],
   "source": [
    "#df = pd.DataFrame(wdb)\n",
    "#print(type(df))\n",
    "#df"
   ]
  },
  {
   "cell_type": "code",
   "execution_count": 89,
   "metadata": {},
   "outputs": [
    {
     "name": "stdout",
     "output_type": "stream",
     "text": [
      "Data Sum: 5829\n",
      "Weights Sum: 6.0\n",
      "Weighted_Data Sum: 8127.375\n"
     ]
    }
   ],
   "source": [
    "# Totales:\n",
    "total=wdf['Data'].sum()\n",
    "total_weights=wdf['Weights'].sum()\n",
    "wtotal=wdf['Weighted_Data'].sum()\n",
    "\n",
    "print(\"Data Sum:\", total)\n",
    "print(\"Weights Sum:\", total_weights)\n",
    "print(\"Weighted_Data Sum:\", wtotal)"
   ]
  },
  {
   "cell_type": "code",
   "execution_count": 90,
   "metadata": {},
   "outputs": [
    {
     "name": "stdout",
     "output_type": "stream",
     "text": [
      "Data Avg: 971.5\n",
      "Weights Avg: 1.0\n",
      "Weighted_Data Avg: 1354.5625\n"
     ]
    }
   ],
   "source": [
    "# Promedios:\n",
    "Avg=wdf['Data'].mean()\n",
    "Avg_weights=wdf['Weights'].mean()\n",
    "wAvg=wdf['Weighted_Data'].mean()\n",
    "\n",
    "print(\"Data Avg:\", Avg)\n",
    "print(\"Weights Avg:\", Avg_weights)\n",
    "print(\"Weighted_Data Avg:\", wAvg)"
   ]
  },
  {
   "cell_type": "code",
   "execution_count": null,
   "metadata": {},
   "outputs": [],
   "source": []
  },
  {
   "cell_type": "markdown",
   "metadata": {},
   "source": [
    "** Total de pesos**\n",
    "En este ejemplo, los pesos suman un total de 6.0. Este hecho es en gran medida una cuestión de conveniencia, dado que el promedio móvil es de seis períodos. \n",
    "\n",
    "**Normalización de Pesos** Podemos *normalizar* el total de los pesos a 1 haciendo: $$pweigth = \\frac{Weigth}{Sum(Weigths)}$$"
   ]
  },
  {
   "cell_type": "code",
   "execution_count": 91,
   "metadata": {},
   "outputs": [
    {
     "data": {
      "text/plain": [
       "array([0.03125, 0.03125, 0.0625 , 0.125  , 0.25   , 0.5    ])"
      ]
     },
     "execution_count": 91,
     "metadata": {},
     "output_type": "execute_result"
    }
   ],
   "source": [
    "pweights = weights/df[\"Weights\"].sum() \n",
    "pweights"
   ]
  },
  {
   "cell_type": "code",
   "execution_count": 93,
   "metadata": {},
   "outputs": [
    {
     "data": {
      "text/html": [
       "<div>\n",
       "<style scoped>\n",
       "    .dataframe tbody tr th:only-of-type {\n",
       "        vertical-align: middle;\n",
       "    }\n",
       "\n",
       "    .dataframe tbody tr th {\n",
       "        vertical-align: top;\n",
       "    }\n",
       "\n",
       "    .dataframe thead th {\n",
       "        text-align: right;\n",
       "    }\n",
       "</style>\n",
       "<table border=\"1\" class=\"dataframe\">\n",
       "  <thead>\n",
       "    <tr style=\"text-align: right;\">\n",
       "      <th></th>\n",
       "      <th>Data</th>\n",
       "      <th>Weights</th>\n",
       "      <th>pWeights</th>\n",
       "      <th>Weighted_Data</th>\n",
       "    </tr>\n",
       "  </thead>\n",
       "  <tbody>\n",
       "    <tr>\n",
       "      <td>0</td>\n",
       "      <td>855</td>\n",
       "      <td>0.1875</td>\n",
       "      <td>0.03125</td>\n",
       "      <td>160.3125</td>\n",
       "    </tr>\n",
       "    <tr>\n",
       "      <td>1</td>\n",
       "      <td>847</td>\n",
       "      <td>0.1875</td>\n",
       "      <td>0.03125</td>\n",
       "      <td>158.8125</td>\n",
       "    </tr>\n",
       "    <tr>\n",
       "      <td>2</td>\n",
       "      <td>1000</td>\n",
       "      <td>0.3750</td>\n",
       "      <td>0.06250</td>\n",
       "      <td>375.0000</td>\n",
       "    </tr>\n",
       "    <tr>\n",
       "      <td>3</td>\n",
       "      <td>635</td>\n",
       "      <td>0.7500</td>\n",
       "      <td>0.12500</td>\n",
       "      <td>476.2500</td>\n",
       "    </tr>\n",
       "    <tr>\n",
       "      <td>4</td>\n",
       "      <td>346</td>\n",
       "      <td>1.5000</td>\n",
       "      <td>0.25000</td>\n",
       "      <td>519.0000</td>\n",
       "    </tr>\n",
       "    <tr>\n",
       "      <td>5</td>\n",
       "      <td>2146</td>\n",
       "      <td>3.0000</td>\n",
       "      <td>0.50000</td>\n",
       "      <td>6438.0000</td>\n",
       "    </tr>\n",
       "  </tbody>\n",
       "</table>\n",
       "</div>"
      ],
      "text/plain": [
       "   Data  Weights  pWeights  Weighted_Data\n",
       "0   855   0.1875   0.03125       160.3125\n",
       "1   847   0.1875   0.03125       158.8125\n",
       "2  1000   0.3750   0.06250       375.0000\n",
       "3   635   0.7500   0.12500       476.2500\n",
       "4   346   1.5000   0.25000       519.0000\n",
       "5  2146   3.0000   0.50000      6438.0000"
      ]
     },
     "execution_count": 93,
     "metadata": {},
     "output_type": "execute_result"
    }
   ],
   "source": [
    "joined = list(zip(data3, weights, pweights, weighted_data)) \n",
    "wdb=pd.DataFrame(joined, columns=[\"Data\", \"Weights\", \"pWeights\", \"Weighted_Data\"])\n",
    "df2=pd.DataFrame(wdb)\n",
    "df2"
   ]
  },
  {
   "cell_type": "markdown",
   "metadata": {},
   "source": [
    "#### Total of Weights\n",
    "The weights total to 6.0. This fact is largely a matter of convenience, given that the average is six periods long. You would get the same result if you doubled the size of each weight and at the end divided by 12.\n",
    "$$ \\mathrm{SUM}(weights) = \\mathrm{COUNT}(timeCycles) $$"
   ]
  },
  {
   "cell_type": "code",
   "execution_count": 98,
   "metadata": {},
   "outputs": [
    {
     "data": {
      "text/plain": [
       "6.0"
      ]
     },
     "execution_count": 98,
     "metadata": {},
     "output_type": "execute_result"
    }
   ],
   "source": [
    "totalWeights=df2[\"Weights\"].sum() \n",
    "totalWeights   "
   ]
  },
  {
   "cell_type": "code",
   "execution_count": 99,
   "metadata": {},
   "outputs": [
    {
     "data": {
      "text/plain": [
       "1.0"
      ]
     },
     "execution_count": 99,
     "metadata": {},
     "output_type": "execute_result"
    }
   ],
   "source": [
    "totalpWeights=df2[\"pWeights\"].sum() \n",
    "totalpWeights   "
   ]
  },
  {
   "cell_type": "markdown",
   "metadata": {},
   "source": [
    "### Los Pesos más Recientes son más Grandes\n",
    "\n",
    "**El peso que se aplica a la observación más reciente es el mayor**. Cuanto más atrás se produce una observación, menor es su peso....\n",
    "\n",
    "Esto tiene bastante sentido: *A menos que haya algún tipo de estacionalidad en los datos, las condiciones del mercado que estaban vigentes seis períodos atrás son menos propensas a representar las condiciones del mercado establecidas un período atrás*. Por otro lado, las más recientes cuanto mayor sea el valor observado, mejor será como indicador del siguiente valor aún no observado.\n",
    "\n",
    "...\n",
    "\n",
    "El patrón utilizado por cualquier esquema de ponderación, como el utilizado por QuickBooks, tiene implicaciones sobre cómo los promedios móviles rastrean los datos reales o los suavizan. En general, cuando los valores más recientes se ponderan más fuertemente, el promedio móvil rastrea más rápidamente. Cuando los valores se ponderan por igual,..., el promedio móvil tiende a suavizar los valores originales más de lo que los rastrea. Probablemente llegaría a esa conclusión intuitivamente, pero la Figura 3.8 proporciona un ejemplo visual."
   ]
  },
  {
   "cell_type": "markdown",
   "metadata": {},
   "source": [
    "...Observe en la Figura 3.8 que el promedio móvil ponderado de seis días, que se muestra con una línea punteada, rastrea las observaciones reales (línea discontinua) de manera bastante cercana y rápida. Tiene picos y valles un período después de las observaciones reales. En contraste, el promedio móvil no ponderado de seis días (línea gruesa y continua) suaviza los datos reales, suprimiendo el ruido irrelevante, pero a un costo. Puede perderse un cambio importante en el nivel de la serie hasta que sea demasiado tarde para hacer algo al respecto."
   ]
  },
  {
   "cell_type": "code",
   "execution_count": 111,
   "metadata": {},
   "outputs": [
    {
     "data": {
      "text/html": [
       "<div>\n",
       "<style scoped>\n",
       "    .dataframe tbody tr th:only-of-type {\n",
       "        vertical-align: middle;\n",
       "    }\n",
       "\n",
       "    .dataframe tbody tr th {\n",
       "        vertical-align: top;\n",
       "    }\n",
       "\n",
       "    .dataframe thead th {\n",
       "        text-align: right;\n",
       "    }\n",
       "</style>\n",
       "<table border=\"1\" class=\"dataframe\">\n",
       "  <thead>\n",
       "    <tr style=\"text-align: right;\">\n",
       "      <th></th>\n",
       "      <th>date</th>\n",
       "      <th>metric</th>\n",
       "      <th>weights</th>\n",
       "      <th>wighted</th>\n",
       "    </tr>\n",
       "  </thead>\n",
       "  <tbody>\n",
       "    <tr>\n",
       "      <td>0</td>\n",
       "      <td>2019-07-01</td>\n",
       "      <td>855</td>\n",
       "      <td>0.003</td>\n",
       "      <td>2.565</td>\n",
       "    </tr>\n",
       "    <tr>\n",
       "      <td>1</td>\n",
       "      <td>2019-07-02</td>\n",
       "      <td>847</td>\n",
       "      <td>0.005</td>\n",
       "      <td>4.235</td>\n",
       "    </tr>\n",
       "    <tr>\n",
       "      <td>2</td>\n",
       "      <td>2019-07-03</td>\n",
       "      <td>1000</td>\n",
       "      <td>0.008</td>\n",
       "      <td>8.000</td>\n",
       "    </tr>\n",
       "    <tr>\n",
       "      <td>3</td>\n",
       "      <td>2019-07-04</td>\n",
       "      <td>635</td>\n",
       "      <td>0.011</td>\n",
       "      <td>6.985</td>\n",
       "    </tr>\n",
       "    <tr>\n",
       "      <td>4</td>\n",
       "      <td>2019-07-05</td>\n",
       "      <td>346</td>\n",
       "      <td>0.013</td>\n",
       "      <td>4.498</td>\n",
       "    </tr>\n",
       "    <tr>\n",
       "      <td>5</td>\n",
       "      <td>2019-07-06</td>\n",
       "      <td>2146</td>\n",
       "      <td>0.016</td>\n",
       "      <td>34.336</td>\n",
       "    </tr>\n",
       "    <tr>\n",
       "      <td>6</td>\n",
       "      <td>2019-07-07</td>\n",
       "      <td>1328</td>\n",
       "      <td>0.019</td>\n",
       "      <td>25.232</td>\n",
       "    </tr>\n",
       "    <tr>\n",
       "      <td>7</td>\n",
       "      <td>2019-07-08</td>\n",
       "      <td>1322</td>\n",
       "      <td>0.021</td>\n",
       "      <td>27.762</td>\n",
       "    </tr>\n",
       "    <tr>\n",
       "      <td>8</td>\n",
       "      <td>2019-07-09</td>\n",
       "      <td>3124</td>\n",
       "      <td>0.024</td>\n",
       "      <td>74.976</td>\n",
       "    </tr>\n",
       "    <tr>\n",
       "      <td>9</td>\n",
       "      <td>2019-07-10</td>\n",
       "      <td>1012</td>\n",
       "      <td>0.026</td>\n",
       "      <td>26.312</td>\n",
       "    </tr>\n",
       "  </tbody>\n",
       "</table>\n",
       "</div>"
      ],
      "text/plain": [
       "        date  metric  weights  wighted\n",
       "0 2019-07-01     855    0.003    2.565\n",
       "1 2019-07-02     847    0.005    4.235\n",
       "2 2019-07-03    1000    0.008    8.000\n",
       "3 2019-07-04     635    0.011    6.985\n",
       "4 2019-07-05     346    0.013    4.498\n",
       "5 2019-07-06    2146    0.016   34.336\n",
       "6 2019-07-07    1328    0.019   25.232\n",
       "7 2019-07-08    1322    0.021   27.762\n",
       "8 2019-07-09    3124    0.024   74.976\n",
       "9 2019-07-10    1012    0.026   26.312"
      ]
     },
     "execution_count": 111,
     "metadata": {},
     "output_type": "execute_result"
    }
   ],
   "source": [
    "date = pd.DatetimeIndex(['2019-07-01', '2019-07-02', '2019-07-03', '2019-07-04', '2019-07-05', '2019-07-06', '2019-07-07', '2019-07-08', '2019-07-09', '2019-07-10', '2019-07-11', '2019-07-12', '2019-07-13', '2019-07-14', '2019-07-15', '2019-07-16', '2019-07-17', '2019-07-18', '2019-07-19', '2019-07-20', '2019-07-21', '2019-07-22', '2019-07-23', '2019-07-24', '2019-07-25', '2019-07-26', '2019-07-27'])\n",
    "metric = np.array([855, 847, 1000, 635, 346, 2146, 1328, 1322, 3124, 1012, 1280, 2435, 1016, 3465, 1107, 1172, 3432, 836, 142, 345, 2602, 750, 716, 770, 900, 50, 150])\n",
    "weights = np.array([\t0.003,\t0.005,\t0.008,\t0.011,\t0.013,\t0.016,\t0.019,\t0.021,\t0.024,\t0.026,\t0.029,\t0.032,\t0.034,\t0.037,\t0.04,\t0.042,\t0.045,\t0.048,\t0.05,\t0.053,\t0.056,\t0.058,\t0.061,\t0.063,\t0.066,\t0.069,\t0.071])\n",
    "wighted = data*weights \n",
    "\n",
    "join = list(zip(date, metric, weights, wighted))\n",
    "wdf=pd.DataFrame(join, columns=[\"date\", \"metric\", \"weights\", \"wighted\"])\n",
    "wdf.head(10)\n"
   ]
  },
  {
   "cell_type": "code",
   "execution_count": 119,
   "metadata": {},
   "outputs": [
    {
     "name": "stdout",
     "output_type": "stream",
     "text": [
      "2019-07-01     855\n",
      "2019-07-02     847\n",
      "2019-07-03    1000\n",
      "2019-07-04     635\n",
      "2019-07-05     346\n",
      "2019-07-06    2146\n",
      "2019-07-07    1328\n",
      "2019-07-08    1322\n",
      "2019-07-09    3124\n",
      "2019-07-10    1012\n",
      "dtype: int32\n",
      "2019-07-01     2.565\n",
      "2019-07-02     4.235\n",
      "2019-07-03     8.000\n",
      "2019-07-04     6.985\n",
      "2019-07-05     4.498\n",
      "2019-07-06    34.336\n",
      "2019-07-07    25.232\n",
      "2019-07-08    27.762\n",
      "2019-07-09    74.976\n",
      "2019-07-10    26.312\n",
      "dtype: float64\n"
     ]
    },
    {
     "data": {
      "text/plain": [
       "(None, None)"
      ]
     },
     "execution_count": 119,
     "metadata": {},
     "output_type": "execute_result"
    }
   ],
   "source": [
    "# Creación de las Time Series:\n",
    "ts = pd.Series(metric, index=date)\n",
    "wts = pd.Series(wighted, index=date)\n",
    "\n",
    "print(ts.head(10)), print(wts.head(10))"
   ]
  },
  {
   "cell_type": "code",
   "execution_count": 131,
   "metadata": {},
   "outputs": [
    {
     "data": {
      "image/png": "[encoded data removed]",
      "text/plain": [
       "<Figure size 432x288 with 1 Axes>"
      ]
     },
     "metadata": {
      "needs_background": "light"
     },
     "output_type": "display_data"
    }
   ],
   "source": [
    "ts.plot()\n",
    "wts.plot(color='red')\n",
    "pyplot.show()"
   ]
  },
  {
   "cell_type": "code",
   "execution_count": 121,
   "metadata": {},
   "outputs": [
    {
     "data": {
      "text/plain": [
       "1.0"
      ]
     },
     "execution_count": 121,
     "metadata": {},
     "output_type": "execute_result"
    }
   ],
   "source": [
    "wdb[\"weights\"].sum()"
   ]
  },
  {
   "cell_type": "code",
   "execution_count": 126,
   "metadata": {},
   "outputs": [],
   "source": [
    "# PM-4:\n",
    "PM4 = ts.rolling(window=4).mean()\n",
    "# PM-6:\n",
    "PM6 = ts.rolling(window=6).mean()\n",
    "# PM-6 Ponderado:\n",
    "wPM6 = wts.rolling(window=6).mean()"
   ]
  },
  {
   "cell_type": "code",
   "execution_count": 130,
   "metadata": {},
   "outputs": [
    {
     "data": {
      "image/png": "[encoded data removed]",
      "text/plain": [
       "<Figure size 432x288 with 1 Axes>"
      ]
     },
     "metadata": {
      "needs_background": "light"
     },
     "output_type": "display_data"
    }
   ],
   "source": [
    "ts.plot()\n",
    "wts.plot(color='red')\n",
    "PM4.plot(color='orange')\n",
    "PM6.plot(color='blue')\n",
    "wPM6.plot(color='green')\n",
    "pyplot.show()"
   ]
  },
  {
   "cell_type": "code",
   "execution_count": 133,
   "metadata": {},
   "outputs": [
    {
     "data": {
      "text/html": [
       "<div>\n",
       "<style scoped>\n",
       "    .dataframe tbody tr th:only-of-type {\n",
       "        vertical-align: middle;\n",
       "    }\n",
       "\n",
       "    .dataframe tbody tr th {\n",
       "        vertical-align: top;\n",
       "    }\n",
       "\n",
       "    .dataframe thead th {\n",
       "        text-align: right;\n",
       "    }\n",
       "</style>\n",
       "<table border=\"1\" class=\"dataframe\">\n",
       "  <thead>\n",
       "    <tr style=\"text-align: right;\">\n",
       "      <th></th>\n",
       "      <th>index</th>\n",
       "      <th>data</th>\n",
       "      <th>weights</th>\n",
       "      <th>wighted</th>\n",
       "      <th>MA4</th>\n",
       "      <th>MA6</th>\n",
       "      <th>wMA6</th>\n",
       "    </tr>\n",
       "  </thead>\n",
       "  <tbody>\n",
       "    <tr>\n",
       "      <td>0</td>\n",
       "      <td>2019-07-01</td>\n",
       "      <td>855</td>\n",
       "      <td>0.003</td>\n",
       "      <td>2.565</td>\n",
       "      <td>NaN</td>\n",
       "      <td>NaN</td>\n",
       "      <td>NaN</td>\n",
       "    </tr>\n",
       "    <tr>\n",
       "      <td>1</td>\n",
       "      <td>2019-07-02</td>\n",
       "      <td>847</td>\n",
       "      <td>0.005</td>\n",
       "      <td>4.235</td>\n",
       "      <td>NaN</td>\n",
       "      <td>NaN</td>\n",
       "      <td>NaN</td>\n",
       "    </tr>\n",
       "    <tr>\n",
       "      <td>2</td>\n",
       "      <td>2019-07-03</td>\n",
       "      <td>1000</td>\n",
       "      <td>0.008</td>\n",
       "      <td>8.000</td>\n",
       "      <td>NaN</td>\n",
       "      <td>NaN</td>\n",
       "      <td>NaN</td>\n",
       "    </tr>\n",
       "    <tr>\n",
       "      <td>3</td>\n",
       "      <td>2019-07-04</td>\n",
       "      <td>635</td>\n",
       "      <td>0.011</td>\n",
       "      <td>6.985</td>\n",
       "      <td>834.25</td>\n",
       "      <td>NaN</td>\n",
       "      <td>NaN</td>\n",
       "    </tr>\n",
       "    <tr>\n",
       "      <td>4</td>\n",
       "      <td>2019-07-05</td>\n",
       "      <td>346</td>\n",
       "      <td>0.013</td>\n",
       "      <td>4.498</td>\n",
       "      <td>707.00</td>\n",
       "      <td>NaN</td>\n",
       "      <td>NaN</td>\n",
       "    </tr>\n",
       "    <tr>\n",
       "      <td>5</td>\n",
       "      <td>2019-07-06</td>\n",
       "      <td>2146</td>\n",
       "      <td>0.016</td>\n",
       "      <td>34.336</td>\n",
       "      <td>1031.75</td>\n",
       "      <td>971.500000</td>\n",
       "      <td>10.103167</td>\n",
       "    </tr>\n",
       "    <tr>\n",
       "      <td>6</td>\n",
       "      <td>2019-07-07</td>\n",
       "      <td>1328</td>\n",
       "      <td>0.019</td>\n",
       "      <td>25.232</td>\n",
       "      <td>1113.75</td>\n",
       "      <td>1050.333333</td>\n",
       "      <td>13.881000</td>\n",
       "    </tr>\n",
       "    <tr>\n",
       "      <td>7</td>\n",
       "      <td>2019-07-08</td>\n",
       "      <td>1322</td>\n",
       "      <td>0.021</td>\n",
       "      <td>27.762</td>\n",
       "      <td>1285.50</td>\n",
       "      <td>1129.500000</td>\n",
       "      <td>17.802167</td>\n",
       "    </tr>\n",
       "    <tr>\n",
       "      <td>8</td>\n",
       "      <td>2019-07-09</td>\n",
       "      <td>3124</td>\n",
       "      <td>0.024</td>\n",
       "      <td>74.976</td>\n",
       "      <td>1980.00</td>\n",
       "      <td>1483.500000</td>\n",
       "      <td>28.964833</td>\n",
       "    </tr>\n",
       "    <tr>\n",
       "      <td>9</td>\n",
       "      <td>2019-07-10</td>\n",
       "      <td>1012</td>\n",
       "      <td>0.026</td>\n",
       "      <td>26.312</td>\n",
       "      <td>1696.50</td>\n",
       "      <td>1546.333333</td>\n",
       "      <td>32.186000</td>\n",
       "    </tr>\n",
       "  </tbody>\n",
       "</table>\n",
       "</div>"
      ],
      "text/plain": [
       "       index  data  weights  wighted      MA4          MA6       wMA6\n",
       "0 2019-07-01   855    0.003    2.565      NaN          NaN        NaN\n",
       "1 2019-07-02   847    0.005    4.235      NaN          NaN        NaN\n",
       "2 2019-07-03  1000    0.008    8.000      NaN          NaN        NaN\n",
       "3 2019-07-04   635    0.011    6.985   834.25          NaN        NaN\n",
       "4 2019-07-05   346    0.013    4.498   707.00          NaN        NaN\n",
       "5 2019-07-06  2146    0.016   34.336  1031.75   971.500000  10.103167\n",
       "6 2019-07-07  1328    0.019   25.232  1113.75  1050.333333  13.881000\n",
       "7 2019-07-08  1322    0.021   27.762  1285.50  1129.500000  17.802167\n",
       "8 2019-07-09  3124    0.024   74.976  1980.00  1483.500000  28.964833\n",
       "9 2019-07-10  1012    0.026   26.312  1696.50  1546.333333  32.186000"
      ]
     },
     "execution_count": 133,
     "metadata": {},
     "output_type": "execute_result"
    }
   ],
   "source": [
    "# *Unido en un DataFrame:\n",
    "joined = list(zip(index, data, weights, wighted, PM4, PM6, wPM6))\n",
    "wdb=pd.DataFrame(joined, columns=[\"index\", \"data\", \"weights\", \"wighted\", \"MA4\", \"MA6\", \"wMA6\"])\n",
    "wdb.head(10)"
   ]
  },
  {
   "cell_type": "code",
   "execution_count": 134,
   "metadata": {},
   "outputs": [],
   "source": [
    "#import matplotlib.pyplot as plt\n",
    "#plt.plot(wdb[\"index\"],wdb[\"wighted\"])\n",
    "#from matplotlib import pyplot\n",
    "#wdb['wighted'].plot(color='blue')"
   ]
  },
  {
   "cell_type": "markdown",
   "metadata": {},
   "source": [
    "**El promedio móvil ponderado rastrea los datos originales mucho más de cerca que el promedio móvil no ponderado.**"
   ]
  },
  {
   "cell_type": "code",
   "execution_count": null,
   "metadata": {},
   "outputs": [],
   "source": []
  },
  {
   "cell_type": "code",
   "execution_count": null,
   "metadata": {},
   "outputs": [],
   "source": []
  },
  {
   "cell_type": "markdown",
   "metadata": {},
   "source": [
    "### Evaluacion de Modelos MA's\n",
    "¿Cómo se debe decidir sobre el número de valores a utilizar en una media móvil, es decir, hay que usar una media móvil de longitud 2? 3? 5? Algún otro número? Es sorprendentemente difícil tomar esa decisión simplemente echando un vistazo a un gráfico que muestra la media móvil contra los datos reales. Hay varios métodos objetivos, cualquiera de los cuales podría ser considerado como un estándar. Cada uno de ellos depende, de manera muy lógica, de **la diferencia** entre el *pronóstico* para un período determinado y el *valor real observado* para ese período. Esa diferencia se calcula para cada uno de los períodos disponibles, y las diferencias se puede analizar de varias maneras. \n",
    "\n",
    "$$ ERROR = pronostico - observación $$\n",
    "\n",
    "Por ejemplo, es posible calcular la *diferencia media* entre la previsión y lo actual, y seleccionar la longitud de la media móvil que se traduce en la diferencia media más baja. El problema con este enfoque es que las grandes oscilaciones se anulan. El error promedio no le dice que una media móvil dado como resultado en algunos grandes errores, algunos de ellos positivos y otros negativos."
   ]
  },
  {
   "cell_type": "markdown",
   "metadata": {},
   "source": [
    "#### Desviación media absoluta \n",
    "Una manera de rodear este problema es tomar el promedio de los valores absolutos de los errores. \n",
    "\n",
    "$$\\mathrm{AVG}(|x_i - \\hat{x}_i|) $$\n",
    "\n",
    "Al tratar a todos los errores como *números positivos*, se evita el problema de los errores positivos y negativos se anulen entre sí. Este enfoque se denomina normalmente la desviación media absoluta. Se podría elegir la duración de su media móvil que dio lugar a la *mínima desviación media absoluta*.\n",
    "\n",
    "#### Mínimos cuadrados \n",
    "\n",
    "Otra forma de tratar el problema de los errores positivos y negativos es mediante el cuadrado de ellos. Tanto los errores positivos y negativos, cuando al cuadrado, dan un resultado positivo. Este enfoque se denomina *el método de los mínimos cuadrados*. Mínimos cuadrados es probablemente el método más popular para determinar la longitud media móvil más exacto para la predicción de una serie de datos dado. \n",
    "\n",
    "$$\\mathrm{AVG}((x_i - \\hat{x}_i)^2)$$\n",
    "\n",
    "Hay varias razones que esto es así. Uno es que es el mismo enfoque utilizado en el análisis de regresión (véase el Capítulo 5, “Pronosticar una serie de tiempo: Regresión”), y aunque no se utiliza como una estadística inferencial en este contexto, sus propiedades son bien conocidos y entendidos. Otra razón por la que los analistas utilizan el criterio de mínimos cuadrados es que debido a que los errores se elevan al cuadrado, el método de mínimos cuadrados es más sensible a los grandes errores que hay otros enfoques, tales como la desviación media absoluta. En previsión, a menudo es mucho más importante para evitar algunos errores grandes de lo que es para evitar muchos errores pequeños. En los negocios, un error grave que puede hundirse, mientras que un montón de pequeños errores son virtualmente negocio como de costumbre."
   ]
  },
  {
   "cell_type": "code",
   "execution_count": null,
   "metadata": {},
   "outputs": [],
   "source": []
  }
 ],
 "metadata": {
  "kernelspec": {
   "display_name": "Python 3",
   "language": "python",
   "name": "python3"
  },
  "language_info": {
   "codemirror_mode": {
    "name": "ipython",
    "version": 3
   },
   "file_extension": ".py",
   "mimetype": "text/x-python",
   "name": "python",
   "nbconvert_exporter": "python",
   "pygments_lexer": "ipython3",
   "version": "3.7.4"
  }
 },
 "nbformat": 4,
 "nbformat_minor": 2
}
