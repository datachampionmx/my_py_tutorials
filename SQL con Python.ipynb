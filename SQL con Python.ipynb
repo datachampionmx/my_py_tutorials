{
 "cells": [
  {
   "cell_type": "markdown",
   "metadata": {},
   "source": [
    "# SQL con Python\n",
    "http://pandas.pydata.org/pandas-docs/stable/merging.html"
   ]
  },
  {
   "cell_type": "code",
   "execution_count": 18,
   "metadata": {},
   "outputs": [],
   "source": [
    "# pip install pandasql\n",
    "from pandasql import sqldf\n",
    "from pandasql import load_meat, load_births\n",
    "import matplotlib.pyplot as plt\n",
    "from pandasql import *\n",
    "import pandas as pd"
   ]
  },
  {
   "cell_type": "code",
   "execution_count": 17,
   "metadata": {},
   "outputs": [],
   "source": [
    "# DATA:\n",
    "meat = load_meat()\n",
    "births = load_births()"
   ]
  },
  {
   "cell_type": "code",
   "execution_count": 40,
   "metadata": {},
   "outputs": [
    {
     "name": "stdout",
     "output_type": "stream",
     "text": [
      "<class 'pandas.core.frame.DataFrame'> 827\n",
      "<class 'pandas.core.frame.DataFrame'> 408\n"
     ]
    }
   ],
   "source": [
    "# EXPLORE:\n",
    "print(type(meat), len(meat))\n",
    "print(type(births), len(births))"
   ]
  },
  {
   "cell_type": "code",
   "execution_count": 41,
   "metadata": {},
   "outputs": [
    {
     "name": "stdout",
     "output_type": "stream",
     "text": [
      "        date   beef   veal    pork  lamb_and_mutton  broilers  other_chicken  \\\n",
      "0 1944-01-01  751.0   85.0  1280.0             89.0       NaN            NaN   \n",
      "1 1944-02-01  713.0   77.0  1169.0             72.0       NaN            NaN   \n",
      "2 1944-03-01  741.0   90.0  1128.0             75.0       NaN            NaN   \n",
      "3 1944-04-01  650.0   89.0   978.0             66.0       NaN            NaN   \n",
      "4 1944-05-01  681.0  106.0  1029.0             78.0       NaN            NaN   \n",
      "5 1944-06-01  658.0  125.0   962.0             79.0       NaN            NaN   \n",
      "6 1944-07-01  662.0  142.0   796.0             82.0       NaN            NaN   \n",
      "7 1944-08-01  787.0  175.0   748.0             87.0       NaN            NaN   \n",
      "8 1944-09-01  774.0  182.0   678.0             91.0       NaN            NaN   \n",
      "9 1944-10-01  834.0  215.0   777.0            100.0       NaN            NaN   \n",
      "\n",
      "   turkey  \n",
      "0     NaN  \n",
      "1     NaN  \n",
      "2     NaN  \n",
      "3     NaN  \n",
      "4     NaN  \n",
      "5     NaN  \n",
      "6     NaN  \n",
      "7     NaN  \n",
      "8     NaN  \n",
      "9     NaN  \n",
      "        date  births\n",
      "0 1975-01-01  265775\n",
      "1 1975-02-01  241045\n",
      "2 1975-03-01  268849\n",
      "3 1975-04-01  247455\n",
      "4 1975-05-01  254545\n",
      "5 1975-06-01  254096\n",
      "6 1975-07-01  275163\n",
      "7 1975-08-01  281300\n",
      "8 1975-09-01  270738\n",
      "9 1975-10-01  265494\n"
     ]
    }
   ],
   "source": [
    "print(meat.head(10))\n",
    "print(births.head(10))"
   ]
  },
  {
   "cell_type": "code",
   "execution_count": 53,
   "metadata": {},
   "outputs": [],
   "source": [
    "#print(meat.describe())\n",
    "#print(births.describe())"
   ]
  },
  {
   "cell_type": "code",
   "execution_count": null,
   "metadata": {},
   "outputs": [],
   "source": [
    "# SQL PySQLFUNCTION:\n",
    "pysqldf = lambda q: sqldf(q, globals())"
   ]
  },
  {
   "cell_type": "code",
   "execution_count": 62,
   "metadata": {},
   "outputs": [
    {
     "data": {
      "text/html": [
       "<div>\n",
       "<style scoped>\n",
       "    .dataframe tbody tr th:only-of-type {\n",
       "        vertical-align: middle;\n",
       "    }\n",
       "\n",
       "    .dataframe tbody tr th {\n",
       "        vertical-align: top;\n",
       "    }\n",
       "\n",
       "    .dataframe thead th {\n",
       "        text-align: right;\n",
       "    }\n",
       "</style>\n",
       "<table border=\"1\" class=\"dataframe\">\n",
       "  <thead>\n",
       "    <tr style=\"text-align: right;\">\n",
       "      <th></th>\n",
       "      <th>date</th>\n",
       "      <th>beef</th>\n",
       "      <th>veal</th>\n",
       "      <th>pork</th>\n",
       "      <th>lamb_and_mutton</th>\n",
       "      <th>broilers</th>\n",
       "      <th>other_chicken</th>\n",
       "      <th>turkey</th>\n",
       "    </tr>\n",
       "  </thead>\n",
       "  <tbody>\n",
       "    <tr>\n",
       "      <td>0</td>\n",
       "      <td>1944-01-01 00:00:00.000000</td>\n",
       "      <td>751.0</td>\n",
       "      <td>85.0</td>\n",
       "      <td>1280.0</td>\n",
       "      <td>89.0</td>\n",
       "      <td>None</td>\n",
       "      <td>None</td>\n",
       "      <td>None</td>\n",
       "    </tr>\n",
       "    <tr>\n",
       "      <td>1</td>\n",
       "      <td>1944-02-01 00:00:00.000000</td>\n",
       "      <td>713.0</td>\n",
       "      <td>77.0</td>\n",
       "      <td>1169.0</td>\n",
       "      <td>72.0</td>\n",
       "      <td>None</td>\n",
       "      <td>None</td>\n",
       "      <td>None</td>\n",
       "    </tr>\n",
       "    <tr>\n",
       "      <td>2</td>\n",
       "      <td>1944-03-01 00:00:00.000000</td>\n",
       "      <td>741.0</td>\n",
       "      <td>90.0</td>\n",
       "      <td>1128.0</td>\n",
       "      <td>75.0</td>\n",
       "      <td>None</td>\n",
       "      <td>None</td>\n",
       "      <td>None</td>\n",
       "    </tr>\n",
       "    <tr>\n",
       "      <td>3</td>\n",
       "      <td>1944-04-01 00:00:00.000000</td>\n",
       "      <td>650.0</td>\n",
       "      <td>89.0</td>\n",
       "      <td>978.0</td>\n",
       "      <td>66.0</td>\n",
       "      <td>None</td>\n",
       "      <td>None</td>\n",
       "      <td>None</td>\n",
       "    </tr>\n",
       "    <tr>\n",
       "      <td>4</td>\n",
       "      <td>1944-05-01 00:00:00.000000</td>\n",
       "      <td>681.0</td>\n",
       "      <td>106.0</td>\n",
       "      <td>1029.0</td>\n",
       "      <td>78.0</td>\n",
       "      <td>None</td>\n",
       "      <td>None</td>\n",
       "      <td>None</td>\n",
       "    </tr>\n",
       "    <tr>\n",
       "      <td>5</td>\n",
       "      <td>1944-06-01 00:00:00.000000</td>\n",
       "      <td>658.0</td>\n",
       "      <td>125.0</td>\n",
       "      <td>962.0</td>\n",
       "      <td>79.0</td>\n",
       "      <td>None</td>\n",
       "      <td>None</td>\n",
       "      <td>None</td>\n",
       "    </tr>\n",
       "    <tr>\n",
       "      <td>6</td>\n",
       "      <td>1944-07-01 00:00:00.000000</td>\n",
       "      <td>662.0</td>\n",
       "      <td>142.0</td>\n",
       "      <td>796.0</td>\n",
       "      <td>82.0</td>\n",
       "      <td>None</td>\n",
       "      <td>None</td>\n",
       "      <td>None</td>\n",
       "    </tr>\n",
       "    <tr>\n",
       "      <td>7</td>\n",
       "      <td>1944-08-01 00:00:00.000000</td>\n",
       "      <td>787.0</td>\n",
       "      <td>175.0</td>\n",
       "      <td>748.0</td>\n",
       "      <td>87.0</td>\n",
       "      <td>None</td>\n",
       "      <td>None</td>\n",
       "      <td>None</td>\n",
       "    </tr>\n",
       "    <tr>\n",
       "      <td>8</td>\n",
       "      <td>1944-09-01 00:00:00.000000</td>\n",
       "      <td>774.0</td>\n",
       "      <td>182.0</td>\n",
       "      <td>678.0</td>\n",
       "      <td>91.0</td>\n",
       "      <td>None</td>\n",
       "      <td>None</td>\n",
       "      <td>None</td>\n",
       "    </tr>\n",
       "    <tr>\n",
       "      <td>9</td>\n",
       "      <td>1944-10-01 00:00:00.000000</td>\n",
       "      <td>834.0</td>\n",
       "      <td>215.0</td>\n",
       "      <td>777.0</td>\n",
       "      <td>100.0</td>\n",
       "      <td>None</td>\n",
       "      <td>None</td>\n",
       "      <td>None</td>\n",
       "    </tr>\n",
       "  </tbody>\n",
       "</table>\n",
       "</div>"
      ],
      "text/plain": [
       "                         date   beef   veal    pork  lamb_and_mutton broilers  \\\n",
       "0  1944-01-01 00:00:00.000000  751.0   85.0  1280.0             89.0     None   \n",
       "1  1944-02-01 00:00:00.000000  713.0   77.0  1169.0             72.0     None   \n",
       "2  1944-03-01 00:00:00.000000  741.0   90.0  1128.0             75.0     None   \n",
       "3  1944-04-01 00:00:00.000000  650.0   89.0   978.0             66.0     None   \n",
       "4  1944-05-01 00:00:00.000000  681.0  106.0  1029.0             78.0     None   \n",
       "5  1944-06-01 00:00:00.000000  658.0  125.0   962.0             79.0     None   \n",
       "6  1944-07-01 00:00:00.000000  662.0  142.0   796.0             82.0     None   \n",
       "7  1944-08-01 00:00:00.000000  787.0  175.0   748.0             87.0     None   \n",
       "8  1944-09-01 00:00:00.000000  774.0  182.0   678.0             91.0     None   \n",
       "9  1944-10-01 00:00:00.000000  834.0  215.0   777.0            100.0     None   \n",
       "\n",
       "  other_chicken turkey  \n",
       "0          None   None  \n",
       "1          None   None  \n",
       "2          None   None  \n",
       "3          None   None  \n",
       "4          None   None  \n",
       "5          None   None  \n",
       "6          None   None  \n",
       "7          None   None  \n",
       "8          None   None  \n",
       "9          None   None  "
      ]
     },
     "execution_count": 62,
     "metadata": {},
     "output_type": "execute_result"
    }
   ],
   "source": [
    "#EXPLORING USING SQL:\n",
    "q1 = \"\"\"\n",
    "SELECT *\n",
    "FROM meat\n",
    "LIMIT 10;\"\"\"\n",
    "\n",
    "qmeat = sqldf(q1, locals())\n",
    "qmeat"
   ]
  },
  {
   "cell_type": "code",
   "execution_count": 63,
   "metadata": {},
   "outputs": [
    {
     "data": {
      "text/html": [
       "<div>\n",
       "<style scoped>\n",
       "    .dataframe tbody tr th:only-of-type {\n",
       "        vertical-align: middle;\n",
       "    }\n",
       "\n",
       "    .dataframe tbody tr th {\n",
       "        vertical-align: top;\n",
       "    }\n",
       "\n",
       "    .dataframe thead th {\n",
       "        text-align: right;\n",
       "    }\n",
       "</style>\n",
       "<table border=\"1\" class=\"dataframe\">\n",
       "  <thead>\n",
       "    <tr style=\"text-align: right;\">\n",
       "      <th></th>\n",
       "      <th>date</th>\n",
       "      <th>births</th>\n",
       "    </tr>\n",
       "  </thead>\n",
       "  <tbody>\n",
       "    <tr>\n",
       "      <td>0</td>\n",
       "      <td>1975-01-01 00:00:00.000000</td>\n",
       "      <td>265775</td>\n",
       "    </tr>\n",
       "    <tr>\n",
       "      <td>1</td>\n",
       "      <td>1975-02-01 00:00:00.000000</td>\n",
       "      <td>241045</td>\n",
       "    </tr>\n",
       "    <tr>\n",
       "      <td>2</td>\n",
       "      <td>1975-03-01 00:00:00.000000</td>\n",
       "      <td>268849</td>\n",
       "    </tr>\n",
       "    <tr>\n",
       "      <td>3</td>\n",
       "      <td>1975-04-01 00:00:00.000000</td>\n",
       "      <td>247455</td>\n",
       "    </tr>\n",
       "    <tr>\n",
       "      <td>4</td>\n",
       "      <td>1975-05-01 00:00:00.000000</td>\n",
       "      <td>254545</td>\n",
       "    </tr>\n",
       "    <tr>\n",
       "      <td>5</td>\n",
       "      <td>1975-06-01 00:00:00.000000</td>\n",
       "      <td>254096</td>\n",
       "    </tr>\n",
       "    <tr>\n",
       "      <td>6</td>\n",
       "      <td>1975-07-01 00:00:00.000000</td>\n",
       "      <td>275163</td>\n",
       "    </tr>\n",
       "    <tr>\n",
       "      <td>7</td>\n",
       "      <td>1975-08-01 00:00:00.000000</td>\n",
       "      <td>281300</td>\n",
       "    </tr>\n",
       "    <tr>\n",
       "      <td>8</td>\n",
       "      <td>1975-09-01 00:00:00.000000</td>\n",
       "      <td>270738</td>\n",
       "    </tr>\n",
       "    <tr>\n",
       "      <td>9</td>\n",
       "      <td>1975-10-01 00:00:00.000000</td>\n",
       "      <td>265494</td>\n",
       "    </tr>\n",
       "  </tbody>\n",
       "</table>\n",
       "</div>"
      ],
      "text/plain": [
       "                         date  births\n",
       "0  1975-01-01 00:00:00.000000  265775\n",
       "1  1975-02-01 00:00:00.000000  241045\n",
       "2  1975-03-01 00:00:00.000000  268849\n",
       "3  1975-04-01 00:00:00.000000  247455\n",
       "4  1975-05-01 00:00:00.000000  254545\n",
       "5  1975-06-01 00:00:00.000000  254096\n",
       "6  1975-07-01 00:00:00.000000  275163\n",
       "7  1975-08-01 00:00:00.000000  281300\n",
       "8  1975-09-01 00:00:00.000000  270738\n",
       "9  1975-10-01 00:00:00.000000  265494"
      ]
     },
     "execution_count": 63,
     "metadata": {},
     "output_type": "execute_result"
    }
   ],
   "source": [
    "q2 = \"\"\"\n",
    "SELECT *\n",
    "FROM births\n",
    "LIMIT 10;\"\"\"\n",
    "\n",
    "qbirths = sqldf(q2, locals())\n",
    "qbirths"
   ]
  },
  {
   "cell_type": "code",
   "execution_count": 66,
   "metadata": {},
   "outputs": [],
   "source": [
    "# SQL JOING QUERY:\n",
    "jq = \"\"\"\n",
    "SELECT\n",
    "\tm.date, \n",
    "\tm.beef, \n",
    "\tb.births\n",
    "FROM meat m\n",
    "LEFT JOIN births b\n",
    "ON m.date = b.date\n",
    "WHERE\n",
    "m.date > '1974-12-31';\n",
    "\"\"\""
   ]
  },
  {
   "cell_type": "code",
   "execution_count": 67,
   "metadata": {},
   "outputs": [
    {
     "data": {
      "text/html": [
       "<div>\n",
       "<style scoped>\n",
       "    .dataframe tbody tr th:only-of-type {\n",
       "        vertical-align: middle;\n",
       "    }\n",
       "\n",
       "    .dataframe tbody tr th {\n",
       "        vertical-align: top;\n",
       "    }\n",
       "\n",
       "    .dataframe thead th {\n",
       "        text-align: right;\n",
       "    }\n",
       "</style>\n",
       "<table border=\"1\" class=\"dataframe\">\n",
       "  <thead>\n",
       "    <tr style=\"text-align: right;\">\n",
       "      <th></th>\n",
       "      <th>date</th>\n",
       "      <th>beef</th>\n",
       "      <th>births</th>\n",
       "    </tr>\n",
       "  </thead>\n",
       "  <tbody>\n",
       "    <tr>\n",
       "      <td>0</td>\n",
       "      <td>1975-01-01 00:00:00.000000</td>\n",
       "      <td>2106.0</td>\n",
       "      <td>265775.0</td>\n",
       "    </tr>\n",
       "    <tr>\n",
       "      <td>1</td>\n",
       "      <td>1975-02-01 00:00:00.000000</td>\n",
       "      <td>1845.0</td>\n",
       "      <td>241045.0</td>\n",
       "    </tr>\n",
       "    <tr>\n",
       "      <td>2</td>\n",
       "      <td>1975-03-01 00:00:00.000000</td>\n",
       "      <td>1891.0</td>\n",
       "      <td>268849.0</td>\n",
       "    </tr>\n",
       "    <tr>\n",
       "      <td>3</td>\n",
       "      <td>1975-04-01 00:00:00.000000</td>\n",
       "      <td>1895.0</td>\n",
       "      <td>247455.0</td>\n",
       "    </tr>\n",
       "    <tr>\n",
       "      <td>4</td>\n",
       "      <td>1975-05-01 00:00:00.000000</td>\n",
       "      <td>1849.0</td>\n",
       "      <td>254545.0</td>\n",
       "    </tr>\n",
       "    <tr>\n",
       "      <td>...</td>\n",
       "      <td>...</td>\n",
       "      <td>...</td>\n",
       "      <td>...</td>\n",
       "    </tr>\n",
       "    <tr>\n",
       "      <td>558</td>\n",
       "      <td>2012-07-01 00:00:00.000000</td>\n",
       "      <td>2200.8</td>\n",
       "      <td>368450.0</td>\n",
       "    </tr>\n",
       "    <tr>\n",
       "      <td>559</td>\n",
       "      <td>2012-08-01 00:00:00.000000</td>\n",
       "      <td>2367.5</td>\n",
       "      <td>359554.0</td>\n",
       "    </tr>\n",
       "    <tr>\n",
       "      <td>560</td>\n",
       "      <td>2012-09-01 00:00:00.000000</td>\n",
       "      <td>2016.0</td>\n",
       "      <td>361922.0</td>\n",
       "    </tr>\n",
       "    <tr>\n",
       "      <td>561</td>\n",
       "      <td>2012-10-01 00:00:00.000000</td>\n",
       "      <td>2343.7</td>\n",
       "      <td>347625.0</td>\n",
       "    </tr>\n",
       "    <tr>\n",
       "      <td>562</td>\n",
       "      <td>2012-11-01 00:00:00.000000</td>\n",
       "      <td>2206.6</td>\n",
       "      <td>320195.0</td>\n",
       "    </tr>\n",
       "  </tbody>\n",
       "</table>\n",
       "<p>563 rows × 3 columns</p>\n",
       "</div>"
      ],
      "text/plain": [
       "                           date    beef    births\n",
       "0    1975-01-01 00:00:00.000000  2106.0  265775.0\n",
       "1    1975-02-01 00:00:00.000000  1845.0  241045.0\n",
       "2    1975-03-01 00:00:00.000000  1891.0  268849.0\n",
       "3    1975-04-01 00:00:00.000000  1895.0  247455.0\n",
       "4    1975-05-01 00:00:00.000000  1849.0  254545.0\n",
       "..                          ...     ...       ...\n",
       "558  2012-07-01 00:00:00.000000  2200.8  368450.0\n",
       "559  2012-08-01 00:00:00.000000  2367.5  359554.0\n",
       "560  2012-09-01 00:00:00.000000  2016.0  361922.0\n",
       "561  2012-10-01 00:00:00.000000  2343.7  347625.0\n",
       "562  2012-11-01 00:00:00.000000  2206.6  320195.0\n",
       "\n",
       "[563 rows x 3 columns]"
      ]
     },
     "execution_count": 67,
     "metadata": {},
     "output_type": "execute_result"
    }
   ],
   "source": [
    "# EXECUTE DE QUERY:\n",
    "df = pysqldf(jq)\n",
    "df"
   ]
  },
  {
   "cell_type": "code",
   "execution_count": 68,
   "metadata": {},
   "outputs": [
    {
     "data": {
      "text/plain": [
       "0      265775.0\n",
       "1      241045.0\n",
       "2      268849.0\n",
       "3      247455.0\n",
       "4      254545.0\n",
       "         ...   \n",
       "558    368450.0\n",
       "559    359554.0\n",
       "560    361922.0\n",
       "561    347625.0\n",
       "562    320195.0\n",
       "Name: births, Length: 563, dtype: float64"
      ]
     },
     "execution_count": 68,
     "metadata": {},
     "output_type": "execute_result"
    }
   ],
   "source": [
    "df.births = df.births.fillna(method='backfill')\n",
    "df.births"
   ]
  },
  {
   "cell_type": "code",
   "execution_count": 37,
   "metadata": {},
   "outputs": [
    {
     "data": {
      "text/plain": [
       "[<matplotlib.lines.Line2D at 0x1b92e4e32c8>]"
      ]
     },
     "execution_count": 37,
     "metadata": {},
     "output_type": "execute_result"
    },
    {
     "data": {
      "image/png": "[encoded data removed]",
      "text/plain": [
       "<Figure size 432x288 with 1 Axes>"
      ]
     },
     "metadata": {
      "needs_background": "light"
     },
     "output_type": "display_data"
    }
   ],
   "source": [
    "plt.plot(df['beef'])"
   ]
  },
  {
   "cell_type": "code",
   "execution_count": 36,
   "metadata": {},
   "outputs": [
    {
     "data": {
      "text/plain": [
       "[<matplotlib.lines.Line2D at 0x1b92e47d1c8>]"
      ]
     },
     "execution_count": 36,
     "metadata": {},
     "output_type": "execute_result"
    },
    {
     "data": {
      "image/png": "[encoded data removed]",
      "text/plain": [
       "<Figure size 432x288 with 1 Axes>"
      ]
     },
     "metadata": {
      "needs_background": "light"
     },
     "output_type": "display_data"
    }
   ],
   "source": [
    "plt.plot(df['births'])"
   ]
  },
  {
   "cell_type": "code",
   "execution_count": 71,
   "metadata": {},
   "outputs": [
    {
     "data": {
      "image/png": "[encoded data removed]",
      "text/plain": [
       "<Figure size 432x288 with 2 Axes>"
      ]
     },
     "metadata": {
      "needs_background": "light"
     },
     "output_type": "display_data"
    }
   ],
   "source": [
    "fig = plt.figure()\n",
    "\n",
    "ax1 = fig.add_subplot(111)\n",
    "ax1.plot(df['beef'].rolling(12).mean(), color='b')\n",
    "ax1.set_xlabel('months since 1975')\n",
    "ax1.set_ylabel('cattle slaughtered', color='b')\n",
    "\n",
    "ax2 = ax1.twinx()\n",
    "ax2.plot(df['births'].rolling(12).mean(), color='r')\n",
    "ax2.set_ylabel('babies born', color='r')\n",
    "\n",
    "plt.title(\"Beef Consumption and the Birth Rate\")\n",
    "plt.show()"
   ]
  },
  {
   "cell_type": "code",
   "execution_count": 73,
   "metadata": {},
   "outputs": [
    {
     "name": "stdout",
     "output_type": "stream",
     "text": [
      "   strftime(\"%Y\", date)  SUM(births)\n",
      "0                  1975      3136965\n",
      "1                  1976      6304156\n",
      "2                  1979      3333279\n",
      "3                  1982      3612258\n",
      "4                  1983      7333238\n",
      "5                  1986      7308074\n",
      "6                  1987      3760561\n",
      "7                  1988      3756547\n",
      "8                  1990      7718904\n",
      "9                  1991     11714356\n",
      "10                 1993      8194907\n",
      "11                 1995      4000240\n",
      "12                 1996      3952767\n",
      "13                 1997      3899589\n",
      "14                 1998      3891494\n",
      "15                 1999      3880894\n",
      "16                 2000      3941553\n",
      "17                 2001      8018231\n",
      "18                 2002      4025933\n",
      "19                 2003      4021726\n",
      "20                 2005      8210950\n",
      "21                 2007      4138349\n",
      "22                 2008      4265555\n",
      "23                 2011      4247694\n",
      "24                 2012      4130665\n"
     ]
    }
   ],
   "source": [
    "# AGGREGATION:\n",
    "# pandasql supports aggregation. You can use aliased column names or column numbers in your group by clause.\n",
    "\n",
    "# births per year\n",
    "q3 = \"\"\"\n",
    "SELECT\n",
    "strftime(\"%Y\", date), \n",
    "SUM(births)\n",
    "FROM births\n",
    "GROUP BY 1\n",
    "ORDER BY 1;\n",
    "\"\"\"\n",
    "\n",
    "print(sqldf(q3, locals()))\n"
   ]
  },
  {
   "cell_type": "code",
   "execution_count": 76,
   "metadata": {},
   "outputs": [
    {
     "name": "stdout",
     "output_type": "stream",
     "text": [
      "                         date  births\n",
      "0  1975-01-01 00:00:00.000000  265775\n",
      "1  1975-02-01 00:00:00.000000  241045\n",
      "2  1975-03-01 00:00:00.000000  268849\n",
      "3  1975-04-01 00:00:00.000000  247455\n",
      "4  1975-05-01 00:00:00.000000  254545\n",
      "5  1975-06-01 00:00:00.000000  254096\n",
      "6  1975-07-01 00:00:00.000000  275163\n",
      "7  1975-08-01 00:00:00.000000  281300\n",
      "8  1975-09-01 00:00:00.000000  270738\n",
      "9  1975-10-01 00:00:00.000000  265494\n"
     ]
    }
   ],
   "source": [
    "# **locals() vs. globals()**. pandasql needs to have access to other variables in your session/environment. \n",
    "# You can pass locals() to pandasql when executing a SQL statement, but if you're running a lot of queries\n",
    "# ..that might be a pain. To avoid passing locals all the time, you can add this helper function to your \n",
    "# ..script to set globals() like so:\n",
    "\n",
    "def pysqldf(q):\n",
    "    return sqldf(q, globals())\n",
    "\n",
    "q = \"\"\"\n",
    "SELECT *\n",
    "FROM\n",
    "births\n",
    "LIMIT 10;\"\"\"\n",
    "\n",
    "print(pysqldf(q))"
   ]
  },
  {
   "cell_type": "code",
   "execution_count": 81,
   "metadata": {},
   "outputs": [
    {
     "name": "stdout",
     "output_type": "stream",
     "text": [
      "                         date  births    beef\n",
      "0  1975-01-01 00:00:00.000000  265775  2106.0\n",
      "1  1975-02-01 00:00:00.000000  241045  1845.0\n",
      "2  1975-03-01 00:00:00.000000  268849  1891.0\n",
      "3  1975-04-01 00:00:00.000000  247455  1895.0\n",
      "4  1975-05-01 00:00:00.000000  254545  1849.0\n"
     ]
    }
   ],
   "source": [
    "# JOINS: You can join dataframes using normal SQL syntax.\n",
    "\n",
    "# joining meats + births on date\n",
    "\n",
    "q = \"\"\"\n",
    "SELECT\n",
    "    m.date, \n",
    "    b.births, \n",
    "    m.beef\n",
    "FROM meat m\n",
    "INNER JOIN births b ON m.date = b.date\n",
    "ORDER BY m.date\n",
    "LIMIT 100;\n",
    "\"\"\"\n",
    "\n",
    "joined = pysqldf(q)\n",
    "print(joined.head())\n"
   ]
  },
  {
   "cell_type": "code",
   "execution_count": 82,
   "metadata": {},
   "outputs": [
    {
     "name": "stdout",
     "output_type": "stream",
     "text": [
      "                         date    beef  veal    pork  lamb_and_mutton\n",
      "0  2012-11-01 00:00:00.000000  2206.6  10.1  2078.7             12.4\n",
      "1  2012-10-01 00:00:00.000000  2343.7  10.3  2210.4             14.2\n",
      "2  2012-09-01 00:00:00.000000  2016.0   8.8  1911.0             12.5\n",
      "3  2012-08-01 00:00:00.000000  2367.5  10.1  1997.9             14.2\n",
      "4  2012-07-01 00:00:00.000000  2200.8   9.5  1721.8             12.5\n",
      "5  2012-06-01 00:00:00.000000  2252.1   8.9  1750.4             12.4\n",
      "6  2012-05-01 00:00:00.000000  2232.0  10.4  1926.8             13.6\n",
      "7  2012-04-01 00:00:00.000000  1990.6   9.9  1841.7             12.9\n",
      "8  2012-03-01 00:00:00.000000  2159.8  10.0  1987.9             14.2\n",
      "9  2012-02-01 00:00:00.000000  2009.0   9.8  1882.9             12.3\n"
     ]
    }
   ],
   "source": [
    "## WHERE conditions\n",
    "# Here's a WHERE clause.\n",
    "\n",
    "q = \"\"\"\n",
    "SELECT\n",
    "date, beef, veal, pork, lamb_and_mutton\n",
    "FROM meat\n",
    "WHERE lamb_and_mutton >= veal\n",
    "ORDER BY date DESC\n",
    "LIMIT 10;\n",
    "\"\"\"\n",
    "\n",
    "print(pysqldf(q))\n"
   ]
  },
  {
   "cell_type": "code",
   "execution_count": 84,
   "metadata": {},
   "outputs": [
    {
     "name": "stdout",
     "output_type": "stream",
     "text": [
      "                         date    beef   veal    pork  lamb_and_mutton  \\\n",
      "0  1990-02-01 00:00:00.000000  1706.0   24.0  1213.0             29.0   \n",
      "1  1992-12-01 00:00:00.000000  1855.0   26.0  1524.0             29.0   \n",
      "2  1951-05-01 00:00:00.000000   716.0   71.0   798.0             34.0   \n",
      "3  1946-03-01 00:00:00.000000   796.0   92.0   780.0             97.0   \n",
      "4  1975-07-01 00:00:00.000000  1916.0   77.0   817.0             32.0   \n",
      "5  1977-06-01 00:00:00.000000  2182.0   66.0  1022.0             29.0   \n",
      "6  1992-09-01 00:00:00.000000  1996.0   23.0  1511.0             30.0   \n",
      "7  1983-01-01 00:00:00.000000  1928.0   34.0  1159.0             30.0   \n",
      "8  1994-06-01 00:00:00.000000  2156.0   24.0  1411.0             24.0   \n",
      "9  1949-10-01 00:00:00.000000   772.0  120.0   764.0             56.0   \n",
      "\n",
      "   broilers other_chicken  turkey  \n",
      "0    1368.0          None   298.3  \n",
      "1    1817.8          None   393.1  \n",
      "2       NaN          None     NaN  \n",
      "3       NaN          None     NaN  \n",
      "4     714.2          None   193.2  \n",
      "5     843.7          None   176.5  \n",
      "6    1803.5          None   431.3  \n",
      "7    1021.0          None   144.1  \n",
      "8    2073.3          None   457.9  \n",
      "9       NaN          None     NaN  \n"
     ]
    }
   ],
   "source": [
    "# Since pandasql is powered by SQLite3, you can do most anything you can do in SQL. Here are some examples using common SQL features such as subqueries, order by, functions, and unions.\n",
    "\n",
    "#################################################\n",
    "# SQL FUNCTIONS\n",
    "# e.g. `RANDOM()`\n",
    "#################################################\n",
    "\n",
    "q = \"\"\"\n",
    "SELECT *\n",
    "FROM meat\n",
    "ORDER BY RANDOM()\n",
    "LIMIT 10;\"\"\"\n",
    "\n",
    "print(pysqldf(q))\n"
   ]
  },
  {
   "cell_type": "code",
   "execution_count": 85,
   "metadata": {},
   "outputs": [
    {
     "name": "stdout",
     "output_type": "stream",
     "text": [
      "                          date        meat_type   value\n",
      "0   1944-01-01 00:00:00.000000             beef   751.0\n",
      "1   1944-01-01 00:00:00.000000             veal    85.0\n",
      "2   1944-01-01 00:00:00.000000             pork  1280.0\n",
      "3   1944-01-01 00:00:00.000000  lamb_and_mutton    89.0\n",
      "4   1944-02-01 00:00:00.000000             beef   713.0\n",
      "5   1944-02-01 00:00:00.000000             veal    77.0\n",
      "6   1944-02-01 00:00:00.000000             pork  1169.0\n",
      "7   1944-02-01 00:00:00.000000  lamb_and_mutton    72.0\n",
      "8   1944-03-01 00:00:00.000000             beef   741.0\n",
      "9   1944-03-01 00:00:00.000000             veal    90.0\n",
      "10  1944-03-01 00:00:00.000000             pork  1128.0\n",
      "11  1944-03-01 00:00:00.000000  lamb_and_mutton    75.0\n",
      "12  1944-04-01 00:00:00.000000             beef   650.0\n",
      "13  1944-04-01 00:00:00.000000             veal    89.0\n",
      "14  1944-04-01 00:00:00.000000             pork   978.0\n",
      "15  1944-04-01 00:00:00.000000  lamb_and_mutton    66.0\n",
      "16  1944-05-01 00:00:00.000000             beef   681.0\n",
      "17  1944-05-01 00:00:00.000000             veal   106.0\n",
      "18  1944-05-01 00:00:00.000000             pork  1029.0\n",
      "19  1944-05-01 00:00:00.000000  lamb_and_mutton    78.0\n"
     ]
    }
   ],
   "source": [
    "#################################################\n",
    "# UNION ALL\n",
    "#################################################\n",
    "\n",
    "q = \"\"\"\n",
    "SELECT\n",
    "date, \n",
    "'beef' AS meat_type, \n",
    "beef AS value\n",
    "FROM meat\n",
    "\n",
    "UNION ALL\n",
    "\n",
    "SELECT\n",
    "date, \n",
    "'veal' AS meat_type, \n",
    "veal AS value\n",
    "FROM meat\n",
    "\n",
    "UNION ALL\n",
    "\n",
    "SELECT\n",
    "date, \n",
    "'pork' AS meat_type, \n",
    "pork AS value\n",
    "FROM meat\n",
    "\n",
    "UNION ALL\n",
    "\n",
    "SELECT\n",
    "date, \n",
    "'lamb_and_mutton' AS meat_type, lamb_and_mutton AS value\n",
    "FROM meat\n",
    "\n",
    "ORDER BY 1\n",
    "\"\"\"\n",
    "\n",
    "print(pysqldf(q).head(20))\n"
   ]
  },
  {
   "cell_type": "code",
   "execution_count": 86,
   "metadata": {},
   "outputs": [
    {
     "name": "stdout",
     "output_type": "stream",
     "text": [
      "                         date    beef\n",
      "0  1960-01-01 00:00:00.000000  1196.0\n",
      "1  1960-02-01 00:00:00.000000  1089.0\n",
      "2  1960-03-01 00:00:00.000000  1201.0\n",
      "3  1960-04-01 00:00:00.000000  1066.0\n",
      "4  1960-05-01 00:00:00.000000  1202.0\n",
      "5  1960-06-01 00:00:00.000000  1247.0\n",
      "6  1960-07-01 00:00:00.000000  1166.0\n",
      "7  1960-08-01 00:00:00.000000  1307.0\n",
      "8  1960-09-01 00:00:00.000000  1298.0\n",
      "9  1960-10-01 00:00:00.000000  1263.0\n"
     ]
    }
   ],
   "source": [
    "#################################################\n",
    "# subqueries\n",
    "# fancy!\n",
    "#################################################\n",
    "\n",
    "q = \"\"\"\n",
    "SELECT m1.date, m1.beef\n",
    "FROM meat m1\n",
    "WHERE m1.date IN\n",
    "\n",
    "(SELECT date\n",
    "FROM meat\n",
    "WHERE beef >= broilers\n",
    "ORDER BY date)\n",
    "\"\"\"\n",
    "\n",
    "more_beef_than_broilers = pysqldf(q)\n",
    "print(more_beef_than_broilers.head(10))\n"
   ]
  },
  {
   "cell_type": "code",
   "execution_count": null,
   "metadata": {},
   "outputs": [],
   "source": []
  }
 ],
 "metadata": {
  "kernelspec": {
   "display_name": "Python 3",
   "language": "python",
   "name": "python3"
  },
  "language_info": {
   "codemirror_mode": {
    "name": "ipython",
    "version": 3
   },
   "file_extension": ".py",
   "mimetype": "text/x-python",
   "name": "python",
   "nbconvert_exporter": "python",
   "pygments_lexer": "ipython3",
   "version": "3.7.4"
  }
 },
 "nbformat": 4,
 "nbformat_minor": 2
}
