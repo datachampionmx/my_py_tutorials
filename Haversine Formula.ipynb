{
 "cells": [
  {
   "cell_type": "code",
   "execution_count": 3,
   "metadata": {},
   "outputs": [],
   "source": [
    "import numpy as np\n",
    "import pandas as pd\n",
    "import geopandas as gpd #conda install geopandas\n",
    "import matplotlib.pyplot as plt\n",
    "#import folium \n",
    "#from shapely.ops import nearest_points\n",
    "#from shapely.geometry import LineString, Point, box\n",
    "#from pyproj import Proj\n",
    "\n",
    "from haversine import haversine"
   ]
  },
  {
   "cell_type": "markdown",
   "metadata": {},
   "source": [
    "### Origen"
   ]
  },
  {
   "cell_type": "code",
   "execution_count": 103,
   "metadata": {},
   "outputs": [
    {
     "data": {
      "text/html": [
       "<div>\n",
       "<style scoped>\n",
       "    .dataframe tbody tr th:only-of-type {\n",
       "        vertical-align: middle;\n",
       "    }\n",
       "\n",
       "    .dataframe tbody tr th {\n",
       "        vertical-align: top;\n",
       "    }\n",
       "\n",
       "    .dataframe thead th {\n",
       "        text-align: right;\n",
       "    }\n",
       "</style>\n",
       "<table border=\"1\" class=\"dataframe\">\n",
       "  <thead>\n",
       "    <tr style=\"text-align: right;\">\n",
       "      <th></th>\n",
       "      <th>id</th>\n",
       "      <th>coordinates</th>\n",
       "    </tr>\n",
       "  </thead>\n",
       "  <tbody>\n",
       "    <tr>\n",
       "      <td>0</td>\n",
       "      <td>0</td>\n",
       "      <td>(29.51640074670979, -176.22571400377703)</td>\n",
       "    </tr>\n",
       "    <tr>\n",
       "      <td>1</td>\n",
       "      <td>1</td>\n",
       "      <td>(-40.462646410948736, 138.95444059862143)</td>\n",
       "    </tr>\n",
       "    <tr>\n",
       "      <td>2</td>\n",
       "      <td>2</td>\n",
       "      <td>(-29.137100477621118, 168.70703194886062)</td>\n",
       "    </tr>\n",
       "    <tr>\n",
       "      <td>3</td>\n",
       "      <td>3</td>\n",
       "      <td>(-83.19977982449845, -52.560288820380904)</td>\n",
       "    </tr>\n",
       "  </tbody>\n",
       "</table>\n",
       "</div>"
      ],
      "text/plain": [
       "   id                                coordinates\n",
       "0   0   (29.51640074670979, -176.22571400377703)\n",
       "1   1  (-40.462646410948736, 138.95444059862143)\n",
       "2   2  (-29.137100477621118, 168.70703194886062)\n",
       "3   3  (-83.19977982449845, -52.560288820380904)"
      ]
     },
     "execution_count": 103,
     "metadata": {},
     "output_type": "execute_result"
    }
   ],
   "source": [
    "length = 4\n",
    "df1 = pd.DataFrame({'id':np.arange(length), 'coordinates':tuple(zip(np.random.uniform(-90, 90, length), np.random.uniform(-180, 180, length)))})\n",
    "df1#.head()"
   ]
  },
  {
   "cell_type": "markdown",
   "metadata": {},
   "source": [
    "### Destino"
   ]
  },
  {
   "cell_type": "code",
   "execution_count": 102,
   "metadata": {},
   "outputs": [
    {
     "data": {
      "text/html": [
       "<div>\n",
       "<style scoped>\n",
       "    .dataframe tbody tr th:only-of-type {\n",
       "        vertical-align: middle;\n",
       "    }\n",
       "\n",
       "    .dataframe tbody tr th {\n",
       "        vertical-align: top;\n",
       "    }\n",
       "\n",
       "    .dataframe thead th {\n",
       "        text-align: right;\n",
       "    }\n",
       "</style>\n",
       "<table border=\"1\" class=\"dataframe\">\n",
       "  <thead>\n",
       "    <tr style=\"text-align: right;\">\n",
       "      <th></th>\n",
       "      <th>id</th>\n",
       "      <th>coordinates</th>\n",
       "    </tr>\n",
       "  </thead>\n",
       "  <tbody>\n",
       "    <tr>\n",
       "      <td>0</td>\n",
       "      <td>0</td>\n",
       "      <td>(28.319611727319653, 55.11047323663183)</td>\n",
       "    </tr>\n",
       "    <tr>\n",
       "      <td>1</td>\n",
       "      <td>1</td>\n",
       "      <td>(13.285806572724553, -131.5397126281158)</td>\n",
       "    </tr>\n",
       "    <tr>\n",
       "      <td>2</td>\n",
       "      <td>2</td>\n",
       "      <td>(59.49466580502141, 106.96862206813427)</td>\n",
       "    </tr>\n",
       "    <tr>\n",
       "      <td>3</td>\n",
       "      <td>3</td>\n",
       "      <td>(80.27823208332694, -49.611022618597616)</td>\n",
       "    </tr>\n",
       "    <tr>\n",
       "      <td>4</td>\n",
       "      <td>4</td>\n",
       "      <td>(27.56304356296451, -41.57833897835778)</td>\n",
       "    </tr>\n",
       "    <tr>\n",
       "      <td>5</td>\n",
       "      <td>5</td>\n",
       "      <td>(40.54453975994193, 149.42195485109363)</td>\n",
       "    </tr>\n",
       "  </tbody>\n",
       "</table>\n",
       "</div>"
      ],
      "text/plain": [
       "   id                               coordinates\n",
       "0   0   (28.319611727319653, 55.11047323663183)\n",
       "1   1  (13.285806572724553, -131.5397126281158)\n",
       "2   2   (59.49466580502141, 106.96862206813427)\n",
       "3   3  (80.27823208332694, -49.611022618597616)\n",
       "4   4   (27.56304356296451, -41.57833897835778)\n",
       "5   5   (40.54453975994193, 149.42195485109363)"
      ]
     },
     "execution_count": 102,
     "metadata": {},
     "output_type": "execute_result"
    }
   ],
   "source": [
    "length = 6\n",
    "df2 = pd.DataFrame({'id':np.arange(length), 'coordinates':tuple(zip(np.random.uniform(-90, 90, length), np.random.uniform(-180, 180, length)))})\n",
    "df2#.head()"
   ]
  },
  {
   "cell_type": "code",
   "execution_count": 105,
   "metadata": {},
   "outputs": [
    {
     "data": {
      "text/plain": [
       "((4, 2), (6, 2))"
      ]
     },
     "execution_count": 105,
     "metadata": {},
     "output_type": "execute_result"
    }
   ],
   "source": [
    "df1.shape, df2.shape"
   ]
  },
  {
   "cell_type": "code",
   "execution_count": 107,
   "metadata": {},
   "outputs": [
    {
     "data": {
      "text/plain": [
       "(pandas.core.frame.DataFrame, pandas.core.frame.DataFrame)"
      ]
     },
     "execution_count": 107,
     "metadata": {},
     "output_type": "execute_result"
    }
   ],
   "source": [
    "type(df1), type(df2)"
   ]
  },
  {
   "cell_type": "code",
   "execution_count": 111,
   "metadata": {},
   "outputs": [
    {
     "name": "stdout",
     "output_type": "stream",
     "text": [
      "<class 'tuple'>\n",
      "<class 'tuple'>\n",
      "<class 'tuple'>\n",
      "<class 'tuple'>\n"
     ]
    }
   ],
   "source": [
    "for i in df1['coordinates']:\n",
    "    print(type(i))"
   ]
  },
  {
   "cell_type": "code",
   "execution_count": 112,
   "metadata": {},
   "outputs": [
    {
     "name": "stdout",
     "output_type": "stream",
     "text": [
      "<class 'tuple'>\n",
      "<class 'tuple'>\n",
      "<class 'tuple'>\n",
      "<class 'tuple'>\n",
      "<class 'tuple'>\n",
      "<class 'tuple'>\n"
     ]
    }
   ],
   "source": [
    "for i in df2['coordinates']:\n",
    "    print(type(i))"
   ]
  },
  {
   "cell_type": "code",
   "execution_count": 123,
   "metadata": {},
   "outputs": [],
   "source": [
    "from haversine import haversine"
   ]
  },
  {
   "cell_type": "code",
   "execution_count": 132,
   "metadata": {},
   "outputs": [
    {
     "name": "stdout",
     "output_type": "stream",
     "text": [
      "(29.51640074670979, -176.22571400377703) (28.319611727319653, 55.11047323663183)\n",
      "(29.51640074670979, -176.22571400377703) (13.285806572724553, -131.5397126281158)\n",
      "(29.51640074670979, -176.22571400377703) (59.49466580502141, 106.96862206813427)\n",
      "(29.51640074670979, -176.22571400377703) (80.27823208332694, -49.611022618597616)\n",
      "(29.51640074670979, -176.22571400377703) (27.56304356296451, -41.57833897835778)\n",
      "(29.51640074670979, -176.22571400377703) (40.54453975994193, 149.42195485109363)\n",
      "(-40.462646410948736, 138.95444059862143) (28.319611727319653, 55.11047323663183)\n",
      "(-40.462646410948736, 138.95444059862143) (13.285806572724553, -131.5397126281158)\n",
      "(-40.462646410948736, 138.95444059862143) (59.49466580502141, 106.96862206813427)\n",
      "(-40.462646410948736, 138.95444059862143) (80.27823208332694, -49.611022618597616)\n",
      "(-40.462646410948736, 138.95444059862143) (27.56304356296451, -41.57833897835778)\n",
      "(-40.462646410948736, 138.95444059862143) (40.54453975994193, 149.42195485109363)\n",
      "(-29.137100477621118, 168.70703194886062) (28.319611727319653, 55.11047323663183)\n",
      "(-29.137100477621118, 168.70703194886062) (13.285806572724553, -131.5397126281158)\n",
      "(-29.137100477621118, 168.70703194886062) (59.49466580502141, 106.96862206813427)\n",
      "(-29.137100477621118, 168.70703194886062) (80.27823208332694, -49.611022618597616)\n",
      "(-29.137100477621118, 168.70703194886062) (27.56304356296451, -41.57833897835778)\n",
      "(-29.137100477621118, 168.70703194886062) (40.54453975994193, 149.42195485109363)\n",
      "(-83.19977982449845, -52.560288820380904) (28.319611727319653, 55.11047323663183)\n",
      "(-83.19977982449845, -52.560288820380904) (13.285806572724553, -131.5397126281158)\n",
      "(-83.19977982449845, -52.560288820380904) (59.49466580502141, 106.96862206813427)\n",
      "(-83.19977982449845, -52.560288820380904) (80.27823208332694, -49.611022618597616)\n",
      "(-83.19977982449845, -52.560288820380904) (27.56304356296451, -41.57833897835778)\n",
      "(-83.19977982449845, -52.560288820380904) (40.54453975994193, 149.42195485109363)\n"
     ]
    }
   ],
   "source": [
    " for i in df1['coordinates']:\n",
    "    for j in df2['coordinates']:\n",
    "        print(i,j)"
   ]
  },
  {
   "cell_type": "code",
   "execution_count": 137,
   "metadata": {},
   "outputs": [
    {
     "name": "stdout",
     "output_type": "stream",
     "text": [
      "11583.711242990366\n",
      "4928.98382138118\n",
      "6483.910440292322\n",
      "7399.999428291462\n",
      "12043.52749100721\n",
      "3333.683298371928\n",
      "11525.646944929515\n",
      "10920.127649525051\n",
      "11496.270367658217\n",
      "15573.578444975821\n",
      "18579.910132946097\n",
      "9069.616007239209\n",
      "13632.539734288715\n",
      "7957.114132888449\n",
      "11352.663627770275\n",
      "14072.584899102996\n",
      "17054.372183220923\n",
      "7999.5153778506765\n",
      "13363.237436766922\n",
      "11330.508941832197\n",
      "17319.702759757223\n",
      "18178.544048511423\n",
      "12329.38352906635\n",
      "15210.873729526995\n"
     ]
    }
   ],
   "source": [
    " for i in df1['coordinates']:\n",
    "    for j in df2['coordinates']:\n",
    "        print(haversine(i,j))"
   ]
  },
  {
   "cell_type": "code",
   "execution_count": null,
   "metadata": {},
   "outputs": [],
   "source": []
  },
  {
   "cell_type": "code",
   "execution_count": 206,
   "metadata": {},
   "outputs": [
    {
     "name": "stdout",
     "output_type": "stream",
     "text": [
      "['11583.711242990366', '4928.98382138118', '6483.910440292322', '7399.999428291462', '12043.52749100721', '3333.683298371928', '11525.646944929515', '10920.127649525051', '11496.270367658217', '15573.578444975821', '18579.910132946097', '9069.616007239209', '13632.539734288715', '7957.114132888449', '11352.663627770275', '14072.584899102996', '17054.372183220923', '7999.5153778506765', '13363.237436766922', '11330.508941832197', '17319.702759757223', '18178.544048511423', '12329.38352906635', '15210.873729526995']\n"
     ]
    }
   ],
   "source": [
    "dist = []\n",
    "\n",
    "for i in df1['coordinates']:\n",
    "    for j in df2['coordinates']:\n",
    "        dist.append(str(haversine(i,j)))\n",
    "print(dist)"
   ]
  },
  {
   "cell_type": "code",
   "execution_count": 207,
   "metadata": {},
   "outputs": [
    {
     "name": "stdout",
     "output_type": "stream",
     "text": [
      "1 11583.711242990366\n",
      "2 4928.98382138118\n",
      "3 6483.910440292322\n",
      "4 7399.999428291462\n",
      "5 12043.52749100721\n",
      "6 3333.683298371928\n",
      "7 11525.646944929515\n",
      "8 10920.127649525051\n",
      "9 11496.270367658217\n",
      "10 15573.578444975821\n",
      "11 18579.910132946097\n",
      "12 9069.616007239209\n",
      "13 13632.539734288715\n",
      "14 7957.114132888449\n",
      "15 11352.663627770275\n",
      "16 14072.584899102996\n",
      "17 17054.372183220923\n",
      "18 7999.5153778506765\n",
      "19 13363.237436766922\n",
      "20 11330.508941832197\n",
      "21 17319.702759757223\n",
      "22 18178.544048511423\n",
      "23 12329.38352906635\n",
      "24 15210.873729526995\n"
     ]
    }
   ],
   "source": [
    "for i in range(len(dist)):\n",
    "    print(i + 1, dist[i])"
   ]
  },
  {
   "cell_type": "code",
   "execution_count": 208,
   "metadata": {},
   "outputs": [
    {
     "name": "stdout",
     "output_type": "stream",
     "text": [
      "['00', '01', '02', '03', '04', '05', '10', '11', '12', '13', '14', '15', '20', '21', '22', '23', '24', '25', '30', '31', '32', '33', '34', '35']\n"
     ]
    }
   ],
   "source": [
    "pairs = []\n",
    "\n",
    "for i in df1['id']:\n",
    "    for j in df2['id']:\n",
    "        pairs.append(str(i)+str(j))\n",
    "print(pairs)"
   ]
  },
  {
   "cell_type": "code",
   "execution_count": 209,
   "metadata": {},
   "outputs": [
    {
     "data": {
      "text/plain": [
       "(list, 24, list, 24)"
      ]
     },
     "execution_count": 209,
     "metadata": {},
     "output_type": "execute_result"
    }
   ],
   "source": [
    "type(pairs), len(pairs), type(dist), len(dist)"
   ]
  },
  {
   "cell_type": "code",
   "execution_count": 210,
   "metadata": {},
   "outputs": [],
   "source": [
    "#dist = pd.DataFrame()"
   ]
  },
  {
   "cell_type": "code",
   "execution_count": 211,
   "metadata": {},
   "outputs": [
    {
     "data": {
      "text/html": [
       "<div>\n",
       "<style scoped>\n",
       "    .dataframe tbody tr th:only-of-type {\n",
       "        vertical-align: middle;\n",
       "    }\n",
       "\n",
       "    .dataframe tbody tr th {\n",
       "        vertical-align: top;\n",
       "    }\n",
       "\n",
       "    .dataframe thead th {\n",
       "        text-align: right;\n",
       "    }\n",
       "</style>\n",
       "<table border=\"1\" class=\"dataframe\">\n",
       "  <thead>\n",
       "    <tr style=\"text-align: right;\">\n",
       "      <th></th>\n",
       "      <th>0</th>\n",
       "    </tr>\n",
       "  </thead>\n",
       "  <tbody>\n",
       "    <tr>\n",
       "      <td>00</td>\n",
       "      <td>11583.711242990366</td>\n",
       "    </tr>\n",
       "    <tr>\n",
       "      <td>01</td>\n",
       "      <td>4928.98382138118</td>\n",
       "    </tr>\n",
       "    <tr>\n",
       "      <td>02</td>\n",
       "      <td>6483.910440292322</td>\n",
       "    </tr>\n",
       "    <tr>\n",
       "      <td>03</td>\n",
       "      <td>7399.999428291462</td>\n",
       "    </tr>\n",
       "    <tr>\n",
       "      <td>04</td>\n",
       "      <td>12043.52749100721</td>\n",
       "    </tr>\n",
       "  </tbody>\n",
       "</table>\n",
       "</div>"
      ],
      "text/plain": [
       "                     0\n",
       "00  11583.711242990366\n",
       "01    4928.98382138118\n",
       "02   6483.910440292322\n",
       "03   7399.999428291462\n",
       "04   12043.52749100721"
      ]
     },
     "execution_count": 211,
     "metadata": {},
     "output_type": "execute_result"
    }
   ],
   "source": [
    "dist = pd.DataFrame(dist, index = pairs) \n",
    "dist.head()"
   ]
  },
  {
   "cell_type": "code",
   "execution_count": 213,
   "metadata": {},
   "outputs": [
    {
     "data": {
      "text/plain": [
       "(24, 1)"
      ]
     },
     "execution_count": 213,
     "metadata": {},
     "output_type": "execute_result"
    }
   ],
   "source": [
    "dist.shape"
   ]
  },
  {
   "cell_type": "code",
   "execution_count": 214,
   "metadata": {},
   "outputs": [],
   "source": [
    "dist.to_csv('dist.csv')"
   ]
  },
  {
   "cell_type": "code",
   "execution_count": 212,
   "metadata": {},
   "outputs": [],
   "source": [
    "#WRONG\n",
    "#data = []\n",
    "#for i in pairs:\n",
    "#    for j in dist:\n",
    "#        data.append(str(i)+':'+str(j))\n",
    "#data\n",
    "#pairs.shape(), dist.shape()"
   ]
  },
  {
   "cell_type": "code",
   "execution_count": 21,
   "metadata": {},
   "outputs": [],
   "source": [
    "#haver_vec = np.vectorize(haversine, otypes=[np.int16])\n",
    "#distance = df.groupby('id').apply(lambda x: pd.Series(haver_vec(df.coordinates, x.coordinates)))"
   ]
  },
  {
   "cell_type": "code",
   "execution_count": 104,
   "metadata": {},
   "outputs": [],
   "source": [
    "#df1 = pd.DataFrame({'lat_long': [(25.99550273, 179.18526021), (76.24387873, -34.21956936), (-51.43773064, -113.93795667)]})\n",
    "#df1.head()"
   ]
  },
  {
   "cell_type": "code",
   "execution_count": 108,
   "metadata": {},
   "outputs": [],
   "source": [
    "#df2 = pd.DataFrame({'lat_long': [(22.89956242, 107.04009984), (-80.25375578, -92.05425401), (-0.81621289, -147.26962084), (0,0)]})\n",
    "#df2.head()"
   ]
  },
  {
   "cell_type": "code",
   "execution_count": 113,
   "metadata": {},
   "outputs": [],
   "source": [
    "# Set the tuples:\n",
    "#for i in df1.iloc[:,0]:\n",
    "#    for j in df2.iloc[:,0]:\n",
    "#        print(i,j)\n",
    "#        print(type(i),type(j))        "
   ]
  },
  {
   "cell_type": "code",
   "execution_count": 114,
   "metadata": {},
   "outputs": [],
   "source": [
    "#for i in df1['lat_long']:\n",
    "#    for j in df2['lat_long']:\n",
    "#        print((i,j))"
   ]
  },
  {
   "cell_type": "code",
   "execution_count": 115,
   "metadata": {},
   "outputs": [],
   "source": [
    "# method 1: iterate through rows\n",
    "#for i in df1['lat_long']:\n",
    "#    for j in df2['lat_long']:\n",
    "#        print(round(haversine(i,j),2))"
   ]
  },
  {
   "cell_type": "code",
   "execution_count": 116,
   "metadata": {},
   "outputs": [],
   "source": [
    "#print(df1[1:2])\n",
    "#print(df2[1:2])"
   ]
  },
  {
   "cell_type": "code",
   "execution_count": 62,
   "metadata": {},
   "outputs": [],
   "source": [
    "#haversine(df1[1:2], df2[1:2])"
   ]
  },
  {
   "cell_type": "code",
   "execution_count": 58,
   "metadata": {},
   "outputs": [],
   "source": [
    "# method 2: create one dataframe and then perform calculation\n",
    "#df1_dup = df1.append([df1]*(len(df2)-1), ignore_index=True)\n",
    "#df2_dup = df2.append([df2]*(len(df1)-1), ignore_index=True)\n",
    "\n",
    "#df1_dup.head()"
   ]
  },
  {
   "cell_type": "code",
   "execution_count": 57,
   "metadata": {},
   "outputs": [],
   "source": [
    "#df = pd.DataFrame({\n",
    "#    'lat_long_df1': df1_dup.sort_values('lat_long')['lat_long'],\n",
    "#    'lat_long_df2': df2_dup['lat_long']\n",
    "#})\n",
    "\n",
    "#print(df.apply(lambda x: haversine(x['lat_long_df1'], x['lat_long_df2']), axis=1))"
   ]
  },
  {
   "cell_type": "code",
   "execution_count": null,
   "metadata": {},
   "outputs": [],
   "source": [
    "#df['dist'] = haversine(df.lat1, df.lon1, df.lat2, df.lon2)"
   ]
  },
  {
   "cell_type": "code",
   "execution_count": null,
   "metadata": {},
   "outputs": [],
   "source": [
    "#my_df[\"dist\"] = my_df.apply(lambda row : haversine.haversine((row[\"lat1\"], row[\"lon1\"]),(row[\"lat2\"], row[\"lon2\"])), axis=1)"
   ]
  },
  {
   "cell_type": "markdown",
   "metadata": {},
   "source": [
    "### Loops"
   ]
  },
  {
   "cell_type": "code",
   "execution_count": null,
   "metadata": {},
   "outputs": [],
   "source": []
  },
  {
   "cell_type": "code",
   "execution_count": 85,
   "metadata": {},
   "outputs": [
    {
     "name": "stdout",
     "output_type": "stream",
     "text": [
      "d(H-1 , E-1) = 2\n",
      "d(H-1 , E-2) = 5\n",
      "d(H-1 , E-3) = 10\n",
      "d(H-2 , E-1) = 5\n",
      "d(H-2 , E-2) = 8\n",
      "d(H-2 , E-3) = 13\n"
     ]
    }
   ],
   "source": [
    "for x in range(1, 3):\n",
    "    for y in range(1, 4):\n",
    "        print('d(H-%d , E-%d) = %d' % (x, y, x*x + y*y))"
   ]
  },
  {
   "cell_type": "code",
   "execution_count": null,
   "metadata": {},
   "outputs": [],
   "source": []
  },
  {
   "cell_type": "code",
   "execution_count": null,
   "metadata": {},
   "outputs": [],
   "source": []
  },
  {
   "cell_type": "code",
   "execution_count": null,
   "metadata": {},
   "outputs": [],
   "source": []
  },
  {
   "cell_type": "code",
   "execution_count": null,
   "metadata": {},
   "outputs": [],
   "source": []
  }
 ],
 "metadata": {
  "kernelspec": {
   "display_name": "Python 3",
   "language": "python",
   "name": "python3"
  },
  "language_info": {
   "codemirror_mode": {
    "name": "ipython",
    "version": 3
   },
   "file_extension": ".py",
   "mimetype": "text/x-python",
   "name": "python",
   "nbconvert_exporter": "python",
   "pygments_lexer": "ipython3",
   "version": "3.7.4"
  }
 },
 "nbformat": 4,
 "nbformat_minor": 2
}
